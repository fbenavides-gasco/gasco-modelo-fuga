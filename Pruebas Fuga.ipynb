{
 "cells": [
  {
   "cell_type": "code",
   "execution_count": 1,
   "metadata": {},
   "outputs": [],
   "source": [
    "import pandas as pd"
   ]
  },
  {
   "cell_type": "code",
   "execution_count": 2,
   "metadata": {},
   "outputs": [],
   "source": [
    "#Conexion a GCP - BigQuery\n",
    "import pydata_google_auth\n",
    "from google.cloud import bigquery\n",
    "SCOPES = [\n",
    "    'https://www.googleapis.com/auth/cloud-platform',\n",
    "    'https://www.googleapis.com/auth/drive',\n",
    "]\n",
    "credentials = pydata_google_auth.get_user_credentials(\n",
    "    SCOPES,\n",
    "    auth_local_webserver=True,\n",
    ")\n",
    "client = bigquery.Client(project='gasco-analytics', credentials=credentials)"
   ]
  },
  {
   "cell_type": "code",
   "execution_count": 3,
   "metadata": {},
   "outputs": [],
   "source": [
    "query = \"\"\"\n",
    "SELECT *,\n",
    "CASE WHEN canales = 2 THEN 'ON-OFF'\n",
    "WHEN canales = 1 AND tipo_pedido = 'ONLINE' THEN 'ONLINE'\n",
    "WHEN canales = 1 AND tipo_pedido = 'OFFLINE' THEN 'OFFLINE'\n",
    "END tipo_pedido\n",
    "FROM (\n",
    "SELECT Telefono, AVG(dias_compra) promedio, stddev(dias_compra) des, COUNT(DISTINCT TIPO_PEDIDO_BIEN) canales, MAX(TIPO_PEDIDO_BIEN) tipo_pedido FROM (  \n",
    "\n",
    "SELECT *, \n",
    "DATE_DIFF(EXTRACT(DATE FROM createdat),LAG(EXTRACT(DATE FROM createdat)) OVER(PARTITION BY Telefono ORDER BY EXTRACT(DATE FROM createdat)), DAY) dias_compra FROM (\n",
    "SELECT * , \n",
    "CASE WHEN mes in (5,6,7,8,9) THEN total_kilos_pedido ELSE 0 END as TA,-- PEDIDOS TEMPORADA ALTA\n",
    "CASE \n",
    "--WHEN (mobile IS NOT NULL AND mobile != '000000000') AND customerNoIfOffline IS NOT NULL THEN mobile\n",
    "--WHEN (mobile IS NOT NULL AND mobile = '000000000') AND customerNoIfOffline IS NOT NULL THEN customerNoIfOffline\n",
    "WHEN tipo_pedido_bien = 'OFFLINE' THEN customerNoIfOffline\n",
    "WHEN tipo_pedido_bien = 'ONLINE' THEN mobile\n",
    "ELSE mobile END AS Telefono,\n",
    "\n",
    "FROM `gasco-analytics.gasco.pedidos_gasconnect_todos_javier`\n",
    "WHERE CAST(createdAt as DATE) >= DATE_SUB(DATE('2020-01-31'), INTERVAL 365 DAY) --SELECCIONA LOS PEDIDOS DE UN AÑO MOVIL\n",
    "AND status = 'COMPLETED'  --ESTADO DE PEDIDO COMPLETADO\n",
    "AND isAnulled IS NULL     --PEDIDO NO ANULADO\n",
    "--AND mobile IS NOT NULL    --TELEFONO NO NULO\n",
    "AND TIPO_PEDIDO_BIEN IN ('OFFLINE', 'ONLINE'))\n",
    ")\n",
    "\n",
    "GROUP BY Telefono \n",
    ")\n",
    "\n",
    "\"\"\"\n",
    "#project_id = 'gasco-analytics'\n",
    "#Clientes = pd.read_gbq(query, project_id = project_id)\n",
    "#Clientes.head()"
   ]
  },
  {
   "cell_type": "code",
   "execution_count": 4,
   "metadata": {},
   "outputs": [
    {
     "data": {
      "text/html": [
       "<div>\n",
       "<style scoped>\n",
       "    .dataframe tbody tr th:only-of-type {\n",
       "        vertical-align: middle;\n",
       "    }\n",
       "\n",
       "    .dataframe tbody tr th {\n",
       "        vertical-align: top;\n",
       "    }\n",
       "\n",
       "    .dataframe thead th {\n",
       "        text-align: right;\n",
       "    }\n",
       "</style>\n",
       "<table border=\"1\" class=\"dataframe\">\n",
       "  <thead>\n",
       "    <tr style=\"text-align: right;\">\n",
       "      <th></th>\n",
       "      <th>Telefono</th>\n",
       "      <th>promedio</th>\n",
       "      <th>des</th>\n",
       "      <th>canales</th>\n",
       "      <th>tipo_pedido</th>\n",
       "      <th>tipo_pedido_1</th>\n",
       "    </tr>\n",
       "  </thead>\n",
       "  <tbody>\n",
       "    <tr>\n",
       "      <th>0</th>\n",
       "      <td>931168895</td>\n",
       "      <td>49.555556</td>\n",
       "      <td>39.240002</td>\n",
       "      <td>2</td>\n",
       "      <td>ONLINE</td>\n",
       "      <td>ON-OFF</td>\n",
       "    </tr>\n",
       "    <tr>\n",
       "      <th>1</th>\n",
       "      <td>945513845</td>\n",
       "      <td>107.000000</td>\n",
       "      <td>82.891495</td>\n",
       "      <td>2</td>\n",
       "      <td>ONLINE</td>\n",
       "      <td>ON-OFF</td>\n",
       "    </tr>\n",
       "    <tr>\n",
       "      <th>2</th>\n",
       "      <td>965810178</td>\n",
       "      <td>10.063492</td>\n",
       "      <td>11.595151</td>\n",
       "      <td>2</td>\n",
       "      <td>ONLINE</td>\n",
       "      <td>ON-OFF</td>\n",
       "    </tr>\n",
       "    <tr>\n",
       "      <th>3</th>\n",
       "      <td>975672249</td>\n",
       "      <td>46.666667</td>\n",
       "      <td>20.428738</td>\n",
       "      <td>2</td>\n",
       "      <td>ONLINE</td>\n",
       "      <td>ON-OFF</td>\n",
       "    </tr>\n",
       "    <tr>\n",
       "      <th>4</th>\n",
       "      <td>989850862</td>\n",
       "      <td>29.250000</td>\n",
       "      <td>17.173138</td>\n",
       "      <td>2</td>\n",
       "      <td>ONLINE</td>\n",
       "      <td>ON-OFF</td>\n",
       "    </tr>\n",
       "  </tbody>\n",
       "</table>\n",
       "</div>"
      ],
      "text/plain": [
       "    Telefono    promedio        des  canales tipo_pedido tipo_pedido_1\n",
       "0  931168895   49.555556  39.240002        2      ONLINE        ON-OFF\n",
       "1  945513845  107.000000  82.891495        2      ONLINE        ON-OFF\n",
       "2  965810178   10.063492  11.595151        2      ONLINE        ON-OFF\n",
       "3  975672249   46.666667  20.428738        2      ONLINE        ON-OFF\n",
       "4  989850862   29.250000  17.173138        2      ONLINE        ON-OFF"
      ]
     },
     "execution_count": 4,
     "metadata": {},
     "output_type": "execute_result"
    }
   ],
   "source": [
    "query_job = client.query(query)  # API request\n",
    "#rows = query_job.result()  # Waits for query to finish\n",
    "df_transaccional = query_job.to_dataframe()\n",
    "df_transaccional.head(5)"
   ]
  },
  {
   "cell_type": "code",
   "execution_count": 5,
   "metadata": {
    "slideshow": {
     "slide_type": "-"
    }
   },
   "outputs": [
    {
     "data": {
      "text/plain": [
       "<matplotlib.axes._subplots.AxesSubplot at 0x160c296fe48>"
      ]
     },
     "execution_count": 5,
     "metadata": {},
     "output_type": "execute_result"
    },
    {
     "data": {
      "image/png": "[encoded data removed]",
      "text/plain": [
       "<Figure size 432x288 with 1 Axes>"
      ]
     },
     "metadata": {
      "needs_background": "light"
     },
     "output_type": "display_data"
    }
   ],
   "source": [
    "Clientes[['promedio']].plot.hist()"
   ]
  },
  {
   "cell_type": "code",
   "execution_count": 6,
   "metadata": {},
   "outputs": [
    {
     "data": {
      "text/plain": [
       "<matplotlib.axes._subplots.AxesSubplot at 0x160c2ad3c48>"
      ]
     },
     "execution_count": 6,
     "metadata": {},
     "output_type": "execute_result"
    },
    {
     "data": {
      "image/png": "[encoded data removed]",
      "text/plain": [
       "<Figure size 432x288 with 1 Axes>"
      ]
     },
     "metadata": {
      "needs_background": "light"
     },
     "output_type": "display_data"
    }
   ],
   "source": [
    "Clientes[['promedio']].boxplot()"
   ]
  },
  {
   "cell_type": "code",
   "execution_count": 9,
   "metadata": {},
   "outputs": [
    {
     "name": "stdout",
     "output_type": "stream",
     "text": [
      "711651\n"
     ]
    },
    {
     "data": {
      "text/plain": [
       "promedio    352780\n",
       "dtype: int64"
      ]
     },
     "execution_count": 9,
     "metadata": {},
     "output_type": "execute_result"
    }
   ],
   "source": [
    "print(Clientes.shape[0])\n",
    "Clientes[['promedio']].isna().sum()"
   ]
  },
  {
   "cell_type": "markdown",
   "metadata": {},
   "source": [
    "De un total de 711651 telefonos unicos que han comprado envasado (Linea 800 y Gasconnect) durante el ultimo año, un total de 352780 corresponde a clientes que han comprado una sola vez."
   ]
  },
  {
   "cell_type": "code",
   "execution_count": 14,
   "metadata": {},
   "outputs": [
    {
     "data": {
      "text/plain": [
       "<matplotlib.axes._subplots.AxesSubplot at 0x160e5eb30c8>"
      ]
     },
     "execution_count": 14,
     "metadata": {},
     "output_type": "execute_result"
    },
    {
     "data": {
      "image/png": "[encoded data removed]",
      "text/plain": [
       "<Figure size 432x288 with 1 Axes>"
      ]
     },
     "metadata": {
      "needs_background": "light"
     },
     "output_type": "display_data"
    }
   ],
   "source": [
    "import seaborn as sns\n",
    "sns.boxplot(y = 'promedio',x = 'tipo_pedido_1', data = Clientes)"
   ]
  },
  {
   "cell_type": "code",
   "execution_count": 16,
   "metadata": {},
   "outputs": [
    {
     "name": "stderr",
     "output_type": "stream",
     "text": [
      "\n",
      "Downloading:   0%|                                                                        | 0/711651 [00:00<?, ?rows/s]\u001b[A\n",
      "Downloading:  23%|████████████▉                                           | 163816/711651 [00:15<00:52, 10371.03rows/s]\u001b[A\n",
      "Downloading:  23%|████████████▉                                           | 163816/711651 [00:31<00:52, 10371.03rows/s]\u001b[A\n",
      "Downloading:  46%|█████████████████████████▋                              | 326630/711651 [00:32<00:38, 10091.67rows/s]\u001b[A\n",
      "Downloading:  69%|███████████████████████████████████████▏                 | 489898/711651 [00:52<00:23, 9477.92rows/s]\u001b[A\n",
      "Downloading:  69%|███████████████████████████████████████▏                 | 489898/711651 [01:02<00:23, 9477.92rows/s]\u001b[A\n",
      "Downloading:  92%|████████████████████████████████████████████████████▍    | 653943/711651 [01:09<00:06, 9551.34rows/s]\u001b[A\n",
      "Downloading: 100%|█████████████████████████████████████████████████████████| 711651/711651 [01:16<00:00, 9256.20rows/s]\u001b[A\n"
     ]
    },
    {
     "data": {
      "text/html": [
       "<div>\n",
       "<style scoped>\n",
       "    .dataframe tbody tr th:only-of-type {\n",
       "        vertical-align: middle;\n",
       "    }\n",
       "\n",
       "    .dataframe tbody tr th {\n",
       "        vertical-align: top;\n",
       "    }\n",
       "\n",
       "    .dataframe thead th {\n",
       "        text-align: right;\n",
       "    }\n",
       "</style>\n",
       "<table border=\"1\" class=\"dataframe\">\n",
       "  <thead>\n",
       "    <tr style=\"text-align: right;\">\n",
       "      <th></th>\n",
       "      <th>Telefono</th>\n",
       "      <th>primera_compra</th>\n",
       "      <th>ultima_compra</th>\n",
       "      <th>pedidos</th>\n",
       "      <th>recencia</th>\n",
       "      <th>canales</th>\n",
       "      <th>ult_canal</th>\n",
       "    </tr>\n",
       "  </thead>\n",
       "  <tbody>\n",
       "    <tr>\n",
       "      <th>0</th>\n",
       "      <td>976888880</td>\n",
       "      <td>2019-06-23</td>\n",
       "      <td>2020-02-14</td>\n",
       "      <td>19</td>\n",
       "      <td>256</td>\n",
       "      <td>1</td>\n",
       "      <td>ONLINE</td>\n",
       "    </tr>\n",
       "    <tr>\n",
       "      <th>1</th>\n",
       "      <td>973012156</td>\n",
       "      <td>2018-03-25</td>\n",
       "      <td>2020-02-14</td>\n",
       "      <td>15</td>\n",
       "      <td>256</td>\n",
       "      <td>1</td>\n",
       "      <td>OFFLINE</td>\n",
       "    </tr>\n",
       "    <tr>\n",
       "      <th>2</th>\n",
       "      <td>962010980</td>\n",
       "      <td>2018-10-25</td>\n",
       "      <td>2020-02-14</td>\n",
       "      <td>19</td>\n",
       "      <td>256</td>\n",
       "      <td>1</td>\n",
       "      <td>ONLINE</td>\n",
       "    </tr>\n",
       "    <tr>\n",
       "      <th>3</th>\n",
       "      <td>227435226</td>\n",
       "      <td>2017-10-22</td>\n",
       "      <td>2020-02-14</td>\n",
       "      <td>20</td>\n",
       "      <td>256</td>\n",
       "      <td>1</td>\n",
       "      <td>OFFLINE</td>\n",
       "    </tr>\n",
       "    <tr>\n",
       "      <th>4</th>\n",
       "      <td>999178262</td>\n",
       "      <td>2018-02-16</td>\n",
       "      <td>2020-02-14</td>\n",
       "      <td>22</td>\n",
       "      <td>256</td>\n",
       "      <td>1</td>\n",
       "      <td>ONLINE</td>\n",
       "    </tr>\n",
       "  </tbody>\n",
       "</table>\n",
       "</div>"
      ],
      "text/plain": [
       "    Telefono primera_compra ultima_compra  pedidos  recencia  canales  \\\n",
       "0  976888880     2019-06-23    2020-02-14       19       256        1   \n",
       "1  973012156     2018-03-25    2020-02-14       15       256        1   \n",
       "2  962010980     2018-10-25    2020-02-14       19       256        1   \n",
       "3  227435226     2017-10-22    2020-02-14       20       256        1   \n",
       "4  999178262     2018-02-16    2020-02-14       22       256        1   \n",
       "\n",
       "  ult_canal  \n",
       "0    ONLINE  \n",
       "1   OFFLINE  \n",
       "2    ONLINE  \n",
       "3   OFFLINE  \n",
       "4    ONLINE  "
      ]
     },
     "execution_count": 16,
     "metadata": {},
     "output_type": "execute_result"
    }
   ],
   "source": [
    "query = \"\"\"\n",
    "\n",
    "SELECT Telefono, primera_compra, ultima_compra, pedidos, recencia, canales, TIPO_PEDIDO_BIEN as ult_canal\n",
    "FROM `gasco-analytics.gasco.Clasificacion_Clientes`\n",
    "WHERE CAST(ultima_compra as DATE) >= DATE_SUB(DATE('2020-01-31'), INTERVAL 365 DAY) --SELECCIONA LOS PEDIDOS DE UN AÑO MOVIL\n",
    "\"\"\"\n",
    "project_id = 'gasco-analytics'\n",
    "clasificacion = pd.read_gbq(query, project_id = project_id)\n",
    "clasificacion.head()"
   ]
  },
  {
   "cell_type": "code",
   "execution_count": 19,
   "metadata": {},
   "outputs": [
    {
     "data": {
      "text/plain": [
       "<matplotlib.axes._subplots.AxesSubplot at 0x160ebbbe7c8>"
      ]
     },
     "execution_count": 19,
     "metadata": {},
     "output_type": "execute_result"
    },
    {
     "data": {
      "image/png": "[encoded data removed]",
      "text/plain": [
       "<Figure size 432x288 with 1 Axes>"
      ]
     },
     "metadata": {
      "needs_background": "light"
     },
     "output_type": "display_data"
    }
   ],
   "source": [
    "a = clasificacion.groupby(['recencia','ult_canal']).count().reset_index()\n",
    "sns.lineplot( x = 'recencia', y = 'Telefono', data = a, hue = 'ult_canal')"
   ]
  },
  {
   "cell_type": "code",
   "execution_count": 21,
   "metadata": {},
   "outputs": [
    {
     "data": {
      "text/html": [
       "<div>\n",
       "<style scoped>\n",
       "    .dataframe tbody tr th:only-of-type {\n",
       "        vertical-align: middle;\n",
       "    }\n",
       "\n",
       "    .dataframe tbody tr th {\n",
       "        vertical-align: top;\n",
       "    }\n",
       "\n",
       "    .dataframe thead th {\n",
       "        text-align: right;\n",
       "    }\n",
       "</style>\n",
       "<table border=\"1\" class=\"dataframe\">\n",
       "  <thead>\n",
       "    <tr style=\"text-align: right;\">\n",
       "      <th></th>\n",
       "      <th>Telefono</th>\n",
       "      <th>promedio</th>\n",
       "      <th>des</th>\n",
       "      <th>canales_x</th>\n",
       "      <th>tipo_pedido</th>\n",
       "      <th>tipo_pedido_1</th>\n",
       "      <th>primera_compra</th>\n",
       "      <th>ultima_compra</th>\n",
       "      <th>pedidos</th>\n",
       "      <th>recencia</th>\n",
       "      <th>canales_y</th>\n",
       "      <th>ult_canal</th>\n",
       "    </tr>\n",
       "  </thead>\n",
       "  <tbody>\n",
       "    <tr>\n",
       "      <th>0</th>\n",
       "      <td>935054698</td>\n",
       "      <td>157.0000</td>\n",
       "      <td>181.019336</td>\n",
       "      <td>2</td>\n",
       "      <td>ONLINE</td>\n",
       "      <td>ON-OFF</td>\n",
       "      <td>2019-09-16</td>\n",
       "      <td>2020-07-26</td>\n",
       "      <td>3</td>\n",
       "      <td>93</td>\n",
       "      <td>2</td>\n",
       "      <td>ONLINE</td>\n",
       "    </tr>\n",
       "    <tr>\n",
       "      <th>1</th>\n",
       "      <td>946272711</td>\n",
       "      <td>4.4375</td>\n",
       "      <td>20.009348</td>\n",
       "      <td>2</td>\n",
       "      <td>ONLINE</td>\n",
       "      <td>ON-OFF</td>\n",
       "      <td>2019-03-21</td>\n",
       "      <td>2020-10-09</td>\n",
       "      <td>129</td>\n",
       "      <td>18</td>\n",
       "      <td>2</td>\n",
       "      <td>ONLINE</td>\n",
       "    </tr>\n",
       "    <tr>\n",
       "      <th>2</th>\n",
       "      <td>947800718</td>\n",
       "      <td>14.3750</td>\n",
       "      <td>12.304906</td>\n",
       "      <td>2</td>\n",
       "      <td>ONLINE</td>\n",
       "      <td>ON-OFF</td>\n",
       "      <td>2020-06-12</td>\n",
       "      <td>2020-10-05</td>\n",
       "      <td>9</td>\n",
       "      <td>22</td>\n",
       "      <td>2</td>\n",
       "      <td>OFFLINE</td>\n",
       "    </tr>\n",
       "    <tr>\n",
       "      <th>3</th>\n",
       "      <td>954120111</td>\n",
       "      <td>167.5000</td>\n",
       "      <td>207.182287</td>\n",
       "      <td>2</td>\n",
       "      <td>ONLINE</td>\n",
       "      <td>ON-OFF</td>\n",
       "      <td>2019-07-31</td>\n",
       "      <td>2020-06-30</td>\n",
       "      <td>3</td>\n",
       "      <td>119</td>\n",
       "      <td>2</td>\n",
       "      <td>OFFLINE</td>\n",
       "    </tr>\n",
       "    <tr>\n",
       "      <th>4</th>\n",
       "      <td>991287607</td>\n",
       "      <td>589.0000</td>\n",
       "      <td>NaN</td>\n",
       "      <td>2</td>\n",
       "      <td>ONLINE</td>\n",
       "      <td>ON-OFF</td>\n",
       "      <td>2018-12-16</td>\n",
       "      <td>2020-09-17</td>\n",
       "      <td>3</td>\n",
       "      <td>40</td>\n",
       "      <td>2</td>\n",
       "      <td>ONLINE</td>\n",
       "    </tr>\n",
       "  </tbody>\n",
       "</table>\n",
       "</div>"
      ],
      "text/plain": [
       "    Telefono  promedio         des  canales_x tipo_pedido tipo_pedido_1  \\\n",
       "0  935054698  157.0000  181.019336          2      ONLINE        ON-OFF   \n",
       "1  946272711    4.4375   20.009348          2      ONLINE        ON-OFF   \n",
       "2  947800718   14.3750   12.304906          2      ONLINE        ON-OFF   \n",
       "3  954120111  167.5000  207.182287          2      ONLINE        ON-OFF   \n",
       "4  991287607  589.0000         NaN          2      ONLINE        ON-OFF   \n",
       "\n",
       "  primera_compra ultima_compra  pedidos  recencia  canales_y ult_canal  \n",
       "0     2019-09-16    2020-07-26        3        93          2    ONLINE  \n",
       "1     2019-03-21    2020-10-09      129        18          2    ONLINE  \n",
       "2     2020-06-12    2020-10-05        9        22          2   OFFLINE  \n",
       "3     2019-07-31    2020-06-30        3       119          2   OFFLINE  \n",
       "4     2018-12-16    2020-09-17        3        40          2    ONLINE  "
      ]
     },
     "execution_count": 21,
     "metadata": {},
     "output_type": "execute_result"
    }
   ],
   "source": [
    "full = Clientes.merge(clasificacion, on = 'Telefono', how = 'inner')\n",
    "full.head(5)"
   ]
  },
  {
   "cell_type": "code",
   "execution_count": 22,
   "metadata": {},
   "outputs": [
    {
     "data": {
      "text/plain": [
       "<matplotlib.axes._subplots.AxesSubplot at 0x160ec040dc8>"
      ]
     },
     "execution_count": 22,
     "metadata": {},
     "output_type": "execute_result"
    },
    {
     "data": {
      "image/png": "[encoded data removed]",
      "text/plain": [
       "<Figure size 432x288 with 1 Axes>"
      ]
     },
     "metadata": {
      "needs_background": "light"
     },
     "output_type": "display_data"
    }
   ],
   "source": [
    "sns.scatterplot(x = 'promedio', y ='pedidos', data = full)"
   ]
  },
  {
   "cell_type": "code",
   "execution_count": 24,
   "metadata": {
    "scrolled": true
   },
   "outputs": [
    {
     "data": {
      "text/html": [
       "<div>\n",
       "<style scoped>\n",
       "    .dataframe tbody tr th:only-of-type {\n",
       "        vertical-align: middle;\n",
       "    }\n",
       "\n",
       "    .dataframe tbody tr th {\n",
       "        vertical-align: top;\n",
       "    }\n",
       "\n",
       "    .dataframe thead th {\n",
       "        text-align: right;\n",
       "    }\n",
       "</style>\n",
       "<table border=\"1\" class=\"dataframe\">\n",
       "  <thead>\n",
       "    <tr style=\"text-align: right;\">\n",
       "      <th></th>\n",
       "      <th>Telefono</th>\n",
       "      <th>promedio</th>\n",
       "      <th>des</th>\n",
       "      <th>canales_x</th>\n",
       "      <th>tipo_pedido</th>\n",
       "      <th>tipo_pedido_1</th>\n",
       "      <th>primera_compra</th>\n",
       "      <th>ultima_compra</th>\n",
       "      <th>pedidos</th>\n",
       "      <th>recencia</th>\n",
       "      <th>canales_y</th>\n",
       "      <th>ult_canal</th>\n",
       "    </tr>\n",
       "  </thead>\n",
       "  <tbody>\n",
       "    <tr>\n",
       "      <th>243</th>\n",
       "      <td>958681276</td>\n",
       "      <td>3.765101</td>\n",
       "      <td>21.903470</td>\n",
       "      <td>2</td>\n",
       "      <td>ONLINE</td>\n",
       "      <td>ON-OFF</td>\n",
       "      <td>2018-12-01</td>\n",
       "      <td>2020-08-20</td>\n",
       "      <td>270</td>\n",
       "      <td>68</td>\n",
       "      <td>2</td>\n",
       "      <td>ONLINE</td>\n",
       "    </tr>\n",
       "    <tr>\n",
       "      <th>742</th>\n",
       "      <td>933972746</td>\n",
       "      <td>1.795222</td>\n",
       "      <td>12.174490</td>\n",
       "      <td>2</td>\n",
       "      <td>ONLINE</td>\n",
       "      <td>ON-OFF</td>\n",
       "      <td>2019-05-19</td>\n",
       "      <td>2020-10-26</td>\n",
       "      <td>294</td>\n",
       "      <td>1</td>\n",
       "      <td>2</td>\n",
       "      <td>ONLINE</td>\n",
       "    </tr>\n",
       "    <tr>\n",
       "      <th>800</th>\n",
       "      <td>945797466</td>\n",
       "      <td>2.075314</td>\n",
       "      <td>3.889570</td>\n",
       "      <td>2</td>\n",
       "      <td>ONLINE</td>\n",
       "      <td>ON-OFF</td>\n",
       "      <td>2019-06-16</td>\n",
       "      <td>2020-10-24</td>\n",
       "      <td>240</td>\n",
       "      <td>3</td>\n",
       "      <td>2</td>\n",
       "      <td>ONLINE</td>\n",
       "    </tr>\n",
       "    <tr>\n",
       "      <th>902</th>\n",
       "      <td>None</td>\n",
       "      <td>0.199508</td>\n",
       "      <td>0.512212</td>\n",
       "      <td>2</td>\n",
       "      <td>ONLINE</td>\n",
       "      <td>ON-OFF</td>\n",
       "      <td>2017-04-21</td>\n",
       "      <td>2020-08-21</td>\n",
       "      <td>173572</td>\n",
       "      <td>67</td>\n",
       "      <td>2</td>\n",
       "      <td>None</td>\n",
       "    </tr>\n",
       "    <tr>\n",
       "      <th>5299</th>\n",
       "      <td>977067735</td>\n",
       "      <td>2.829146</td>\n",
       "      <td>4.692672</td>\n",
       "      <td>2</td>\n",
       "      <td>ONLINE</td>\n",
       "      <td>ON-OFF</td>\n",
       "      <td>2018-09-30</td>\n",
       "      <td>2020-08-22</td>\n",
       "      <td>205</td>\n",
       "      <td>66</td>\n",
       "      <td>2</td>\n",
       "      <td>ONLINE</td>\n",
       "    </tr>\n",
       "    <tr>\n",
       "      <th>...</th>\n",
       "      <td>...</td>\n",
       "      <td>...</td>\n",
       "      <td>...</td>\n",
       "      <td>...</td>\n",
       "      <td>...</td>\n",
       "      <td>...</td>\n",
       "      <td>...</td>\n",
       "      <td>...</td>\n",
       "      <td>...</td>\n",
       "      <td>...</td>\n",
       "      <td>...</td>\n",
       "      <td>...</td>\n",
       "    </tr>\n",
       "    <tr>\n",
       "      <th>434750</th>\n",
       "      <td>226369500</td>\n",
       "      <td>3.972789</td>\n",
       "      <td>5.143084</td>\n",
       "      <td>1</td>\n",
       "      <td>OFFLINE</td>\n",
       "      <td>OFFLINE</td>\n",
       "      <td>2017-10-23</td>\n",
       "      <td>2020-09-24</td>\n",
       "      <td>179</td>\n",
       "      <td>33</td>\n",
       "      <td>1</td>\n",
       "      <td>OFFLINE</td>\n",
       "    </tr>\n",
       "    <tr>\n",
       "      <th>442172</th>\n",
       "      <td>582221818</td>\n",
       "      <td>0.800797</td>\n",
       "      <td>1.520579</td>\n",
       "      <td>1</td>\n",
       "      <td>OFFLINE</td>\n",
       "      <td>OFFLINE</td>\n",
       "      <td>2019-09-04</td>\n",
       "      <td>2020-03-23</td>\n",
       "      <td>252</td>\n",
       "      <td>218</td>\n",
       "      <td>1</td>\n",
       "      <td>OFFLINE</td>\n",
       "    </tr>\n",
       "    <tr>\n",
       "      <th>473583</th>\n",
       "      <td>226944444</td>\n",
       "      <td>0.740472</td>\n",
       "      <td>1.070164</td>\n",
       "      <td>1</td>\n",
       "      <td>OFFLINE</td>\n",
       "      <td>OFFLINE</td>\n",
       "      <td>2019-09-12</td>\n",
       "      <td>2020-10-24</td>\n",
       "      <td>552</td>\n",
       "      <td>3</td>\n",
       "      <td>1</td>\n",
       "      <td>OFFLINE</td>\n",
       "    </tr>\n",
       "    <tr>\n",
       "      <th>521172</th>\n",
       "      <td>512759671</td>\n",
       "      <td>1.611940</td>\n",
       "      <td>1.228274</td>\n",
       "      <td>1</td>\n",
       "      <td>OFFLINE</td>\n",
       "      <td>OFFLINE</td>\n",
       "      <td>2018-01-18</td>\n",
       "      <td>2019-12-21</td>\n",
       "      <td>461</td>\n",
       "      <td>311</td>\n",
       "      <td>1</td>\n",
       "      <td>OFFLINE</td>\n",
       "    </tr>\n",
       "    <tr>\n",
       "      <th>620915</th>\n",
       "      <td>984584277</td>\n",
       "      <td>14.093023</td>\n",
       "      <td>22.933459</td>\n",
       "      <td>1</td>\n",
       "      <td>OFFLINE</td>\n",
       "      <td>OFFLINE</td>\n",
       "      <td>2017-06-15</td>\n",
       "      <td>2020-09-28</td>\n",
       "      <td>158</td>\n",
       "      <td>29</td>\n",
       "      <td>2</td>\n",
       "      <td>OFFLINE</td>\n",
       "    </tr>\n",
       "  </tbody>\n",
       "</table>\n",
       "<p>85 rows × 12 columns</p>\n",
       "</div>"
      ],
      "text/plain": [
       "         Telefono   promedio        des  canales_x tipo_pedido tipo_pedido_1  \\\n",
       "243     958681276   3.765101  21.903470          2      ONLINE        ON-OFF   \n",
       "742     933972746   1.795222  12.174490          2      ONLINE        ON-OFF   \n",
       "800     945797466   2.075314   3.889570          2      ONLINE        ON-OFF   \n",
       "902          None   0.199508   0.512212          2      ONLINE        ON-OFF   \n",
       "5299    977067735   2.829146   4.692672          2      ONLINE        ON-OFF   \n",
       "...           ...        ...        ...        ...         ...           ...   \n",
       "434750  226369500   3.972789   5.143084          1     OFFLINE       OFFLINE   \n",
       "442172  582221818   0.800797   1.520579          1     OFFLINE       OFFLINE   \n",
       "473583  226944444   0.740472   1.070164          1     OFFLINE       OFFLINE   \n",
       "521172  512759671   1.611940   1.228274          1     OFFLINE       OFFLINE   \n",
       "620915  984584277  14.093023  22.933459          1     OFFLINE       OFFLINE   \n",
       "\n",
       "       primera_compra ultima_compra  pedidos  recencia  canales_y ult_canal  \n",
       "243        2018-12-01    2020-08-20      270        68          2    ONLINE  \n",
       "742        2019-05-19    2020-10-26      294         1          2    ONLINE  \n",
       "800        2019-06-16    2020-10-24      240         3          2    ONLINE  \n",
       "902        2017-04-21    2020-08-21   173572        67          2      None  \n",
       "5299       2018-09-30    2020-08-22      205        66          2    ONLINE  \n",
       "...               ...           ...      ...       ...        ...       ...  \n",
       "434750     2017-10-23    2020-09-24      179        33          1   OFFLINE  \n",
       "442172     2019-09-04    2020-03-23      252       218          1   OFFLINE  \n",
       "473583     2019-09-12    2020-10-24      552         3          1   OFFLINE  \n",
       "521172     2018-01-18    2019-12-21      461       311          1   OFFLINE  \n",
       "620915     2017-06-15    2020-09-28      158        29          2   OFFLINE  \n",
       "\n",
       "[85 rows x 12 columns]"
      ]
     },
     "execution_count": 24,
     "metadata": {},
     "output_type": "execute_result"
    }
   ],
   "source": [
    "full[full['pedidos'] >150]"
   ]
  },
  {
   "cell_type": "markdown",
   "metadata": {},
   "source": [
    "SELECT Count(1) FROM `gasco.pedidos_gasconnect_todos_javier`   WHERE mobile IS NULL AND customerNoIfOffline IS NULL AND status = 'COMPLETED' AND isAnulled IS NULL AND TIPO_PEDIDO_BIEN IN ('ONLINE', 'OFFLINE')\n",
    "\n",
    "3340 registros sin número de teléfono"
   ]
  },
  {
   "cell_type": "code",
   "execution_count": null,
   "metadata": {},
   "outputs": [],
   "source": []
  }
 ],
 "metadata": {
  "kernelspec": {
   "display_name": "Python 3",
   "language": "python",
   "name": "python3"
  },
  "language_info": {
   "codemirror_mode": {
    "name": "ipython",
    "version": 3
   },
   "file_extension": ".py",
   "mimetype": "text/x-python",
   "name": "python",
   "nbconvert_exporter": "python",
   "pygments_lexer": "ipython3",
   "version": "3.8.3"
  }
 },
 "nbformat": 4,
 "nbformat_minor": 4
}
