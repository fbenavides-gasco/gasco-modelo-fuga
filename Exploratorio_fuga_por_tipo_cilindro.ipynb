{
 "cells": [
  {
   "cell_type": "markdown",
   "metadata": {},
   "source": [
    "# Explorando los datos transaccionales por formato de cilindro"
   ]
  },
  {
   "cell_type": "markdown",
   "metadata": {},
   "source": [
    "En este notebook nos concentraremos en obtener insigths del comportamiento de compra de los clientes para cada tipo de cilindro. Para comenzar nos concentraremos en los siguientes formatos:\n",
    "    1. CN11\n",
    "    2. CN15\n",
    "    3. CN02\n",
    "    4. CN05\n",
    "    5. CN45"
   ]
  },
  {
   "cell_type": "code",
   "execution_count": 1,
   "metadata": {},
   "outputs": [],
   "source": [
    "# Importamos librerias a utilizar\n",
    "import pandas as pd\n",
    "import numpy as np\n",
    "from datetime import date\n",
    "\n",
    "import matplotlib.pyplot as plt\n",
    "import seaborn as sns"
   ]
  },
  {
   "cell_type": "code",
   "execution_count": 2,
   "metadata": {},
   "outputs": [],
   "source": [
    "#Conexion a GCP - BigQuery\n",
    "import pydata_google_auth\n",
    "from google.cloud import bigquery\n",
    "SCOPES = [\n",
    "    'https://www.googleapis.com/auth/cloud-platform',\n",
    "    'https://www.googleapis.com/auth/drive',\n",
    "]\n",
    "credentials = pydata_google_auth.get_user_credentials(\n",
    "    SCOPES,\n",
    "    auth_local_webserver=True,\n",
    ")\n",
    "client = bigquery.Client(project='gasco-analytics', credentials=credentials)"
   ]
  },
  {
   "cell_type": "code",
   "execution_count": 3,
   "metadata": {},
   "outputs": [],
   "source": [
    "query_gasconnect = \"\"\"\n",
    "SELECT A.*,\n",
    "      CASE  WHEN A.n_canales = 2 THEN 'ON-OFF'\n",
    "            WHEN A.n_canales = 1 AND tipo_pedido = 'ONLINE' THEN 'ONLINE'\n",
    "            WHEN A.n_canales = 1 AND tipo_pedido = 'OFFLINE' THEN 'OFFLINE'\n",
    "      END AS TIPO_CLIENTE,\n",
    "      B.predict_estufa,\n",
    "      B.predict_parrilla,\n",
    "      B.predict_cocina,\n",
    "      B.predict_calefont\n",
    "FROM(\n",
    "    SELECT  ANIO,\n",
    "            MONTH,\n",
    "            CAST(TELEFONO AS INT64) AS TELEFONO,\n",
    "            key as FORMATO,\n",
    "            --SUM(IND_TA) AS PEDIDOS_TA,\n",
    "            -- SUM(KILOS_TA) AS KILOS_TA,\n",
    "            COUNT(DISTINCT createdAT) AS TOTAL_PEDIDOS,\n",
    "            --SUM(total_kilos_pedido) AS TOTAL_KILOS,\n",
    "            MIN(EXTRACT(DATE FROM createdAt)) AS FECHA_PRIMER_PEDIDO,\n",
    "            MAX(EXTRACT(DATE FROM createdAt)) AS FECHA_ULTIMO_PEDIDO,\n",
    "            AVG(dias_compra) AS frec_compra_promedio, \n",
    "            stddev(dias_compra) AS desv_frec_compra,\n",
    "            COUNT(DISTINCT TIPO_PEDIDO_BIEN) AS n_canales, \n",
    "            MAX(TIPO_PEDIDO_BIEN) AS tipo_pedido \n",
    "    FROM(\n",
    "        SELECT extract(YEAR FROM createdAT) as ANIO, \n",
    "               extract(MONTH FROM createdat) as MONTH,\n",
    "               *,\n",
    "               DATE_DIFF(EXTRACT(DATE FROM createdat),LAG(EXTRACT(DATE FROM createdat)) OVER(PARTITION BY Telefono,key ORDER BY EXTRACT(DATE FROM createdat)), DAY) AS dias_compra \n",
    "        FROM(\n",
    "        SELECT *, \n",
    "        FROM(\n",
    "                SELECT createdAt,\n",
    "                    TIPO_PEDIDO_BIEN,p_CN02,p_CN05,p_CN11,p_CN15,p_CN45,\n",
    "                    total_kilos_pedido,\n",
    "                    EXTRACT(YEAR FROM createdAt) AS YEAR,\n",
    "                    CASE WHEN mes in (5,6,7,8,9) THEN 1 ELSE 0 END AS IND_TA,\n",
    "                    CASE WHEN mes in (5,6,7,8,9) THEN total_kilos_pedido ELSE 0 END AS KILOS_TA,\n",
    "                    CASE WHEN tipo_pedido_bien = 'OFFLINE' THEN customerNoIfOffline\n",
    "                            WHEN tipo_pedido_bien = 'ONLINE' THEN mobile\n",
    "                            ELSE mobile END AS Telefono,\n",
    "                    CASE WHEN status = 'COMPLETED' THEN 'COMPLETADO' ELSE 'NO COMPLETADO' END AS ESTADO_PEDIDO,\n",
    "                    -------------------------------------------------------------------------------------------\n",
    "                FROM `gasco-analytics.gasco.pedidos_gasconnect_todos_javier` \n",
    "                WHERE CAST(createdAt as DATE) >= '2020-01-01' --SELECCIONA LOS PEDIDOS DE UN AÑO MOVIL\n",
    "                AND isAnulled IS NULL     --PEDIDO NO ANULADO\n",
    "                --AND mobile IS NOT NULL    --TELEFONO NO NULO\n",
    "                AND TIPO_PEDIDO_BIEN IN ('OFFLINE', 'ONLINE')\n",
    "        ) AS A\n",
    "        ,UNNEST(fhoffa.x.unpivot(A, 'p_CN')) unpivotted\n",
    "        )\n",
    "        WHERE CAST(value AS INT64) > 0\n",
    "        --AND TELEFONO = '937128357'\n",
    "    ) AS A\n",
    "    GROUP BY ANIO,MONTH,CAST(TELEFONO AS INT64),key\n",
    ") AS A\n",
    "\n",
    "LEFT JOIN `gasco-analytics.gasco_modelos.20210218_prediccion_modelo_uso_gas` AS B  \n",
    "ON(A.TELEFONO = B.telefono)\n",
    "\"\"\""
   ]
  },
  {
   "cell_type": "markdown",
   "metadata": {},
   "source": [
    "**Actualización de los datos: 2021-06-04**"
   ]
  },
  {
   "cell_type": "code",
   "execution_count": 4,
   "metadata": {},
   "outputs": [
    {
     "name": "stderr",
     "output_type": "stream",
     "text": [
      "C:\\Users\\fbenavides\\Anaconda3\\lib\\site-packages\\numpy\\lib\\arraysetops.py:569: FutureWarning: elementwise comparison failed; returning scalar instead, but in the future will perform elementwise comparison\n",
      "  mask |= (ar1 == a)\n"
     ]
    },
    {
     "data": {
      "text/html": [
       "<div>\n",
       "<style scoped>\n",
       "    .dataframe tbody tr th:only-of-type {\n",
       "        vertical-align: middle;\n",
       "    }\n",
       "\n",
       "    .dataframe tbody tr th {\n",
       "        vertical-align: top;\n",
       "    }\n",
       "\n",
       "    .dataframe thead th {\n",
       "        text-align: right;\n",
       "    }\n",
       "</style>\n",
       "<table border=\"1\" class=\"dataframe\">\n",
       "  <thead>\n",
       "    <tr style=\"text-align: right;\">\n",
       "      <th></th>\n",
       "      <th>ANIO</th>\n",
       "      <th>MONTH</th>\n",
       "      <th>TELEFONO</th>\n",
       "      <th>FORMATO</th>\n",
       "      <th>TOTAL_PEDIDOS</th>\n",
       "      <th>FECHA_PRIMER_PEDIDO</th>\n",
       "      <th>FECHA_ULTIMO_PEDIDO</th>\n",
       "      <th>frec_compra_promedio</th>\n",
       "      <th>desv_frec_compra</th>\n",
       "      <th>n_canales</th>\n",
       "      <th>tipo_pedido</th>\n",
       "      <th>TIPO_CLIENTE</th>\n",
       "      <th>predict_estufa</th>\n",
       "      <th>predict_parrilla</th>\n",
       "      <th>predict_cocina</th>\n",
       "      <th>predict_calefont</th>\n",
       "    </tr>\n",
       "  </thead>\n",
       "  <tbody>\n",
       "    <tr>\n",
       "      <th>0</th>\n",
       "      <td>2021</td>\n",
       "      <td>3</td>\n",
       "      <td>946951677.0</td>\n",
       "      <td>p_CN15</td>\n",
       "      <td>1</td>\n",
       "      <td>2021-03-06</td>\n",
       "      <td>2021-03-06</td>\n",
       "      <td>NaN</td>\n",
       "      <td>NaN</td>\n",
       "      <td>1</td>\n",
       "      <td>ONLINE</td>\n",
       "      <td>ONLINE</td>\n",
       "      <td>NaN</td>\n",
       "      <td>NaN</td>\n",
       "      <td>NaN</td>\n",
       "      <td>NaN</td>\n",
       "    </tr>\n",
       "    <tr>\n",
       "      <th>1</th>\n",
       "      <td>2020</td>\n",
       "      <td>2</td>\n",
       "      <td>957904165.0</td>\n",
       "      <td>p_CN15</td>\n",
       "      <td>1</td>\n",
       "      <td>2020-02-29</td>\n",
       "      <td>2020-02-29</td>\n",
       "      <td>NaN</td>\n",
       "      <td>NaN</td>\n",
       "      <td>1</td>\n",
       "      <td>OFFLINE</td>\n",
       "      <td>OFFLINE</td>\n",
       "      <td>0.0</td>\n",
       "      <td>0.0</td>\n",
       "      <td>1.0</td>\n",
       "      <td>1.0</td>\n",
       "    </tr>\n",
       "  </tbody>\n",
       "</table>\n",
       "</div>"
      ],
      "text/plain": [
       "   ANIO  MONTH     TELEFONO FORMATO  TOTAL_PEDIDOS FECHA_PRIMER_PEDIDO  \\\n",
       "0  2021      3  946951677.0  p_CN15              1          2021-03-06   \n",
       "1  2020      2  957904165.0  p_CN15              1          2020-02-29   \n",
       "\n",
       "  FECHA_ULTIMO_PEDIDO  frec_compra_promedio  desv_frec_compra  n_canales  \\\n",
       "0          2021-03-06                   NaN               NaN          1   \n",
       "1          2020-02-29                   NaN               NaN          1   \n",
       "\n",
       "  tipo_pedido TIPO_CLIENTE  predict_estufa  predict_parrilla  predict_cocina  \\\n",
       "0      ONLINE       ONLINE             NaN               NaN             NaN   \n",
       "1     OFFLINE      OFFLINE             0.0               0.0             1.0   \n",
       "\n",
       "   predict_calefont  \n",
       "0               NaN  \n",
       "1               1.0  "
      ]
     },
     "execution_count": 4,
     "metadata": {},
     "output_type": "execute_result"
    }
   ],
   "source": [
    "read_data = True\n",
    "if read_data:\n",
    "    df_anual = pd.read_csv('datos_exploratorio_fuga_formato.csv',sep = ';', index_col = 0)\n",
    "else:\n",
    "    query_job = client.query(query_gasconnect)  # API request\n",
    "    #rows = query_job.result()  # Waits for query to finish\n",
    "    df_anual = query_job.to_dataframe()\n",
    "\n",
    "    #guardamos como csv los datos\n",
    "    df_anual.to_csv('datos_exploratorio_fuga_formato.csv',sep = ';')\n",
    "\n",
    "df_anual.head(2)"
   ]
  },
  {
   "cell_type": "markdown",
   "metadata": {},
   "source": [
    "# Total de pedidos por formato"
   ]
  },
  {
   "cell_type": "code",
   "execution_count": 46,
   "metadata": {},
   "outputs": [
    {
     "data": {
      "text/html": [
       "<div>\n",
       "<style scoped>\n",
       "    .dataframe tbody tr th:only-of-type {\n",
       "        vertical-align: middle;\n",
       "    }\n",
       "\n",
       "    .dataframe tbody tr th {\n",
       "        vertical-align: top;\n",
       "    }\n",
       "\n",
       "    .dataframe thead th {\n",
       "        text-align: right;\n",
       "    }\n",
       "</style>\n",
       "<table border=\"1\" class=\"dataframe\">\n",
       "  <thead>\n",
       "    <tr style=\"text-align: right;\">\n",
       "      <th></th>\n",
       "      <th>ANIO</th>\n",
       "      <th>FORMATO</th>\n",
       "      <th>TELEFONO</th>\n",
       "      <th>TOTAL_PEDIDOS</th>\n",
       "    </tr>\n",
       "  </thead>\n",
       "  <tbody>\n",
       "    <tr>\n",
       "      <th>0</th>\n",
       "      <td>2020</td>\n",
       "      <td>p_CN02</td>\n",
       "      <td>153086680.0</td>\n",
       "      <td>1</td>\n",
       "    </tr>\n",
       "    <tr>\n",
       "      <th>1</th>\n",
       "      <td>2020</td>\n",
       "      <td>p_CN02</td>\n",
       "      <td>222013078.0</td>\n",
       "      <td>1</td>\n",
       "    </tr>\n",
       "  </tbody>\n",
       "</table>\n",
       "</div>"
      ],
      "text/plain": [
       "   ANIO FORMATO     TELEFONO  TOTAL_PEDIDOS\n",
       "0  2020  p_CN02  153086680.0              1\n",
       "1  2020  p_CN02  222013078.0              1"
      ]
     },
     "execution_count": 46,
     "metadata": {},
     "output_type": "execute_result"
    }
   ],
   "source": [
    "pedidos_clientes_2020 = df_anual[['ANIO','FORMATO','TOTAL_PEDIDOS','TELEFONO']]\n",
    "pedidos_clientes_2020 = pedidos_clientes_2020[pedidos_clientes_2020['ANIO'] == 2020]\n",
    "pedidos_clientes_2020 = pedidos_clientes_2020.groupby(['ANIO','FORMATO','TELEFONO']).sum().reset_index()\n",
    "\n",
    "pedidos_clientes_2020.head(2)"
   ]
  },
  {
   "cell_type": "code",
   "execution_count": 47,
   "metadata": {},
   "outputs": [
    {
     "data": {
      "text/html": [
       "<div>\n",
       "<style scoped>\n",
       "    .dataframe tbody tr th:only-of-type {\n",
       "        vertical-align: middle;\n",
       "    }\n",
       "\n",
       "    .dataframe tbody tr th {\n",
       "        vertical-align: top;\n",
       "    }\n",
       "\n",
       "    .dataframe thead th {\n",
       "        text-align: right;\n",
       "    }\n",
       "</style>\n",
       "<table border=\"1\" class=\"dataframe\">\n",
       "  <thead>\n",
       "    <tr style=\"text-align: right;\">\n",
       "      <th></th>\n",
       "      <th>ANIO</th>\n",
       "      <th>FORMATO</th>\n",
       "      <th>TELEFONO</th>\n",
       "      <th>TOTAL_PEDIDOS</th>\n",
       "    </tr>\n",
       "  </thead>\n",
       "  <tbody>\n",
       "    <tr>\n",
       "      <th>456775</th>\n",
       "      <td>2020</td>\n",
       "      <td>p_CN15</td>\n",
       "      <td>957904165.0</td>\n",
       "      <td>3</td>\n",
       "    </tr>\n",
       "  </tbody>\n",
       "</table>\n",
       "</div>"
      ],
      "text/plain": [
       "        ANIO FORMATO     TELEFONO  TOTAL_PEDIDOS\n",
       "456775  2020  p_CN15  957904165.0              3"
      ]
     },
     "execution_count": 47,
     "metadata": {},
     "output_type": "execute_result"
    }
   ],
   "source": [
    "pedidos_clientes_2020[pedidos_clientes_2020['TELEFONO'] == 957904165]"
   ]
  },
  {
   "cell_type": "code",
   "execution_count": 48,
   "metadata": {},
   "outputs": [
    {
     "data": {
      "text/html": [
       "<div>\n",
       "<style scoped>\n",
       "    .dataframe tbody tr th:only-of-type {\n",
       "        vertical-align: middle;\n",
       "    }\n",
       "\n",
       "    .dataframe tbody tr th {\n",
       "        vertical-align: top;\n",
       "    }\n",
       "\n",
       "    .dataframe thead th {\n",
       "        text-align: right;\n",
       "    }\n",
       "</style>\n",
       "<table border=\"1\" class=\"dataframe\">\n",
       "  <thead>\n",
       "    <tr style=\"text-align: right;\">\n",
       "      <th>FORMATO</th>\n",
       "      <th>ANIO</th>\n",
       "      <th>TELEFONO</th>\n",
       "      <th>p_CN02</th>\n",
       "      <th>p_CN05</th>\n",
       "      <th>p_CN11</th>\n",
       "      <th>p_CN15</th>\n",
       "      <th>p_CN45</th>\n",
       "    </tr>\n",
       "  </thead>\n",
       "  <tbody>\n",
       "    <tr>\n",
       "      <th>0</th>\n",
       "      <td>2020</td>\n",
       "      <td>99984.0</td>\n",
       "      <td>0</td>\n",
       "      <td>1</td>\n",
       "      <td>2</td>\n",
       "      <td>5</td>\n",
       "      <td>0</td>\n",
       "    </tr>\n",
       "    <tr>\n",
       "      <th>1</th>\n",
       "      <td>2020</td>\n",
       "      <td>2379421.0</td>\n",
       "      <td>0</td>\n",
       "      <td>0</td>\n",
       "      <td>2</td>\n",
       "      <td>0</td>\n",
       "      <td>0</td>\n",
       "    </tr>\n",
       "  </tbody>\n",
       "</table>\n",
       "</div>"
      ],
      "text/plain": [
       "FORMATO  ANIO   TELEFONO  p_CN02  p_CN05  p_CN11  p_CN15  p_CN45\n",
       "0        2020    99984.0       0       1       2       5       0\n",
       "1        2020  2379421.0       0       0       2       0       0"
      ]
     },
     "execution_count": 48,
     "metadata": {},
     "output_type": "execute_result"
    }
   ],
   "source": [
    "df_pedidos_sparse = pd.pivot_table(data   = df_anual,\n",
    "                           index   = ['ANIO','TELEFONO'],\n",
    "                           columns = 'FORMATO',\n",
    "                           values  = 'TOTAL_PEDIDOS',\n",
    "                           aggfunc = sum,\n",
    "                           fill_value = 0)\n",
    "df_pedidos_sparse.reset_index(inplace = True)\n",
    "\n",
    "df_pedidos_sparse_2020 = df_pedidos_sparse[df_pedidos_sparse.ANIO == 2020]\n",
    "df_pedidos_sparse_2020.head(2)"
   ]
  },
  {
   "cell_type": "code",
   "execution_count": 49,
   "metadata": {},
   "outputs": [
    {
     "data": {
      "text/html": [
       "<div>\n",
       "<style scoped>\n",
       "    .dataframe tbody tr th:only-of-type {\n",
       "        vertical-align: middle;\n",
       "    }\n",
       "\n",
       "    .dataframe tbody tr th {\n",
       "        vertical-align: top;\n",
       "    }\n",
       "\n",
       "    .dataframe thead th {\n",
       "        text-align: right;\n",
       "    }\n",
       "</style>\n",
       "<table border=\"1\" class=\"dataframe\">\n",
       "  <thead>\n",
       "    <tr style=\"text-align: right;\">\n",
       "      <th>FORMATO</th>\n",
       "      <th>ANIO</th>\n",
       "      <th>TELEFONO</th>\n",
       "      <th>p_CN02</th>\n",
       "      <th>p_CN05</th>\n",
       "      <th>p_CN11</th>\n",
       "      <th>p_CN15</th>\n",
       "      <th>p_CN45</th>\n",
       "    </tr>\n",
       "  </thead>\n",
       "  <tbody>\n",
       "    <tr>\n",
       "      <th>228788</th>\n",
       "      <td>2020</td>\n",
       "      <td>957904165.0</td>\n",
       "      <td>0</td>\n",
       "      <td>0</td>\n",
       "      <td>0</td>\n",
       "      <td>3</td>\n",
       "      <td>0</td>\n",
       "    </tr>\n",
       "  </tbody>\n",
       "</table>\n",
       "</div>"
      ],
      "text/plain": [
       "FORMATO  ANIO     TELEFONO  p_CN02  p_CN05  p_CN11  p_CN15  p_CN45\n",
       "228788   2020  957904165.0       0       0       0       3       0"
      ]
     },
     "execution_count": 49,
     "metadata": {},
     "output_type": "execute_result"
    }
   ],
   "source": [
    "df_pedidos_sparse[df_pedidos_sparse['TELEFONO'] == 957904165]"
   ]
  },
  {
   "cell_type": "code",
   "execution_count": 51,
   "metadata": {},
   "outputs": [
    {
     "data": {
      "text/plain": [
       "<AxesSubplot:xlabel='TOTAL_PEDIDOS', ylabel='FORMATO'>"
      ]
     },
     "execution_count": 51,
     "metadata": {},
     "output_type": "execute_result"
    },
    {
     "data": {
      "image/png": "[encoded data removed]",
      "text/plain": [
       "<Figure size 432x288 with 1 Axes>"
      ]
     },
     "metadata": {
      "needs_background": "light"
     },
     "output_type": "display_data"
    }
   ],
   "source": [
    "sns.boxplot(data = pedidos_clientes_2020, x = 'TOTAL_PEDIDOS', y = 'FORMATO')"
   ]
  },
  {
   "cell_type": "markdown",
   "metadata": {},
   "source": [
    "# Revisando la cantidad de meses con compra por formato"
   ]
  },
  {
   "cell_type": "code",
   "execution_count": 52,
   "metadata": {},
   "outputs": [
    {
     "data": {
      "text/plain": [
       "array(['p_CN15', 'p_CN11', 'p_CN45', 'p_CN05', 'p_CN02'], dtype=object)"
      ]
     },
     "execution_count": 52,
     "metadata": {},
     "output_type": "execute_result"
    }
   ],
   "source": [
    "df_anual.FORMATO.unique()"
   ]
  },
  {
   "cell_type": "code",
   "execution_count": 53,
   "metadata": {},
   "outputs": [
    {
     "data": {
      "text/html": [
       "<div>\n",
       "<style scoped>\n",
       "    .dataframe tbody tr th:only-of-type {\n",
       "        vertical-align: middle;\n",
       "    }\n",
       "\n",
       "    .dataframe tbody tr th {\n",
       "        vertical-align: top;\n",
       "    }\n",
       "\n",
       "    .dataframe thead th {\n",
       "        text-align: right;\n",
       "    }\n",
       "</style>\n",
       "<table border=\"1\" class=\"dataframe\">\n",
       "  <thead>\n",
       "    <tr style=\"text-align: right;\">\n",
       "      <th>FORMATO</th>\n",
       "      <th>ANIO</th>\n",
       "      <th>TELEFONO</th>\n",
       "      <th>p_CN02</th>\n",
       "      <th>p_CN05</th>\n",
       "      <th>p_CN11</th>\n",
       "      <th>p_CN15</th>\n",
       "      <th>p_CN45</th>\n",
       "    </tr>\n",
       "  </thead>\n",
       "  <tbody>\n",
       "    <tr>\n",
       "      <th>0</th>\n",
       "      <td>2020</td>\n",
       "      <td>99984.0</td>\n",
       "      <td>0</td>\n",
       "      <td>1</td>\n",
       "      <td>1</td>\n",
       "      <td>3</td>\n",
       "      <td>0</td>\n",
       "    </tr>\n",
       "    <tr>\n",
       "      <th>1</th>\n",
       "      <td>2020</td>\n",
       "      <td>2379421.0</td>\n",
       "      <td>0</td>\n",
       "      <td>0</td>\n",
       "      <td>2</td>\n",
       "      <td>0</td>\n",
       "      <td>0</td>\n",
       "    </tr>\n",
       "    <tr>\n",
       "      <th>2</th>\n",
       "      <td>2020</td>\n",
       "      <td>8911356.0</td>\n",
       "      <td>0</td>\n",
       "      <td>0</td>\n",
       "      <td>0</td>\n",
       "      <td>1</td>\n",
       "      <td>0</td>\n",
       "    </tr>\n",
       "    <tr>\n",
       "      <th>3</th>\n",
       "      <td>2020</td>\n",
       "      <td>9546117.0</td>\n",
       "      <td>0</td>\n",
       "      <td>0</td>\n",
       "      <td>0</td>\n",
       "      <td>1</td>\n",
       "      <td>0</td>\n",
       "    </tr>\n",
       "    <tr>\n",
       "      <th>4</th>\n",
       "      <td>2020</td>\n",
       "      <td>9581638.0</td>\n",
       "      <td>0</td>\n",
       "      <td>0</td>\n",
       "      <td>1</td>\n",
       "      <td>0</td>\n",
       "      <td>0</td>\n",
       "    </tr>\n",
       "  </tbody>\n",
       "</table>\n",
       "</div>"
      ],
      "text/plain": [
       "FORMATO  ANIO   TELEFONO  p_CN02  p_CN05  p_CN11  p_CN15  p_CN45\n",
       "0        2020    99984.0       0       1       1       3       0\n",
       "1        2020  2379421.0       0       0       2       0       0\n",
       "2        2020  8911356.0       0       0       0       1       0\n",
       "3        2020  9546117.0       0       0       0       1       0\n",
       "4        2020  9581638.0       0       0       1       0       0"
      ]
     },
     "execution_count": 53,
     "metadata": {},
     "output_type": "execute_result"
    }
   ],
   "source": [
    "df_formato = pd.pivot_table(data  = df_anual,\n",
    "                           index = ['ANIO','TELEFONO'],\n",
    "                           columns = 'FORMATO',\n",
    "                           values  = 'MONTH',\n",
    "                           aggfunc = 'count',\n",
    "                           fill_value = 0)\n",
    "df_formato.reset_index(inplace = True)\n",
    "\n",
    "df_formato_2020 = df_formato[df_formato.ANIO == 2020]\n",
    "df_formato_2020.head()"
   ]
  },
  {
   "cell_type": "code",
   "execution_count": 54,
   "metadata": {},
   "outputs": [
    {
     "data": {
      "text/plain": [
       "<AxesSubplot:xlabel='meses_compra', ylabel='TELEFONO'>"
      ]
     },
     "execution_count": 54,
     "metadata": {},
     "output_type": "execute_result"
    },
    {
     "data": {
      "image/png": "[encoded data removed]",
      "text/plain": [
       "<Figure size 432x288 with 1 Axes>"
      ]
     },
     "metadata": {
      "needs_background": "light"
     },
     "output_type": "display_data"
    }
   ],
   "source": [
    "paso = pd.melt(df_formato_2020,\n",
    "             id_vars    = 'TELEFONO',\n",
    "             value_vars = ['p_CN02','p_CN05','p_CN11','p_CN15','p_CN45'],\n",
    "             var_name   = 'FORMATO', \n",
    "             value_name = 'meses_compra')\n",
    "\n",
    "clientes_mensuales = paso.groupby(['FORMATO','meses_compra']).count().reset_index()\n",
    "sns.barplot(data = clientes_mensuales,\n",
    "            x = 'meses_compra',\n",
    "            y = 'TELEFONO',\n",
    "            hue = 'FORMATO')"
   ]
  },
  {
   "cell_type": "code",
   "execution_count": 55,
   "metadata": {},
   "outputs": [
    {
     "data": {
      "text/html": [
       "<div>\n",
       "<style scoped>\n",
       "    .dataframe tbody tr th:only-of-type {\n",
       "        vertical-align: middle;\n",
       "    }\n",
       "\n",
       "    .dataframe tbody tr th {\n",
       "        vertical-align: top;\n",
       "    }\n",
       "\n",
       "    .dataframe thead th {\n",
       "        text-align: right;\n",
       "    }\n",
       "</style>\n",
       "<table border=\"1\" class=\"dataframe\">\n",
       "  <thead>\n",
       "    <tr style=\"text-align: right;\">\n",
       "      <th></th>\n",
       "      <th>TELEFONO</th>\n",
       "      <th>FORMATO</th>\n",
       "      <th>meses_compra</th>\n",
       "    </tr>\n",
       "  </thead>\n",
       "  <tbody>\n",
       "    <tr>\n",
       "      <th>0</th>\n",
       "      <td>9.998400e+04</td>\n",
       "      <td>p_CN02</td>\n",
       "      <td>0</td>\n",
       "    </tr>\n",
       "    <tr>\n",
       "      <th>1</th>\n",
       "      <td>2.379421e+06</td>\n",
       "      <td>p_CN02</td>\n",
       "      <td>0</td>\n",
       "    </tr>\n",
       "    <tr>\n",
       "      <th>2</th>\n",
       "      <td>8.911356e+06</td>\n",
       "      <td>p_CN02</td>\n",
       "      <td>0</td>\n",
       "    </tr>\n",
       "    <tr>\n",
       "      <th>3</th>\n",
       "      <td>9.546117e+06</td>\n",
       "      <td>p_CN02</td>\n",
       "      <td>0</td>\n",
       "    </tr>\n",
       "    <tr>\n",
       "      <th>4</th>\n",
       "      <td>9.581638e+06</td>\n",
       "      <td>p_CN02</td>\n",
       "      <td>0</td>\n",
       "    </tr>\n",
       "    <tr>\n",
       "      <th>...</th>\n",
       "      <td>...</td>\n",
       "      <td>...</td>\n",
       "      <td>...</td>\n",
       "    </tr>\n",
       "    <tr>\n",
       "      <th>3015730</th>\n",
       "      <td>5.690001e+14</td>\n",
       "      <td>p_CN45</td>\n",
       "      <td>0</td>\n",
       "    </tr>\n",
       "    <tr>\n",
       "      <th>3015731</th>\n",
       "      <td>5.690001e+14</td>\n",
       "      <td>p_CN45</td>\n",
       "      <td>0</td>\n",
       "    </tr>\n",
       "    <tr>\n",
       "      <th>3015732</th>\n",
       "      <td>5.690001e+14</td>\n",
       "      <td>p_CN45</td>\n",
       "      <td>0</td>\n",
       "    </tr>\n",
       "    <tr>\n",
       "      <th>3015733</th>\n",
       "      <td>5.641000e+15</td>\n",
       "      <td>p_CN45</td>\n",
       "      <td>0</td>\n",
       "    </tr>\n",
       "    <tr>\n",
       "      <th>3015734</th>\n",
       "      <td>5.672000e+15</td>\n",
       "      <td>p_CN45</td>\n",
       "      <td>0</td>\n",
       "    </tr>\n",
       "  </tbody>\n",
       "</table>\n",
       "<p>3015735 rows × 3 columns</p>\n",
       "</div>"
      ],
      "text/plain": [
       "             TELEFONO FORMATO  meses_compra\n",
       "0        9.998400e+04  p_CN02             0\n",
       "1        2.379421e+06  p_CN02             0\n",
       "2        8.911356e+06  p_CN02             0\n",
       "3        9.546117e+06  p_CN02             0\n",
       "4        9.581638e+06  p_CN02             0\n",
       "...               ...     ...           ...\n",
       "3015730  5.690001e+14  p_CN45             0\n",
       "3015731  5.690001e+14  p_CN45             0\n",
       "3015732  5.690001e+14  p_CN45             0\n",
       "3015733  5.641000e+15  p_CN45             0\n",
       "3015734  5.672000e+15  p_CN45             0\n",
       "\n",
       "[3015735 rows x 3 columns]"
      ]
     },
     "execution_count": 55,
     "metadata": {},
     "output_type": "execute_result"
    }
   ],
   "source": [
    "paso"
   ]
  },
  {
   "cell_type": "code",
   "execution_count": 57,
   "metadata": {},
   "outputs": [
    {
     "data": {
      "text/plain": [
       "<AxesSubplot:xlabel='meses_compra', ylabel='TELEFONO'>"
      ]
     },
     "execution_count": 57,
     "metadata": {},
     "output_type": "execute_result"
    },
    {
     "data": {
      "image/png": "[encoded data removed]",
      "text/plain": [
       "<Figure size 432x288 with 1 Axes>"
      ]
     },
     "metadata": {
      "needs_background": "light"
     },
     "output_type": "display_data"
    }
   ],
   "source": [
    "sns.barplot(data = clientes_mensuales[~clientes_mensuales.meses_compra.isin([0])],\n",
    "            x    = 'meses_compra',\n",
    "            y    = 'TELEFONO',\n",
    "            hue  = 'FORMATO')"
   ]
  },
  {
   "cell_type": "code",
   "execution_count": 62,
   "metadata": {},
   "outputs": [],
   "source": [
    "a = clientes_mensuales[~clientes_mensuales.meses_compra.isin([0])]\n",
    "a[a.FORMATO == 'p_CN11']"
   ]
  },
  {
   "cell_type": "code",
   "execution_count": 63,
   "metadata": {},
   "outputs": [
    {
     "data": {
      "text/plain": [
       "<AxesSubplot:xlabel='meses_compra', ylabel='Proportion'>"
      ]
     },
     "execution_count": 63,
     "metadata": {},
     "output_type": "execute_result"
    },
    {
     "data": {
      "image/png": "[encoded data removed]",
      "text/plain": [
       "<Figure size 432x288 with 1 Axes>"
      ]
     },
     "metadata": {
      "needs_background": "light"
     },
     "output_type": "display_data"
    }
   ],
   "source": [
    "sns.ecdfplot(data = paso[~paso.meses_compra.isin([0])],\n",
    "             x    = 'meses_compra')"
   ]
  },
  {
   "cell_type": "markdown",
   "metadata": {},
   "source": [
    "# Otros analisis"
   ]
  },
  {
   "cell_type": "code",
   "execution_count": 64,
   "metadata": {},
   "outputs": [],
   "source": [
    "df_CN02 = df_anual[df_anual['FORMATO'] == 'p_CN02']\n",
    "df_CN05 = df_anual[df_anual['FORMATO'] == 'p_CN05']\n",
    "df_CN11 = df_anual[df_anual['FORMATO'] == 'p_CN11']\n",
    "df_CN15 = df_anual[df_anual['FORMATO'] == 'p_CN15']\n",
    "\n",
    "df_CN02_pivot = pd.pivot_table(data = df_CN02,\n",
    "                               index = 'TELEFONO',\n",
    "                               columns = 'MONTH',\n",
    "                               values = 'TOTAL_PEDIDOS',\n",
    "                               aggfunc = [any,np.sum],\n",
    "                               fill_value = 0)*1\n",
    "\n",
    "df_CN05_pivot = pd.pivot_table(data = df_CN05,\n",
    "                               index = 'TELEFONO',\n",
    "                               columns = 'MONTH',\n",
    "                               values = 'TOTAL_PEDIDOS',\n",
    "                               aggfunc = [any,np.sum],\n",
    "                               fill_value = 0)*1\n",
    "\n",
    "df_CN11_pivot = pd.pivot_table(data = df_CN11,\n",
    "                               index = 'TELEFONO',\n",
    "                               columns = 'MONTH',\n",
    "                               values = 'TOTAL_PEDIDOS',\n",
    "                               aggfunc = [any,np.sum],\n",
    "                               fill_value = 0)*1 \n",
    "\n",
    "df_CN15_pivot = pd.pivot_table(data = df_CN15,\n",
    "                               index = 'TELEFONO',\n",
    "                               columns = 'MONTH',\n",
    "                               values = 'TOTAL_PEDIDOS',\n",
    "                               aggfunc = [any,np.sum],\n",
    "                               fill_value = 0)*1 "
   ]
  },
  {
   "cell_type": "code",
   "execution_count": 65,
   "metadata": {},
   "outputs": [],
   "source": [
    "df_CN02_pivot['meses_compra']  = df_CN02_pivot['any'].sum(axis = 1)\n",
    "df_CN02_pivot['total_pedidos'] = df_CN02_pivot['sum'].sum(axis = 1)\n",
    "\n",
    "df_CN05_pivot['meses_compra']  = df_CN05_pivot['any'].sum(axis = 1)\n",
    "df_CN05_pivot['total_pedidos'] = df_CN05_pivot['sum'].sum(axis = 1)\n",
    "\n",
    "df_CN11_pivot['meses_compra']  = df_CN11_pivot['any'].sum(axis = 1)\n",
    "df_CN11_pivot['total_pedidos'] = df_CN11_pivot['sum'].sum(axis = 1)\n",
    "\n",
    "df_CN15_pivot['meses_compra']  = df_CN15_pivot['any'].sum(axis = 1)\n",
    "df_CN15_pivot['total_pedidos'] = df_CN15_pivot['sum'].sum(axis = 1)"
   ]
  },
  {
   "cell_type": "code",
   "execution_count": 66,
   "metadata": {},
   "outputs": [],
   "source": [
    "conteo_02 = df_CN02_pivot.groupby('meses_compra').count().reset_index()\n",
    "conteo_05 = df_CN05_pivot.groupby('meses_compra').count().reset_index()\n",
    "conteo_11 = df_CN11_pivot.groupby('meses_compra').count().reset_index()\n",
    "conteo_15 = df_CN15_pivot.groupby('meses_compra').count().reset_index()"
   ]
  },
  {
   "cell_type": "markdown",
   "metadata": {},
   "source": [
    "# Test analisis con CN45"
   ]
  },
  {
   "cell_type": "code",
   "execution_count": 67,
   "metadata": {},
   "outputs": [
    {
     "data": {
      "text/html": [
       "<div>\n",
       "<style scoped>\n",
       "    .dataframe tbody tr th:only-of-type {\n",
       "        vertical-align: middle;\n",
       "    }\n",
       "\n",
       "    .dataframe tbody tr th {\n",
       "        vertical-align: top;\n",
       "    }\n",
       "\n",
       "    .dataframe thead tr th {\n",
       "        text-align: left;\n",
       "    }\n",
       "\n",
       "    .dataframe thead tr:last-of-type th {\n",
       "        text-align: right;\n",
       "    }\n",
       "</style>\n",
       "<table border=\"1\" class=\"dataframe\">\n",
       "  <thead>\n",
       "    <tr>\n",
       "      <th></th>\n",
       "      <th colspan=\"10\" halign=\"left\">any</th>\n",
       "      <th>...</th>\n",
       "      <th colspan=\"10\" halign=\"left\">sum</th>\n",
       "    </tr>\n",
       "    <tr>\n",
       "      <th>MONTH</th>\n",
       "      <th>1</th>\n",
       "      <th>2</th>\n",
       "      <th>3</th>\n",
       "      <th>4</th>\n",
       "      <th>5</th>\n",
       "      <th>6</th>\n",
       "      <th>7</th>\n",
       "      <th>8</th>\n",
       "      <th>9</th>\n",
       "      <th>10</th>\n",
       "      <th>...</th>\n",
       "      <th>3</th>\n",
       "      <th>4</th>\n",
       "      <th>5</th>\n",
       "      <th>6</th>\n",
       "      <th>7</th>\n",
       "      <th>8</th>\n",
       "      <th>9</th>\n",
       "      <th>10</th>\n",
       "      <th>11</th>\n",
       "      <th>12</th>\n",
       "    </tr>\n",
       "    <tr>\n",
       "      <th>TELEFONO</th>\n",
       "      <th></th>\n",
       "      <th></th>\n",
       "      <th></th>\n",
       "      <th></th>\n",
       "      <th></th>\n",
       "      <th></th>\n",
       "      <th></th>\n",
       "      <th></th>\n",
       "      <th></th>\n",
       "      <th></th>\n",
       "      <th></th>\n",
       "      <th></th>\n",
       "      <th></th>\n",
       "      <th></th>\n",
       "      <th></th>\n",
       "      <th></th>\n",
       "      <th></th>\n",
       "      <th></th>\n",
       "      <th></th>\n",
       "      <th></th>\n",
       "      <th></th>\n",
       "    </tr>\n",
       "  </thead>\n",
       "  <tbody>\n",
       "    <tr>\n",
       "      <th>22225307.0</th>\n",
       "      <td>0</td>\n",
       "      <td>0</td>\n",
       "      <td>0</td>\n",
       "      <td>0</td>\n",
       "      <td>0</td>\n",
       "      <td>0</td>\n",
       "      <td>0</td>\n",
       "      <td>1</td>\n",
       "      <td>0</td>\n",
       "      <td>0</td>\n",
       "      <td>...</td>\n",
       "      <td>0</td>\n",
       "      <td>0</td>\n",
       "      <td>0</td>\n",
       "      <td>0</td>\n",
       "      <td>0</td>\n",
       "      <td>1</td>\n",
       "      <td>0</td>\n",
       "      <td>0</td>\n",
       "      <td>0</td>\n",
       "      <td>0</td>\n",
       "    </tr>\n",
       "    <tr>\n",
       "      <th>22241929.0</th>\n",
       "      <td>0</td>\n",
       "      <td>0</td>\n",
       "      <td>0</td>\n",
       "      <td>0</td>\n",
       "      <td>0</td>\n",
       "      <td>0</td>\n",
       "      <td>1</td>\n",
       "      <td>0</td>\n",
       "      <td>0</td>\n",
       "      <td>0</td>\n",
       "      <td>...</td>\n",
       "      <td>0</td>\n",
       "      <td>0</td>\n",
       "      <td>0</td>\n",
       "      <td>0</td>\n",
       "      <td>1</td>\n",
       "      <td>0</td>\n",
       "      <td>0</td>\n",
       "      <td>0</td>\n",
       "      <td>0</td>\n",
       "      <td>0</td>\n",
       "    </tr>\n",
       "    <tr>\n",
       "      <th>22296159.0</th>\n",
       "      <td>0</td>\n",
       "      <td>0</td>\n",
       "      <td>0</td>\n",
       "      <td>0</td>\n",
       "      <td>0</td>\n",
       "      <td>1</td>\n",
       "      <td>0</td>\n",
       "      <td>0</td>\n",
       "      <td>0</td>\n",
       "      <td>0</td>\n",
       "      <td>...</td>\n",
       "      <td>0</td>\n",
       "      <td>0</td>\n",
       "      <td>0</td>\n",
       "      <td>1</td>\n",
       "      <td>0</td>\n",
       "      <td>0</td>\n",
       "      <td>0</td>\n",
       "      <td>0</td>\n",
       "      <td>0</td>\n",
       "      <td>0</td>\n",
       "    </tr>\n",
       "    <tr>\n",
       "      <th>22325813.0</th>\n",
       "      <td>0</td>\n",
       "      <td>0</td>\n",
       "      <td>0</td>\n",
       "      <td>0</td>\n",
       "      <td>0</td>\n",
       "      <td>0</td>\n",
       "      <td>0</td>\n",
       "      <td>0</td>\n",
       "      <td>0</td>\n",
       "      <td>0</td>\n",
       "      <td>...</td>\n",
       "      <td>0</td>\n",
       "      <td>0</td>\n",
       "      <td>0</td>\n",
       "      <td>0</td>\n",
       "      <td>0</td>\n",
       "      <td>0</td>\n",
       "      <td>0</td>\n",
       "      <td>0</td>\n",
       "      <td>1</td>\n",
       "      <td>0</td>\n",
       "    </tr>\n",
       "    <tr>\n",
       "      <th>23259550.0</th>\n",
       "      <td>0</td>\n",
       "      <td>0</td>\n",
       "      <td>0</td>\n",
       "      <td>0</td>\n",
       "      <td>1</td>\n",
       "      <td>0</td>\n",
       "      <td>0</td>\n",
       "      <td>0</td>\n",
       "      <td>1</td>\n",
       "      <td>0</td>\n",
       "      <td>...</td>\n",
       "      <td>0</td>\n",
       "      <td>0</td>\n",
       "      <td>1</td>\n",
       "      <td>0</td>\n",
       "      <td>0</td>\n",
       "      <td>0</td>\n",
       "      <td>1</td>\n",
       "      <td>0</td>\n",
       "      <td>0</td>\n",
       "      <td>0</td>\n",
       "    </tr>\n",
       "  </tbody>\n",
       "</table>\n",
       "<p>5 rows × 24 columns</p>\n",
       "</div>"
      ],
      "text/plain": [
       "           any                             ... sum                           \n",
       "MONTH       1  2  3  4  5  6  7  8  9  10  ...  3  4  5  6  7  8  9  10 11 12\n",
       "TELEFONO                                   ...                               \n",
       "22225307.0   0  0  0  0  0  0  0  1  0  0  ...   0  0  0  0  0  1  0  0  0  0\n",
       "22241929.0   0  0  0  0  0  0  1  0  0  0  ...   0  0  0  0  1  0  0  0  0  0\n",
       "22296159.0   0  0  0  0  0  1  0  0  0  0  ...   0  0  0  1  0  0  0  0  0  0\n",
       "22325813.0   0  0  0  0  0  0  0  0  0  0  ...   0  0  0  0  0  0  0  0  1  0\n",
       "23259550.0   0  0  0  0  1  0  0  0  1  0  ...   0  0  1  0  0  0  1  0  0  0\n",
       "\n",
       "[5 rows x 24 columns]"
      ]
     },
     "execution_count": 67,
     "metadata": {},
     "output_type": "execute_result"
    }
   ],
   "source": [
    "df_CN45 = df_anual[df_anual['FORMATO'] == 'p_CN45']\n",
    "\n",
    "df_CN45_pivot = pd.pivot_table(data = df_CN45,\n",
    "                               index = 'TELEFONO',\n",
    "                               columns = 'MONTH',\n",
    "                               values = 'TOTAL_PEDIDOS',\n",
    "                               aggfunc = [any, np.sum],\n",
    "                               fill_value = 0)*1\n",
    "\n",
    "#df_CN45_pivot.reset_index()\n",
    "df_CN45_pivot.head()"
   ]
  },
  {
   "cell_type": "code",
   "execution_count": 68,
   "metadata": {},
   "outputs": [],
   "source": [
    "df_CN45_pivot['meses_compra'] = df_CN45_pivot['any'].sum(axis = 1)\n",
    "df_CN45_pivot['total_pedidos'] = df_CN45_pivot['sum'].sum(axis = 1)"
   ]
  },
  {
   "cell_type": "code",
   "execution_count": 69,
   "metadata": {},
   "outputs": [
    {
     "name": "stdout",
     "output_type": "stream",
     "text": [
      "1067206 242390\n"
     ]
    }
   ],
   "source": [
    "a = df_CN15_pivot[['meses_compra']].reset_index()\n",
    "b = df_CN05_pivot[['meses_compra']].reset_index()\n",
    "\n",
    "print(a.size, b.size)\n",
    "\n",
    "#a.merge(b,\n",
    "#        how = 'outer',\n",
    "#        on  = 'meses_compra')"
   ]
  },
  {
   "cell_type": "code",
   "execution_count": 70,
   "metadata": {},
   "outputs": [
    {
     "name": "stderr",
     "output_type": "stream",
     "text": [
      "C:\\Users\\fbenavides\\Anaconda3\\lib\\site-packages\\pandas\\core\\generic.py:3936: PerformanceWarning: dropping on a non-lexsorted multi-index without a level parameter may impact performance.\n",
      "  obj = obj._drop_axis(labels, axis, level=level, errors=errors)\n"
     ]
    },
    {
     "ename": "MemoryError",
     "evalue": "Unable to allocate 188. GiB for an array with shape (25211449973,) and data type int64",
     "output_type": "error",
     "traceback": [
      "\u001b[1;31m---------------------------------------------------------------------------\u001b[0m",
      "\u001b[1;31mMemoryError\u001b[0m                               Traceback (most recent call last)",
      "\u001b[1;32m<ipython-input-70-535924664ebf>\u001b[0m in \u001b[0;36m<module>\u001b[1;34m\u001b[0m\n\u001b[1;32m----> 1\u001b[1;33m df_meses_compra =  df_CN15_pivot[['meses_compra']].reset_index().merge(df_CN05_pivot[['meses_compra']].reset_index(),\n\u001b[0m\u001b[0;32m      2\u001b[0m                                                                        \u001b[0mhow\u001b[0m \u001b[1;33m=\u001b[0m \u001b[1;34m'outer'\u001b[0m\u001b[1;33m,\u001b[0m\u001b[1;33m\u001b[0m\u001b[1;33m\u001b[0m\u001b[0m\n\u001b[0;32m      3\u001b[0m                                                                        on  = 'meses_compra')\n\u001b[0;32m      4\u001b[0m \u001b[1;33m\u001b[0m\u001b[0m\n\u001b[0;32m      5\u001b[0m \u001b[1;33m\u001b[0m\u001b[0m\n",
      "\u001b[1;32m~\\Anaconda3\\lib\\site-packages\\pandas\\core\\frame.py\u001b[0m in \u001b[0;36mmerge\u001b[1;34m(self, right, how, on, left_on, right_on, left_index, right_index, sort, suffixes, copy, indicator, validate)\u001b[0m\n\u001b[0;32m   7282\u001b[0m         \u001b[1;32mfrom\u001b[0m \u001b[0mpandas\u001b[0m\u001b[1;33m.\u001b[0m\u001b[0mcore\u001b[0m\u001b[1;33m.\u001b[0m\u001b[0mreshape\u001b[0m\u001b[1;33m.\u001b[0m\u001b[0mmerge\u001b[0m \u001b[1;32mimport\u001b[0m \u001b[0mmerge\u001b[0m\u001b[1;33m\u001b[0m\u001b[1;33m\u001b[0m\u001b[0m\n\u001b[0;32m   7283\u001b[0m \u001b[1;33m\u001b[0m\u001b[0m\n\u001b[1;32m-> 7284\u001b[1;33m         return merge(\n\u001b[0m\u001b[0;32m   7285\u001b[0m             \u001b[0mself\u001b[0m\u001b[1;33m,\u001b[0m\u001b[1;33m\u001b[0m\u001b[1;33m\u001b[0m\u001b[0m\n\u001b[0;32m   7286\u001b[0m             \u001b[0mright\u001b[0m\u001b[1;33m,\u001b[0m\u001b[1;33m\u001b[0m\u001b[1;33m\u001b[0m\u001b[0m\n",
      "\u001b[1;32m~\\Anaconda3\\lib\\site-packages\\pandas\\core\\reshape\\merge.py\u001b[0m in \u001b[0;36mmerge\u001b[1;34m(left, right, how, on, left_on, right_on, left_index, right_index, sort, suffixes, copy, indicator, validate)\u001b[0m\n\u001b[0;32m     86\u001b[0m         \u001b[0mvalidate\u001b[0m\u001b[1;33m=\u001b[0m\u001b[0mvalidate\u001b[0m\u001b[1;33m,\u001b[0m\u001b[1;33m\u001b[0m\u001b[1;33m\u001b[0m\u001b[0m\n\u001b[0;32m     87\u001b[0m     )\n\u001b[1;32m---> 88\u001b[1;33m     \u001b[1;32mreturn\u001b[0m \u001b[0mop\u001b[0m\u001b[1;33m.\u001b[0m\u001b[0mget_result\u001b[0m\u001b[1;33m(\u001b[0m\u001b[1;33m)\u001b[0m\u001b[1;33m\u001b[0m\u001b[1;33m\u001b[0m\u001b[0m\n\u001b[0m\u001b[0;32m     89\u001b[0m \u001b[1;33m\u001b[0m\u001b[0m\n\u001b[0;32m     90\u001b[0m \u001b[1;33m\u001b[0m\u001b[0m\n",
      "\u001b[1;32m~\\Anaconda3\\lib\\site-packages\\pandas\\core\\reshape\\merge.py\u001b[0m in \u001b[0;36mget_result\u001b[1;34m(self)\u001b[0m\n\u001b[0;32m    641\u001b[0m             \u001b[0mself\u001b[0m\u001b[1;33m.\u001b[0m\u001b[0mleft\u001b[0m\u001b[1;33m,\u001b[0m \u001b[0mself\u001b[0m\u001b[1;33m.\u001b[0m\u001b[0mright\u001b[0m \u001b[1;33m=\u001b[0m \u001b[0mself\u001b[0m\u001b[1;33m.\u001b[0m\u001b[0m_indicator_pre_merge\u001b[0m\u001b[1;33m(\u001b[0m\u001b[0mself\u001b[0m\u001b[1;33m.\u001b[0m\u001b[0mleft\u001b[0m\u001b[1;33m,\u001b[0m \u001b[0mself\u001b[0m\u001b[1;33m.\u001b[0m\u001b[0mright\u001b[0m\u001b[1;33m)\u001b[0m\u001b[1;33m\u001b[0m\u001b[1;33m\u001b[0m\u001b[0m\n\u001b[0;32m    642\u001b[0m \u001b[1;33m\u001b[0m\u001b[0m\n\u001b[1;32m--> 643\u001b[1;33m         \u001b[0mjoin_index\u001b[0m\u001b[1;33m,\u001b[0m \u001b[0mleft_indexer\u001b[0m\u001b[1;33m,\u001b[0m \u001b[0mright_indexer\u001b[0m \u001b[1;33m=\u001b[0m \u001b[0mself\u001b[0m\u001b[1;33m.\u001b[0m\u001b[0m_get_join_info\u001b[0m\u001b[1;33m(\u001b[0m\u001b[1;33m)\u001b[0m\u001b[1;33m\u001b[0m\u001b[1;33m\u001b[0m\u001b[0m\n\u001b[0m\u001b[0;32m    644\u001b[0m \u001b[1;33m\u001b[0m\u001b[0m\n\u001b[0;32m    645\u001b[0m         \u001b[0mldata\u001b[0m\u001b[1;33m,\u001b[0m \u001b[0mrdata\u001b[0m \u001b[1;33m=\u001b[0m \u001b[0mself\u001b[0m\u001b[1;33m.\u001b[0m\u001b[0mleft\u001b[0m\u001b[1;33m.\u001b[0m\u001b[0m_data\u001b[0m\u001b[1;33m,\u001b[0m \u001b[0mself\u001b[0m\u001b[1;33m.\u001b[0m\u001b[0mright\u001b[0m\u001b[1;33m.\u001b[0m\u001b[0m_data\u001b[0m\u001b[1;33m\u001b[0m\u001b[1;33m\u001b[0m\u001b[0m\n",
      "\u001b[1;32m~\\Anaconda3\\lib\\site-packages\\pandas\\core\\reshape\\merge.py\u001b[0m in \u001b[0;36m_get_join_info\u001b[1;34m(self)\u001b[0m\n\u001b[0;32m    860\u001b[0m             )\n\u001b[0;32m    861\u001b[0m         \u001b[1;32melse\u001b[0m\u001b[1;33m:\u001b[0m\u001b[1;33m\u001b[0m\u001b[1;33m\u001b[0m\u001b[0m\n\u001b[1;32m--> 862\u001b[1;33m             \u001b[1;33m(\u001b[0m\u001b[0mleft_indexer\u001b[0m\u001b[1;33m,\u001b[0m \u001b[0mright_indexer\u001b[0m\u001b[1;33m)\u001b[0m \u001b[1;33m=\u001b[0m \u001b[0mself\u001b[0m\u001b[1;33m.\u001b[0m\u001b[0m_get_join_indexers\u001b[0m\u001b[1;33m(\u001b[0m\u001b[1;33m)\u001b[0m\u001b[1;33m\u001b[0m\u001b[1;33m\u001b[0m\u001b[0m\n\u001b[0m\u001b[0;32m    863\u001b[0m \u001b[1;33m\u001b[0m\u001b[0m\n\u001b[0;32m    864\u001b[0m             \u001b[1;32mif\u001b[0m \u001b[0mself\u001b[0m\u001b[1;33m.\u001b[0m\u001b[0mright_index\u001b[0m\u001b[1;33m:\u001b[0m\u001b[1;33m\u001b[0m\u001b[1;33m\u001b[0m\u001b[0m\n",
      "\u001b[1;32m~\\Anaconda3\\lib\\site-packages\\pandas\\core\\reshape\\merge.py\u001b[0m in \u001b[0;36m_get_join_indexers\u001b[1;34m(self)\u001b[0m\n\u001b[0;32m    838\u001b[0m     \u001b[1;32mdef\u001b[0m \u001b[0m_get_join_indexers\u001b[0m\u001b[1;33m(\u001b[0m\u001b[0mself\u001b[0m\u001b[1;33m)\u001b[0m\u001b[1;33m:\u001b[0m\u001b[1;33m\u001b[0m\u001b[1;33m\u001b[0m\u001b[0m\n\u001b[0;32m    839\u001b[0m         \u001b[1;34m\"\"\" return the join indexers \"\"\"\u001b[0m\u001b[1;33m\u001b[0m\u001b[1;33m\u001b[0m\u001b[0m\n\u001b[1;32m--> 840\u001b[1;33m         return _get_join_indexers(\n\u001b[0m\u001b[0;32m    841\u001b[0m             \u001b[0mself\u001b[0m\u001b[1;33m.\u001b[0m\u001b[0mleft_join_keys\u001b[0m\u001b[1;33m,\u001b[0m \u001b[0mself\u001b[0m\u001b[1;33m.\u001b[0m\u001b[0mright_join_keys\u001b[0m\u001b[1;33m,\u001b[0m \u001b[0msort\u001b[0m\u001b[1;33m=\u001b[0m\u001b[0mself\u001b[0m\u001b[1;33m.\u001b[0m\u001b[0msort\u001b[0m\u001b[1;33m,\u001b[0m \u001b[0mhow\u001b[0m\u001b[1;33m=\u001b[0m\u001b[0mself\u001b[0m\u001b[1;33m.\u001b[0m\u001b[0mhow\u001b[0m\u001b[1;33m\u001b[0m\u001b[1;33m\u001b[0m\u001b[0m\n\u001b[0;32m    842\u001b[0m         )\n",
      "\u001b[1;32m~\\Anaconda3\\lib\\site-packages\\pandas\\core\\reshape\\merge.py\u001b[0m in \u001b[0;36m_get_join_indexers\u001b[1;34m(left_keys, right_keys, sort, how, **kwargs)\u001b[0m\n\u001b[0;32m   1326\u001b[0m     \u001b[0mjoin_func\u001b[0m \u001b[1;33m=\u001b[0m \u001b[0m_join_functions\u001b[0m\u001b[1;33m[\u001b[0m\u001b[0mhow\u001b[0m\u001b[1;33m]\u001b[0m\u001b[1;33m\u001b[0m\u001b[1;33m\u001b[0m\u001b[0m\n\u001b[0;32m   1327\u001b[0m \u001b[1;33m\u001b[0m\u001b[0m\n\u001b[1;32m-> 1328\u001b[1;33m     \u001b[1;32mreturn\u001b[0m \u001b[0mjoin_func\u001b[0m\u001b[1;33m(\u001b[0m\u001b[0mlkey\u001b[0m\u001b[1;33m,\u001b[0m \u001b[0mrkey\u001b[0m\u001b[1;33m,\u001b[0m \u001b[0mcount\u001b[0m\u001b[1;33m,\u001b[0m \u001b[1;33m**\u001b[0m\u001b[0mkwargs\u001b[0m\u001b[1;33m)\u001b[0m\u001b[1;33m\u001b[0m\u001b[1;33m\u001b[0m\u001b[0m\n\u001b[0m\u001b[0;32m   1329\u001b[0m \u001b[1;33m\u001b[0m\u001b[0m\n\u001b[0;32m   1330\u001b[0m \u001b[1;33m\u001b[0m\u001b[0m\n",
      "\u001b[1;32mpandas\\_libs\\join.pyx\u001b[0m in \u001b[0;36mpandas._libs.join.full_outer_join\u001b[1;34m()\u001b[0m\n",
      "\u001b[1;31mMemoryError\u001b[0m: Unable to allocate 188. GiB for an array with shape (25211449973,) and data type int64"
     ]
    }
   ],
   "source": [
    "df_meses_compra =  df_CN15_pivot[['meses_compra']].reset_index().merge(df_CN05_pivot[['meses_compra']].reset_index(),\n",
    "                                                                       how = 'outer',\n",
    "                                                                       on  = 'meses_compra')\n",
    "\n",
    "\n",
    "#df_CN05_pivot[['meses_compra']].reset_index()\n",
    "#df_CN11_pivot[['meses_compra']].reset_index()\n",
    "#df_CN45_pivot[['meses_compra']].reset_index()"
   ]
  },
  {
   "cell_type": "code",
   "execution_count": null,
   "metadata": {},
   "outputs": [],
   "source": [
    "pd.merge"
   ]
  },
  {
   "cell_type": "code",
   "execution_count": null,
   "metadata": {},
   "outputs": [],
   "source": [
    "meses_con_pedidos = pd.concat([conteo_05.meses_compra,\n",
    "                               conteo_05.total_pedidos,conteo_11.total_pedidos,\n",
    "                               conteo_15.total_pedidos,conteo_45.total_pedidos], axis = 1)\n",
    "meses_con_pedidos.columns = ['mes','CN05','CN11','CN15','CN45']\n",
    "#meses_con_pedidos.head()\n",
    "\n",
    "meses_con_pedidos_v2 = pd.melt(meses_con_pedidos,\n",
    "                               id_vars    = 'mes',\n",
    "                               value_vars = ['CN05','CN11','CN15','CN45'],\n",
    "                               var_name   = 'formato',\n",
    "                               value_name = 'cant_clientes')"
   ]
  },
  {
   "cell_type": "code",
   "execution_count": null,
   "metadata": {},
   "outputs": [],
   "source": [
    "sns.barplot(data = meses_con_pedidos_v2, x = 'mes', y =  'cant_clientes', hue = 'formato')"
   ]
  }
 ],
 "metadata": {
  "kernelspec": {
   "display_name": "Python 3",
   "language": "python",
   "name": "python3"
  },
  "language_info": {
   "codemirror_mode": {
    "name": "ipython",
    "version": 3
   },
   "file_extension": ".py",
   "mimetype": "text/x-python",
   "name": "python",
   "nbconvert_exporter": "python",
   "pygments_lexer": "ipython3",
   "version": "3.8.3"
  }
 },
 "nbformat": 4,
 "nbformat_minor": 4
}
