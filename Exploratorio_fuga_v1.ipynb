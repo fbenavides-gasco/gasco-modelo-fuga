{
 "cells": [
  {
   "cell_type": "markdown",
   "metadata": {},
   "source": [
    "# Exploratorio datos de clientes para fuga"
   ]
  },
  {
   "cell_type": "markdown",
   "metadata": {},
   "source": [
    "Buscamos obtener insigths respecto al comportamiento transaccional de los clientes, con el objetivo de definir que es un cliente activo.\n",
    "\n",
    "Nuestro objetivo final es, usando esta definición, diferenciar entre clientes fugados y activos para así crear un modelo de ML para diferenciar entre estos dos tipos de clientes."
   ]
  },
  {
   "cell_type": "code",
   "execution_count": 1,
   "metadata": {},
   "outputs": [],
   "source": [
    "# Importamos librerias a utilizar\n",
    "import pandas as pd\n",
    "import numpy as np\n",
    "from datetime import date\n",
    "\n",
    "import matplotlib.pyplot as plt\n",
    "import seaborn as sns"
   ]
  },
  {
   "cell_type": "code",
   "execution_count": 2,
   "metadata": {},
   "outputs": [],
   "source": [
    "#Conexion a GCP - BigQuery\n",
    "import pydata_google_auth\n",
    "from google.cloud import bigquery\n",
    "SCOPES = [\n",
    "    'https://www.googleapis.com/auth/cloud-platform',\n",
    "    'https://www.googleapis.com/auth/drive',\n",
    "]\n",
    "credentials = pydata_google_auth.get_user_credentials(\n",
    "    SCOPES,\n",
    "    auth_local_webserver=True,\n",
    ")\n",
    "client = bigquery.Client(project='gasco-analytics', credentials=credentials)"
   ]
  },
  {
   "cell_type": "code",
   "execution_count": 3,
   "metadata": {},
   "outputs": [],
   "source": [
    "query_gasconnect = \"\"\"\n",
    "SELECT A.*,\n",
    "      CASE  WHEN A.n_canales = 2 THEN 'ON-OFF'\n",
    "            WHEN A.n_canales = 1 AND tipo_pedido = 'ONLINE' THEN 'ONLINE'\n",
    "            WHEN A.n_canales = 1 AND tipo_pedido = 'OFFLINE' THEN 'OFFLINE'\n",
    "      END AS TIPO_CLIENTE,\n",
    "      B.predict_estufa,\n",
    "      B.predict_parrilla,\n",
    "      B.predict_cocina,\n",
    "      B.predict_calefont\n",
    "FROM(\n",
    "      SELECT EXTRACT(YEAR FROM createdat) AS YEAR,\n",
    "             CAST(TELEFONO AS INT64) AS TELEFONO,\n",
    "             SUM(IND_TA) AS PEDIDOS_TA,\n",
    "             SUM(KILOS_TA) AS KILOS_TA,\n",
    "             COUNT(DISTINCT createdAT) AS TOTAL_PEDIDOS,\n",
    "             SUM(total_kilos_pedido) AS TOTAL_KILOS,\n",
    "             COUNT(DISTINCT MONTH) AS MESES_COMPRA,\n",
    "             MIN(EXTRACT(DATE FROM createdAt)) AS FECHA_PRIMER_PEDIDO,\n",
    "             MAX(EXTRACT(DATE FROM createdAt)) AS FECHA_ULTIMO_PEDIDO,\n",
    "             AVG(dias_compra) AS frec_compra_promedio, \n",
    "             stddev(dias_compra) AS desv_frec_compra,\n",
    "             COUNT(DISTINCT TIPO_PEDIDO_BIEN) AS n_canales, \n",
    "             MAX(TIPO_PEDIDO_BIEN) AS tipo_pedido \n",
    "      FROM(\n",
    "            SELECT *, \n",
    "                  DATE_DIFF(EXTRACT(DATE FROM createdat),LAG(EXTRACT(DATE FROM createdat)) OVER(PARTITION BY Telefono ORDER BY EXTRACT(DATE FROM createdat)), DAY) AS dias_compra \n",
    "            FROM(\n",
    "                  SELECT *,\n",
    "                        EXTRACT(YEAR FROM createdAt) AS YEAR,\n",
    "                        EXTRACT(MONTH FROM createdAt) as MONTH,\n",
    "                        CASE WHEN mes in (5,6,7,8,9) THEN 1 ELSE 0 END AS IND_TA,\n",
    "                        CASE WHEN mes in (5,6,7,8,9) THEN total_kilos_pedido ELSE 0 END AS KILOS_TA,\n",
    "                        CASE WHEN tipo_pedido_bien = 'OFFLINE' THEN customerNoIfOffline\n",
    "                              WHEN tipo_pedido_bien = 'ONLINE' THEN mobile\n",
    "                              ELSE mobile END AS Telefono,\n",
    "                        CASE WHEN status = 'COMPLETED' THEN 'COMPLETADO' ELSE 'NO COMPLETADO' END AS ESTADO_PEDIDO, \n",
    "                  FROM `gasco-analytics.gasco.pedidos_gasconnect_todos_javier`\n",
    "                  WHERE CAST(createdAt as DATE) >= '2019-01-01' --SELECCIONA LOS PEDIDOS DE UN AÑO MOVIL\n",
    "                  AND isAnulled IS NULL     --PEDIDO NO ANULADO\n",
    "                  --AND mobile IS NOT NULL    --TELEFONO NO NULO\n",
    "                  AND TIPO_PEDIDO_BIEN IN ('OFFLINE', 'ONLINE')\n",
    "            )\n",
    "            WHERE ESTADO_PEDIDO = 'COMPLETADO'\n",
    "      )\n",
    "      GROUP BY EXTRACT(YEAR FROM createdat), TELEFONO\n",
    ") AS A   \n",
    "\n",
    "LEFT JOIN `gasco-analytics.gasco_modelos.20210218_prediccion_modelo_uso_gas` AS B  \n",
    "ON(A.TELEFONO = B.telefono)\n",
    "\"\"\""
   ]
  },
  {
   "cell_type": "markdown",
   "metadata": {},
   "source": [
    "**Actualización de los datos: 2021-04-20**"
   ]
  },
  {
   "cell_type": "code",
   "execution_count": 4,
   "metadata": {},
   "outputs": [
    {
     "name": "stderr",
     "output_type": "stream",
     "text": [
      "C:\\Users\\fbenavides\\Anaconda3\\lib\\site-packages\\numpy\\lib\\arraysetops.py:569: FutureWarning: elementwise comparison failed; returning scalar instead, but in the future will perform elementwise comparison\n",
      "  mask |= (ar1 == a)\n"
     ]
    },
    {
     "data": {
      "text/html": [
       "<div>\n",
       "<style scoped>\n",
       "    .dataframe tbody tr th:only-of-type {\n",
       "        vertical-align: middle;\n",
       "    }\n",
       "\n",
       "    .dataframe tbody tr th {\n",
       "        vertical-align: top;\n",
       "    }\n",
       "\n",
       "    .dataframe thead th {\n",
       "        text-align: right;\n",
       "    }\n",
       "</style>\n",
       "<table border=\"1\" class=\"dataframe\">\n",
       "  <thead>\n",
       "    <tr style=\"text-align: right;\">\n",
       "      <th></th>\n",
       "      <th>YEAR</th>\n",
       "      <th>TELEFONO</th>\n",
       "      <th>PEDIDOS_TA</th>\n",
       "      <th>KILOS_TA</th>\n",
       "      <th>TOTAL_PEDIDOS</th>\n",
       "      <th>TOTAL_KILOS</th>\n",
       "      <th>MESES_COMPRA</th>\n",
       "      <th>FECHA_PRIMER_PEDIDO</th>\n",
       "      <th>FECHA_ULTIMO_PEDIDO</th>\n",
       "      <th>frec_compra_promedio</th>\n",
       "      <th>desv_frec_compra</th>\n",
       "      <th>n_canales</th>\n",
       "      <th>tipo_pedido</th>\n",
       "      <th>TIPO_CLIENTE</th>\n",
       "      <th>predict_estufa</th>\n",
       "      <th>predict_parrilla</th>\n",
       "      <th>predict_cocina</th>\n",
       "      <th>predict_calefont</th>\n",
       "    </tr>\n",
       "  </thead>\n",
       "  <tbody>\n",
       "    <tr>\n",
       "      <th>0</th>\n",
       "      <td>2020</td>\n",
       "      <td>229660976.0</td>\n",
       "      <td>3</td>\n",
       "      <td>35.0</td>\n",
       "      <td>5</td>\n",
       "      <td>65.0</td>\n",
       "      <td>5</td>\n",
       "      <td>2020-06-22</td>\n",
       "      <td>2020-12-08</td>\n",
       "      <td>42.250000</td>\n",
       "      <td>9.178780</td>\n",
       "      <td>1</td>\n",
       "      <td>OFFLINE</td>\n",
       "      <td>OFFLINE</td>\n",
       "      <td>1.0</td>\n",
       "      <td>0.0</td>\n",
       "      <td>1.0</td>\n",
       "      <td>1.0</td>\n",
       "    </tr>\n",
       "    <tr>\n",
       "      <th>1</th>\n",
       "      <td>2020</td>\n",
       "      <td>988048810.0</td>\n",
       "      <td>15</td>\n",
       "      <td>240.0</td>\n",
       "      <td>16</td>\n",
       "      <td>255.0</td>\n",
       "      <td>6</td>\n",
       "      <td>2020-05-19</td>\n",
       "      <td>2020-10-02</td>\n",
       "      <td>9.066667</td>\n",
       "      <td>4.832430</td>\n",
       "      <td>1</td>\n",
       "      <td>ONLINE</td>\n",
       "      <td>ONLINE</td>\n",
       "      <td>1.0</td>\n",
       "      <td>0.0</td>\n",
       "      <td>0.0</td>\n",
       "      <td>0.0</td>\n",
       "    </tr>\n",
       "    <tr>\n",
       "      <th>2</th>\n",
       "      <td>2020</td>\n",
       "      <td>982525155.0</td>\n",
       "      <td>4</td>\n",
       "      <td>71.0</td>\n",
       "      <td>6</td>\n",
       "      <td>112.0</td>\n",
       "      <td>3</td>\n",
       "      <td>2020-04-20</td>\n",
       "      <td>2020-09-01</td>\n",
       "      <td>26.800000</td>\n",
       "      <td>30.244008</td>\n",
       "      <td>1</td>\n",
       "      <td>ONLINE</td>\n",
       "      <td>ONLINE</td>\n",
       "      <td>1.0</td>\n",
       "      <td>0.0</td>\n",
       "      <td>1.0</td>\n",
       "      <td>1.0</td>\n",
       "    </tr>\n",
       "    <tr>\n",
       "      <th>3</th>\n",
       "      <td>2020</td>\n",
       "      <td>986855339.0</td>\n",
       "      <td>10</td>\n",
       "      <td>128.0</td>\n",
       "      <td>13</td>\n",
       "      <td>165.0</td>\n",
       "      <td>8</td>\n",
       "      <td>2020-01-21</td>\n",
       "      <td>2020-10-24</td>\n",
       "      <td>23.076923</td>\n",
       "      <td>24.098622</td>\n",
       "      <td>1</td>\n",
       "      <td>ONLINE</td>\n",
       "      <td>ONLINE</td>\n",
       "      <td>0.0</td>\n",
       "      <td>0.0</td>\n",
       "      <td>1.0</td>\n",
       "      <td>1.0</td>\n",
       "    </tr>\n",
       "    <tr>\n",
       "      <th>4</th>\n",
       "      <td>2020</td>\n",
       "      <td>993379629.0</td>\n",
       "      <td>6</td>\n",
       "      <td>88.0</td>\n",
       "      <td>7</td>\n",
       "      <td>99.0</td>\n",
       "      <td>5</td>\n",
       "      <td>2020-04-14</td>\n",
       "      <td>2020-08-21</td>\n",
       "      <td>41.428571</td>\n",
       "      <td>53.705546</td>\n",
       "      <td>2</td>\n",
       "      <td>ONLINE</td>\n",
       "      <td>ON-OFF</td>\n",
       "      <td>1.0</td>\n",
       "      <td>0.0</td>\n",
       "      <td>1.0</td>\n",
       "      <td>0.0</td>\n",
       "    </tr>\n",
       "  </tbody>\n",
       "</table>\n",
       "</div>"
      ],
      "text/plain": [
       "   YEAR     TELEFONO  PEDIDOS_TA  KILOS_TA  TOTAL_PEDIDOS  TOTAL_KILOS  \\\n",
       "0  2020  229660976.0           3      35.0              5         65.0   \n",
       "1  2020  988048810.0          15     240.0             16        255.0   \n",
       "2  2020  982525155.0           4      71.0              6        112.0   \n",
       "3  2020  986855339.0          10     128.0             13        165.0   \n",
       "4  2020  993379629.0           6      88.0              7         99.0   \n",
       "\n",
       "   MESES_COMPRA FECHA_PRIMER_PEDIDO FECHA_ULTIMO_PEDIDO  frec_compra_promedio  \\\n",
       "0             5          2020-06-22          2020-12-08             42.250000   \n",
       "1             6          2020-05-19          2020-10-02              9.066667   \n",
       "2             3          2020-04-20          2020-09-01             26.800000   \n",
       "3             8          2020-01-21          2020-10-24             23.076923   \n",
       "4             5          2020-04-14          2020-08-21             41.428571   \n",
       "\n",
       "   desv_frec_compra  n_canales tipo_pedido TIPO_CLIENTE  predict_estufa  \\\n",
       "0          9.178780          1     OFFLINE      OFFLINE             1.0   \n",
       "1          4.832430          1      ONLINE       ONLINE             1.0   \n",
       "2         30.244008          1      ONLINE       ONLINE             1.0   \n",
       "3         24.098622          1      ONLINE       ONLINE             0.0   \n",
       "4         53.705546          2      ONLINE       ON-OFF             1.0   \n",
       "\n",
       "   predict_parrilla  predict_cocina  predict_calefont  \n",
       "0               0.0             1.0               1.0  \n",
       "1               0.0             0.0               0.0  \n",
       "2               0.0             1.0               1.0  \n",
       "3               0.0             1.0               1.0  \n",
       "4               0.0             1.0               0.0  "
      ]
     },
     "execution_count": 4,
     "metadata": {},
     "output_type": "execute_result"
    }
   ],
   "source": [
    "read_data = True\n",
    "if read_data:\n",
    "    df_anual = pd.read_csv('datos\\datos_exploratorio_fuga.csv',sep = ';', index_col = 0)\n",
    "else:\n",
    "    query_job = client.query(query_gasconnect)  # API request\n",
    "    #rows = query_job.result()  # Waits for query to finish\n",
    "    df_anual = query_job.to_dataframe()\n",
    "\n",
    "    #guardamos como csv los datos\n",
    "    df_anual.to_csv('datos\\datos_exploratorio_fuga.csv',sep = ';')\n",
    "\n",
    "df_anual.head(5)"
   ]
  },
  {
   "cell_type": "code",
   "execution_count": 5,
   "metadata": {},
   "outputs": [
    {
     "data": {
      "text/html": [
       "<div>\n",
       "<style scoped>\n",
       "    .dataframe tbody tr th:only-of-type {\n",
       "        vertical-align: middle;\n",
       "    }\n",
       "\n",
       "    .dataframe tbody tr th {\n",
       "        vertical-align: top;\n",
       "    }\n",
       "\n",
       "    .dataframe thead th {\n",
       "        text-align: right;\n",
       "    }\n",
       "</style>\n",
       "<table border=\"1\" class=\"dataframe\">\n",
       "  <thead>\n",
       "    <tr style=\"text-align: right;\">\n",
       "      <th></th>\n",
       "      <th>YEAR</th>\n",
       "      <th>TELEFONO</th>\n",
       "      <th>PEDIDOS_TA</th>\n",
       "      <th>KILOS_TA</th>\n",
       "      <th>TOTAL_PEDIDOS</th>\n",
       "      <th>TOTAL_KILOS</th>\n",
       "      <th>MESES_COMPRA</th>\n",
       "      <th>FECHA_PRIMER_PEDIDO</th>\n",
       "      <th>FECHA_ULTIMO_PEDIDO</th>\n",
       "      <th>frec_compra_promedio</th>\n",
       "      <th>desv_frec_compra</th>\n",
       "      <th>n_canales</th>\n",
       "      <th>tipo_pedido</th>\n",
       "      <th>TIPO_CLIENTE</th>\n",
       "      <th>predict_estufa</th>\n",
       "      <th>predict_parrilla</th>\n",
       "      <th>predict_cocina</th>\n",
       "      <th>predict_calefont</th>\n",
       "    </tr>\n",
       "  </thead>\n",
       "  <tbody>\n",
       "  </tbody>\n",
       "</table>\n",
       "</div>"
      ],
      "text/plain": [
       "Empty DataFrame\n",
       "Columns: [YEAR, TELEFONO, PEDIDOS_TA, KILOS_TA, TOTAL_PEDIDOS, TOTAL_KILOS, MESES_COMPRA, FECHA_PRIMER_PEDIDO, FECHA_ULTIMO_PEDIDO, frec_compra_promedio, desv_frec_compra, n_canales, tipo_pedido, TIPO_CLIENTE, predict_estufa, predict_parrilla, predict_cocina, predict_calefont]\n",
       "Index: []"
      ]
     },
     "execution_count": 5,
     "metadata": {},
     "output_type": "execute_result"
    }
   ],
   "source": [
    "#Test de sanidad (El total de pedidos siempre debe ser mayor que los meses con compra)\n",
    "df_anual[df_anual['TOTAL_PEDIDOS']/df_anual['MESES_COMPRA'] < 1]"
   ]
  },
  {
   "cell_type": "code",
   "execution_count": 6,
   "metadata": {},
   "outputs": [
    {
     "data": {
      "text/html": [
       "<div>\n",
       "<style scoped>\n",
       "    .dataframe tbody tr th:only-of-type {\n",
       "        vertical-align: middle;\n",
       "    }\n",
       "\n",
       "    .dataframe tbody tr th {\n",
       "        vertical-align: top;\n",
       "    }\n",
       "\n",
       "    .dataframe thead th {\n",
       "        text-align: right;\n",
       "    }\n",
       "</style>\n",
       "<table border=\"1\" class=\"dataframe\">\n",
       "  <thead>\n",
       "    <tr style=\"text-align: right;\">\n",
       "      <th></th>\n",
       "      <th>YEAR</th>\n",
       "      <th>TELEFONO</th>\n",
       "      <th>PEDIDOS_TA</th>\n",
       "      <th>KILOS_TA</th>\n",
       "      <th>TOTAL_PEDIDOS</th>\n",
       "      <th>TOTAL_KILOS</th>\n",
       "      <th>MESES_COMPRA</th>\n",
       "      <th>FECHA_PRIMER_PEDIDO</th>\n",
       "      <th>FECHA_ULTIMO_PEDIDO</th>\n",
       "      <th>frec_compra_promedio</th>\n",
       "      <th>desv_frec_compra</th>\n",
       "      <th>n_canales</th>\n",
       "      <th>tipo_pedido</th>\n",
       "      <th>TIPO_CLIENTE</th>\n",
       "      <th>predict_estufa</th>\n",
       "      <th>predict_parrilla</th>\n",
       "      <th>predict_cocina</th>\n",
       "      <th>predict_calefont</th>\n",
       "      <th>porcentaje_pedidos_TA</th>\n",
       "      <th>recencia</th>\n",
       "    </tr>\n",
       "  </thead>\n",
       "  <tbody>\n",
       "    <tr>\n",
       "      <th>0</th>\n",
       "      <td>2020</td>\n",
       "      <td>229660976.0</td>\n",
       "      <td>3</td>\n",
       "      <td>35.0</td>\n",
       "      <td>5</td>\n",
       "      <td>65.0</td>\n",
       "      <td>5</td>\n",
       "      <td>2020-06-22</td>\n",
       "      <td>2020-12-08</td>\n",
       "      <td>42.250000</td>\n",
       "      <td>9.17878</td>\n",
       "      <td>1</td>\n",
       "      <td>OFFLINE</td>\n",
       "      <td>OFFLINE</td>\n",
       "      <td>1.0</td>\n",
       "      <td>0.0</td>\n",
       "      <td>1.0</td>\n",
       "      <td>1.0</td>\n",
       "      <td>0.6000</td>\n",
       "      <td>120</td>\n",
       "    </tr>\n",
       "    <tr>\n",
       "      <th>1</th>\n",
       "      <td>2020</td>\n",
       "      <td>988048810.0</td>\n",
       "      <td>15</td>\n",
       "      <td>240.0</td>\n",
       "      <td>16</td>\n",
       "      <td>255.0</td>\n",
       "      <td>6</td>\n",
       "      <td>2020-05-19</td>\n",
       "      <td>2020-10-02</td>\n",
       "      <td>9.066667</td>\n",
       "      <td>4.83243</td>\n",
       "      <td>1</td>\n",
       "      <td>ONLINE</td>\n",
       "      <td>ONLINE</td>\n",
       "      <td>1.0</td>\n",
       "      <td>0.0</td>\n",
       "      <td>0.0</td>\n",
       "      <td>0.0</td>\n",
       "      <td>0.9375</td>\n",
       "      <td>187</td>\n",
       "    </tr>\n",
       "  </tbody>\n",
       "</table>\n",
       "</div>"
      ],
      "text/plain": [
       "   YEAR     TELEFONO  PEDIDOS_TA  KILOS_TA  TOTAL_PEDIDOS  TOTAL_KILOS  \\\n",
       "0  2020  229660976.0           3      35.0              5         65.0   \n",
       "1  2020  988048810.0          15     240.0             16        255.0   \n",
       "\n",
       "   MESES_COMPRA FECHA_PRIMER_PEDIDO FECHA_ULTIMO_PEDIDO  frec_compra_promedio  \\\n",
       "0             5          2020-06-22          2020-12-08             42.250000   \n",
       "1             6          2020-05-19          2020-10-02              9.066667   \n",
       "\n",
       "   desv_frec_compra  n_canales tipo_pedido TIPO_CLIENTE  predict_estufa  \\\n",
       "0           9.17878          1     OFFLINE      OFFLINE             1.0   \n",
       "1           4.83243          1      ONLINE       ONLINE             1.0   \n",
       "\n",
       "   predict_parrilla  predict_cocina  predict_calefont  porcentaje_pedidos_TA  \\\n",
       "0               0.0             1.0               1.0                 0.6000   \n",
       "1               0.0             0.0               0.0                 0.9375   \n",
       "\n",
       "   recencia  \n",
       "0       120  \n",
       "1       187  "
      ]
     },
     "execution_count": 6,
     "metadata": {},
     "output_type": "execute_result"
    }
   ],
   "source": [
    "df_anual['FECHA_PRIMER_PEDIDO'] = pd.to_datetime(df_anual['FECHA_PRIMER_PEDIDO'])\n",
    "df_anual['FECHA_ULTIMO_PEDIDO'] = pd.to_datetime(df_anual['FECHA_ULTIMO_PEDIDO'])\n",
    "\n",
    "df_anual['porcentaje_pedidos_TA'] = df_anual['PEDIDOS_TA']/df_anual['TOTAL_PEDIDOS']\n",
    "df_anual['recencia'] = (date(2021, 4, 7) - df_anual['FECHA_ULTIMO_PEDIDO'].dt.date).dt.days\n",
    "\n",
    "df_anual.head(2)"
   ]
  },
  {
   "cell_type": "markdown",
   "metadata": {},
   "source": [
    "# Conteo y deteccion clientes TA"
   ]
  },
  {
   "cell_type": "code",
   "execution_count": 7,
   "metadata": {},
   "outputs": [
    {
     "name": "stdout",
     "output_type": "stream",
     "text": [
      "Clientes unicos año 2019: 283434\n",
      "Clientes unicos año 2020: 610201\n",
      "Clientes unicos año 2021: 232683\n",
      "Clientes unicos total Gasconnect: 852159\n"
     ]
    }
   ],
   "source": [
    "df_2019 = df_anual[df_anual.YEAR == 2019]\n",
    "df_2020 = df_anual[df_anual.YEAR == 2020]\n",
    "df_2021 = df_anual[df_anual.YEAR == 2021]\n",
    "\n",
    "\n",
    "print('Clientes unicos año 2019:', len(df_2019))\n",
    "print('Clientes unicos año 2020:', len(df_2020))\n",
    "print('Clientes unicos año 2021:', len(df_2021))\n",
    "print('Clientes unicos total Gasconnect:', df_anual.TELEFONO.nunique())"
   ]
  },
  {
   "cell_type": "markdown",
   "metadata": {},
   "source": [
    "### Clientes Heavy-User Invierno"
   ]
  },
  {
   "cell_type": "code",
   "execution_count": 8,
   "metadata": {},
   "outputs": [
    {
     "name": "stdout",
     "output_type": "stream",
     "text": [
      "clientes que compran en TA en 2020: 241376\n",
      "clientes que compran en TA en 2019: 108684\n"
     ]
    }
   ],
   "source": [
    "clientes_TA_2020 = df_2020[df_2020.porcentaje_pedidos_TA == 1]\n",
    "clientes_TA_2019 = df_2019[df_2019.porcentaje_pedidos_TA == 1]\n",
    "\n",
    "print('clientes que compran en TA en 2020:',len(clientes_TA_2020))\n",
    "print('clientes que compran en TA en 2019:',len(clientes_TA_2019))\n",
    "\n",
    "clientes_TA_total = clientes_TA_2020.merge(clientes_TA_2019,\n",
    "                                           how = 'outer',\n",
    "                                           on = 'TELEFONO',\n",
    "                                           suffixes=('_2020', '_2019'),\n",
    "                                           indicator = True)\n",
    "clientes_TA_total.to_csv('clientes_TA_2019_2020.csv',sep = ';')"
   ]
  },
  {
   "cell_type": "code",
   "execution_count": 9,
   "metadata": {},
   "outputs": [
    {
     "name": "stdout",
     "output_type": "stream",
     "text": [
      "clientes que compraron en TA solo en 2019: 95590\n",
      "clientes que compraron en TA solo en 2020: 228282\n",
      "clientes que compraron en TA en ambos años: 13094\n"
     ]
    }
   ],
   "source": [
    "exclusivos_TA_2020 = clientes_TA_total[clientes_TA_total._merge == 'left_only']  #Solo en 2020\n",
    "exclusivos_TA_2019 = clientes_TA_total[clientes_TA_total._merge == 'right_only'] #Solo en 2019\n",
    "clientes_solo_TA   = clientes_TA_total[clientes_TA_total._merge == 'both']       #Ambos años\n",
    "\n",
    "\n",
    "print('clientes que compraron en TA solo en 2019:',  len(exclusivos_TA_2019))\n",
    "print('clientes que compraron en TA solo en 2020:',  len(exclusivos_TA_2020))\n",
    "print('clientes que compraron en TA en ambos años:', len(clientes_solo_TA))"
   ]
  },
  {
   "cell_type": "markdown",
   "metadata": {},
   "source": [
    "### Distribución clientes por %Pedidos en TA"
   ]
  },
  {
   "cell_type": "code",
   "execution_count": 10,
   "metadata": {},
   "outputs": [
    {
     "data": {
      "text/plain": [
       "<AxesSubplot:xlabel='porcentaje_pedidos_TA', ylabel='Probability'>"
      ]
     },
     "execution_count": 10,
     "metadata": {},
     "output_type": "execute_result"
    },
    {
     "data": {
      "image/png": "[encoded data removed]",
      "text/plain": [
       "<Figure size 1080x360 with 2 Axes>"
      ]
     },
     "metadata": {
      "needs_background": "light"
     },
     "output_type": "display_data"
    }
   ],
   "source": [
    "fig, axs = plt.subplots(2, figsize = (15,5), sharex = True)\n",
    "fig.suptitle('Clientes por %pedidos en temporada alta (año 2019)', fontsize=16)\n",
    "\n",
    "sns.histplot(ax = axs[0], data = df_2019, x = 'porcentaje_pedidos_TA',binwidth=0.1)\n",
    "sns.histplot(ax = axs[1], data = df_2019, x = 'porcentaje_pedidos_TA',binwidth=0.1,\n",
    "             cumulative=True,element=\"step\",fill=False, stat='probability')"
   ]
  },
  {
   "cell_type": "code",
   "execution_count": 11,
   "metadata": {},
   "outputs": [
    {
     "data": {
      "image/png": "[encoded data removed]",
      "text/plain": [
       "<Figure size 1080x360 with 2 Axes>"
      ]
     },
     "metadata": {
      "needs_background": "light"
     },
     "output_type": "display_data"
    }
   ],
   "source": [
    "fig, axs = plt.subplots(2, figsize = (15,5), sharex = True)\n",
    "fig.suptitle('Clientes por %pedidos en temporada alta (año 2020)', fontsize=16)\n",
    "\n",
    "sns.histplot(ax = axs[0], data = df_2020, x = 'porcentaje_pedidos_TA',binwidth=0.1)\n",
    "sns.histplot(ax = axs[1], data = df_2020, x = 'porcentaje_pedidos_TA',binwidth=0.1,\n",
    "             cumulative=True,element=\"step\",fill=False, stat='probability')\n",
    "fig.savefig('%pedidos_TA.png', bbox_inches='tight')"
   ]
  },
  {
   "cell_type": "markdown",
   "metadata": {},
   "source": [
    "### Cantidad/porcentaje de clientes con compra en X meses"
   ]
  },
  {
   "cell_type": "code",
   "execution_count": 12,
   "metadata": {},
   "outputs": [
    {
     "data": {
      "text/html": [
       "<div>\n",
       "<style scoped>\n",
       "    .dataframe tbody tr th:only-of-type {\n",
       "        vertical-align: middle;\n",
       "    }\n",
       "\n",
       "    .dataframe tbody tr th {\n",
       "        vertical-align: top;\n",
       "    }\n",
       "\n",
       "    .dataframe thead th {\n",
       "        text-align: right;\n",
       "    }\n",
       "</style>\n",
       "<table border=\"1\" class=\"dataframe\">\n",
       "  <thead>\n",
       "    <tr style=\"text-align: right;\">\n",
       "      <th></th>\n",
       "      <th>YEAR</th>\n",
       "      <th>TELEFONO</th>\n",
       "      <th>PEDIDOS_TA</th>\n",
       "      <th>KILOS_TA</th>\n",
       "      <th>TOTAL_PEDIDOS</th>\n",
       "      <th>TOTAL_KILOS</th>\n",
       "      <th>MESES_COMPRA</th>\n",
       "      <th>FECHA_PRIMER_PEDIDO</th>\n",
       "      <th>FECHA_ULTIMO_PEDIDO</th>\n",
       "      <th>frec_compra_promedio</th>\n",
       "      <th>desv_frec_compra</th>\n",
       "      <th>n_canales</th>\n",
       "      <th>tipo_pedido</th>\n",
       "      <th>TIPO_CLIENTE</th>\n",
       "      <th>predict_estufa</th>\n",
       "      <th>predict_parrilla</th>\n",
       "      <th>predict_cocina</th>\n",
       "      <th>predict_calefont</th>\n",
       "      <th>porcentaje_pedidos_TA</th>\n",
       "      <th>recencia</th>\n",
       "    </tr>\n",
       "  </thead>\n",
       "  <tbody>\n",
       "    <tr>\n",
       "      <th>0</th>\n",
       "      <td>2020</td>\n",
       "      <td>229660976.0</td>\n",
       "      <td>3</td>\n",
       "      <td>35.0</td>\n",
       "      <td>5</td>\n",
       "      <td>65.0</td>\n",
       "      <td>5</td>\n",
       "      <td>2020-06-22</td>\n",
       "      <td>2020-12-08</td>\n",
       "      <td>42.250000</td>\n",
       "      <td>9.17878</td>\n",
       "      <td>1</td>\n",
       "      <td>OFFLINE</td>\n",
       "      <td>OFFLINE</td>\n",
       "      <td>1.0</td>\n",
       "      <td>0.0</td>\n",
       "      <td>1.0</td>\n",
       "      <td>1.0</td>\n",
       "      <td>0.6000</td>\n",
       "      <td>120</td>\n",
       "    </tr>\n",
       "    <tr>\n",
       "      <th>1</th>\n",
       "      <td>2020</td>\n",
       "      <td>988048810.0</td>\n",
       "      <td>15</td>\n",
       "      <td>240.0</td>\n",
       "      <td>16</td>\n",
       "      <td>255.0</td>\n",
       "      <td>6</td>\n",
       "      <td>2020-05-19</td>\n",
       "      <td>2020-10-02</td>\n",
       "      <td>9.066667</td>\n",
       "      <td>4.83243</td>\n",
       "      <td>1</td>\n",
       "      <td>ONLINE</td>\n",
       "      <td>ONLINE</td>\n",
       "      <td>1.0</td>\n",
       "      <td>0.0</td>\n",
       "      <td>0.0</td>\n",
       "      <td>0.0</td>\n",
       "      <td>0.9375</td>\n",
       "      <td>187</td>\n",
       "    </tr>\n",
       "  </tbody>\n",
       "</table>\n",
       "</div>"
      ],
      "text/plain": [
       "   YEAR     TELEFONO  PEDIDOS_TA  KILOS_TA  TOTAL_PEDIDOS  TOTAL_KILOS  \\\n",
       "0  2020  229660976.0           3      35.0              5         65.0   \n",
       "1  2020  988048810.0          15     240.0             16        255.0   \n",
       "\n",
       "   MESES_COMPRA FECHA_PRIMER_PEDIDO FECHA_ULTIMO_PEDIDO  frec_compra_promedio  \\\n",
       "0             5          2020-06-22          2020-12-08             42.250000   \n",
       "1             6          2020-05-19          2020-10-02              9.066667   \n",
       "\n",
       "   desv_frec_compra  n_canales tipo_pedido TIPO_CLIENTE  predict_estufa  \\\n",
       "0           9.17878          1     OFFLINE      OFFLINE             1.0   \n",
       "1           4.83243          1      ONLINE       ONLINE             1.0   \n",
       "\n",
       "   predict_parrilla  predict_cocina  predict_calefont  porcentaje_pedidos_TA  \\\n",
       "0               0.0             1.0               1.0                 0.6000   \n",
       "1               0.0             0.0               0.0                 0.9375   \n",
       "\n",
       "   recencia  \n",
       "0       120  \n",
       "1       187  "
      ]
     },
     "execution_count": 12,
     "metadata": {},
     "output_type": "execute_result"
    }
   ],
   "source": [
    "df_2020.head(2)"
   ]
  },
  {
   "cell_type": "code",
   "execution_count": 13,
   "metadata": {},
   "outputs": [
    {
     "data": {
      "text/html": [
       "<div>\n",
       "<style scoped>\n",
       "    .dataframe tbody tr th:only-of-type {\n",
       "        vertical-align: middle;\n",
       "    }\n",
       "\n",
       "    .dataframe tbody tr th {\n",
       "        vertical-align: top;\n",
       "    }\n",
       "\n",
       "    .dataframe thead th {\n",
       "        text-align: right;\n",
       "    }\n",
       "</style>\n",
       "<table border=\"1\" class=\"dataframe\">\n",
       "  <thead>\n",
       "    <tr style=\"text-align: right;\">\n",
       "      <th></th>\n",
       "      <th>MESES_COMPRA</th>\n",
       "      <th>TELEFONO</th>\n",
       "      <th>perc_clientes</th>\n",
       "      <th>perc_acumulado</th>\n",
       "    </tr>\n",
       "  </thead>\n",
       "  <tbody>\n",
       "    <tr>\n",
       "      <th>0</th>\n",
       "      <td>1</td>\n",
       "      <td>324844</td>\n",
       "      <td>53.235573</td>\n",
       "      <td>53.235573</td>\n",
       "    </tr>\n",
       "    <tr>\n",
       "      <th>1</th>\n",
       "      <td>2</td>\n",
       "      <td>99905</td>\n",
       "      <td>16.372474</td>\n",
       "      <td>69.608047</td>\n",
       "    </tr>\n",
       "    <tr>\n",
       "      <th>2</th>\n",
       "      <td>3</td>\n",
       "      <td>58133</td>\n",
       "      <td>9.526861</td>\n",
       "      <td>79.134908</td>\n",
       "    </tr>\n",
       "    <tr>\n",
       "      <th>3</th>\n",
       "      <td>4</td>\n",
       "      <td>40397</td>\n",
       "      <td>6.620278</td>\n",
       "      <td>85.755186</td>\n",
       "    </tr>\n",
       "    <tr>\n",
       "      <th>4</th>\n",
       "      <td>5</td>\n",
       "      <td>29204</td>\n",
       "      <td>4.785964</td>\n",
       "      <td>90.541150</td>\n",
       "    </tr>\n",
       "    <tr>\n",
       "      <th>5</th>\n",
       "      <td>6</td>\n",
       "      <td>21434</td>\n",
       "      <td>3.512613</td>\n",
       "      <td>94.053763</td>\n",
       "    </tr>\n",
       "    <tr>\n",
       "      <th>6</th>\n",
       "      <td>7</td>\n",
       "      <td>14235</td>\n",
       "      <td>2.332838</td>\n",
       "      <td>96.386600</td>\n",
       "    </tr>\n",
       "    <tr>\n",
       "      <th>7</th>\n",
       "      <td>8</td>\n",
       "      <td>9030</td>\n",
       "      <td>1.479840</td>\n",
       "      <td>97.866441</td>\n",
       "    </tr>\n",
       "    <tr>\n",
       "      <th>8</th>\n",
       "      <td>9</td>\n",
       "      <td>6034</td>\n",
       "      <td>0.988854</td>\n",
       "      <td>98.855295</td>\n",
       "    </tr>\n",
       "    <tr>\n",
       "      <th>9</th>\n",
       "      <td>10</td>\n",
       "      <td>3580</td>\n",
       "      <td>0.586692</td>\n",
       "      <td>99.441987</td>\n",
       "    </tr>\n",
       "    <tr>\n",
       "      <th>10</th>\n",
       "      <td>11</td>\n",
       "      <td>2214</td>\n",
       "      <td>0.362831</td>\n",
       "      <td>99.804818</td>\n",
       "    </tr>\n",
       "    <tr>\n",
       "      <th>11</th>\n",
       "      <td>12</td>\n",
       "      <td>1190</td>\n",
       "      <td>0.195018</td>\n",
       "      <td>99.999836</td>\n",
       "    </tr>\n",
       "  </tbody>\n",
       "</table>\n",
       "</div>"
      ],
      "text/plain": [
       "    MESES_COMPRA  TELEFONO  perc_clientes  perc_acumulado\n",
       "0              1    324844      53.235573       53.235573\n",
       "1              2     99905      16.372474       69.608047\n",
       "2              3     58133       9.526861       79.134908\n",
       "3              4     40397       6.620278       85.755186\n",
       "4              5     29204       4.785964       90.541150\n",
       "5              6     21434       3.512613       94.053763\n",
       "6              7     14235       2.332838       96.386600\n",
       "7              8      9030       1.479840       97.866441\n",
       "8              9      6034       0.988854       98.855295\n",
       "9             10      3580       0.586692       99.441987\n",
       "10            11      2214       0.362831       99.804818\n",
       "11            12      1190       0.195018       99.999836"
      ]
     },
     "execution_count": 13,
     "metadata": {},
     "output_type": "execute_result"
    }
   ],
   "source": [
    "n_clientes_2020 = len(df_2020)\n",
    "\n",
    "conteo_2020 = df_2020[['MESES_COMPRA','TELEFONO']].groupby('MESES_COMPRA').count().reset_index()\n",
    "conteo_2020['perc_clientes']  = 100*conteo_2020['TELEFONO']/n_clientes_2020\n",
    "conteo_2020['perc_acumulado'] = conteo_2020['perc_clientes'].cumsum()\n",
    "conteo_2020"
   ]
  },
  {
   "cell_type": "code",
   "execution_count": 14,
   "metadata": {},
   "outputs": [
    {
     "data": {
      "text/plain": [
       "<AxesSubplot:xlabel='MESES_COMPRA', ylabel='perc_clientes'>"
      ]
     },
     "execution_count": 14,
     "metadata": {},
     "output_type": "execute_result"
    },
    {
     "data": {
      "image/png": "[encoded data removed]",
      "text/plain": [
       "<Figure size 1080x360 with 1 Axes>"
      ]
     },
     "metadata": {
      "needs_background": "light"
     },
     "output_type": "display_data"
    }
   ],
   "source": [
    "f, ax = plt.subplots(figsize = (15,5))\n",
    "sns.barplot(data = conteo_2020, x = \"MESES_COMPRA\", y = \"perc_clientes\")"
   ]
  },
  {
   "cell_type": "markdown",
   "metadata": {},
   "source": [
    "### Grafico recencia/ frecuencia/ pedidosTA clientes 2020"
   ]
  },
  {
   "cell_type": "code",
   "execution_count": 15,
   "metadata": {},
   "outputs": [
    {
     "name": "stderr",
     "output_type": "stream",
     "text": [
      "<ipython-input-15-2bcae77ee0b9>:1: SettingWithCopyWarning: \n",
      "A value is trying to be set on a copy of a slice from a DataFrame.\n",
      "Try using .loc[row_indexer,col_indexer] = value instead\n",
      "\n",
      "See the caveats in the documentation: https://pandas.pydata.org/pandas-docs/stable/user_guide/indexing.html#returning-a-view-versus-a-copy\n",
      "  df_2020['recencia_2020'] = (date(2020, 12, 31) - df_anual['FECHA_ULTIMO_PEDIDO'].dt.date).dt.days\n"
     ]
    }
   ],
   "source": [
    "df_2020['recencia_2020'] = (date(2020, 12, 31) - df_anual['FECHA_ULTIMO_PEDIDO'].dt.date).dt.days"
   ]
  },
  {
   "cell_type": "code",
   "execution_count": 16,
   "metadata": {},
   "outputs": [],
   "source": [
    "#recencia_2020, MESES_COMPRA,porcentaje_pedidos_TA\n",
    "a = df_2020[['TELEFONO','MESES_COMPRA','porcentaje_pedidos_TA','recencia_2020']]"
   ]
  },
  {
   "cell_type": "code",
   "execution_count": 17,
   "metadata": {},
   "outputs": [
    {
     "data": {
      "text/plain": [
       "<matplotlib.colorbar.Colorbar at 0x2479715ea30>"
      ]
     },
     "execution_count": 17,
     "metadata": {},
     "output_type": "execute_result"
    },
    {
     "data": {
      "image/png": "[encoded data removed]",
      "text/plain": [
       "<Figure size 1080x360 with 2 Axes>"
      ]
     },
     "metadata": {
      "needs_background": "light"
     },
     "output_type": "display_data"
    }
   ],
   "source": [
    "cmap = sns.light_palette(\"Navy\",as_cmap=True)\n",
    "#cmap = sns.diverging_palette(220, 20, as_cmap=True)\n",
    "\n",
    "\n",
    "f, ax = plt.subplots(figsize = (15,5))\n",
    "plt.yticks(np.arange(1, 13, step = 1))\n",
    "points = ax.scatter(a.recencia_2020, a.MESES_COMPRA, c=a.porcentaje_pedidos_TA, \n",
    "                    s=50, cmap=cmap)\n",
    "f.colorbar(points)"
   ]
  },
  {
   "cell_type": "markdown",
   "metadata": {},
   "source": [
    "# Analisis por uso de gas"
   ]
  },
  {
   "cell_type": "markdown",
   "metadata": {},
   "source": [
    "Creamos las siguientes marcas para agrupar por uso de gas:\n",
    "\n",
    "    a. Exclusivo Estufa.\n",
    "    b. Exclusivo Parrilla.\n",
    "    c. Exclusivo Cocina.\n",
    "    d. Exclusivo Calefont.\n",
    "    e. Calefont-Cocina Full.\n",
    "    f. Celefont-Cocina Mixto.\n",
    "    g. Estufa-Parrilla Full.\n",
    "    h. Mixto.\n",
    "    i. Sin clasificar."
   ]
  },
  {
   "cell_type": "code",
   "execution_count": 18,
   "metadata": {},
   "outputs": [
    {
     "name": "stderr",
     "output_type": "stream",
     "text": [
      "<ipython-input-18-bed8909d08d7>:36: SettingWithCopyWarning: \n",
      "A value is trying to be set on a copy of a slice from a DataFrame.\n",
      "Try using .loc[row_indexer,col_indexer] = value instead\n",
      "\n",
      "See the caveats in the documentation: https://pandas.pydata.org/pandas-docs/stable/user_guide/indexing.html#returning-a-view-versus-a-copy\n",
      "  df_2020['grupos_uso_gas'] = np.select(condiciones, valores,'mixto')\n"
     ]
    }
   ],
   "source": [
    "condiciones = [\n",
    "    #Sin Uso de Gas\n",
    "      (df_2020['predict_estufa'] == 0)   & (df_2020['predict_parrilla'] == 0) &\n",
    "      (df_2020['predict_calefont'] == 0) & (df_2020['predict_cocina'] == 0),\n",
    "    #Solo Estufa\n",
    "      (df_2020['predict_estufa'] == 1)   & (df_2020['predict_parrilla'] == 0) &\n",
    "      (df_2020['predict_calefont'] == 0) & (df_2020['predict_cocina'] == 0),\n",
    "    #Solo Parrilla\n",
    "      (df_2020['predict_estufa'] == 0)   & (df_2020['predict_parrilla'] == 1) &\n",
    "      (df_2020['predict_calefont'] == 0) & (df_2020['predict_cocina'] == 0),\n",
    "    #Solo Calefont\n",
    "      (df_2020['predict_estufa'] == 0)   & (df_2020['predict_parrilla'] == 0) &\n",
    "      (df_2020['predict_calefont'] == 1) & (df_2020['predict_cocina'] == 0),\n",
    "     #Solo Cocina\n",
    "      (df_2020['predict_estufa'] == 0)   & (df_2020['predict_parrilla'] == 0) &\n",
    "      (df_2020['predict_calefont'] == 0) & (df_2020['predict_cocina'] == 1),\n",
    "     #Celefont-Cocina Full\n",
    "      (df_2020['predict_estufa'] == 0)   & (df_2020['predict_parrilla'] == 0) &\n",
    "      (df_2020['predict_calefont'] == 1) & (df_2020['predict_cocina'] == 1),\n",
    "     #Celefont-Cocina Mixto\n",
    "      (df_2020['predict_estufa'] == 1)   & (df_2020['predict_parrilla'] == 0) &\n",
    "      (df_2020['predict_calefont'] == 1) & (df_2020['predict_cocina'] == 1),\n",
    "      (df_2020['predict_estufa'] == 0)   & (df_2020['predict_parrilla'] == 1) &\n",
    "      (df_2020['predict_calefont'] == 1) & (df_2020['predict_cocina'] == 1),\n",
    "      (df_2020['predict_estufa'] == 1)   & (df_2020['predict_parrilla'] == 1) &\n",
    "      (df_2020['predict_calefont'] == 1) & (df_2020['predict_cocina'] == 1),\n",
    "     #Estufa-Parrilla Full\n",
    "      (df_2020['predict_estufa'] == 1)   & (df_2020['predict_parrilla'] == 1) &\n",
    "      (df_2020['predict_calefont'] == 0) & (df_2020['predict_cocina'] == 0)\n",
    "]\n",
    "\n",
    "valores = ['sin clasificar','solo estufa','solo parrilla','solo calefont','solo cocina',\n",
    "           'calefont-cocina full','calefont-cocina mixto','calefont-cocina mixto',\n",
    "           'calefont-cocina mixto','estufa-parrilla full']\n",
    "\n",
    "df_2020['grupos_uso_gas'] = np.select(condiciones, valores,'mixto')"
   ]
  },
  {
   "cell_type": "code",
   "execution_count": 19,
   "metadata": {},
   "outputs": [
    {
     "data": {
      "text/html": [
       "<div>\n",
       "<style scoped>\n",
       "    .dataframe tbody tr th:only-of-type {\n",
       "        vertical-align: middle;\n",
       "    }\n",
       "\n",
       "    .dataframe tbody tr th {\n",
       "        vertical-align: top;\n",
       "    }\n",
       "\n",
       "    .dataframe thead th {\n",
       "        text-align: right;\n",
       "    }\n",
       "</style>\n",
       "<table border=\"1\" class=\"dataframe\">\n",
       "  <thead>\n",
       "    <tr style=\"text-align: right;\">\n",
       "      <th></th>\n",
       "      <th>grupos_uso_gas</th>\n",
       "      <th>TELEFONO</th>\n",
       "      <th>perc_clientes</th>\n",
       "    </tr>\n",
       "  </thead>\n",
       "  <tbody>\n",
       "    <tr>\n",
       "      <th>0</th>\n",
       "      <td>calefont-cocina full</td>\n",
       "      <td>260749</td>\n",
       "      <td>42.731657</td>\n",
       "    </tr>\n",
       "    <tr>\n",
       "      <th>1</th>\n",
       "      <td>calefont-cocina mixto</td>\n",
       "      <td>106156</td>\n",
       "      <td>17.396891</td>\n",
       "    </tr>\n",
       "    <tr>\n",
       "      <th>2</th>\n",
       "      <td>estufa-parrilla full</td>\n",
       "      <td>5751</td>\n",
       "      <td>0.942476</td>\n",
       "    </tr>\n",
       "    <tr>\n",
       "      <th>3</th>\n",
       "      <td>mixto</td>\n",
       "      <td>22357</td>\n",
       "      <td>3.663875</td>\n",
       "    </tr>\n",
       "    <tr>\n",
       "      <th>4</th>\n",
       "      <td>sin clasificar</td>\n",
       "      <td>157047</td>\n",
       "      <td>25.736929</td>\n",
       "    </tr>\n",
       "    <tr>\n",
       "      <th>5</th>\n",
       "      <td>solo calefont</td>\n",
       "      <td>11824</td>\n",
       "      <td>1.937722</td>\n",
       "    </tr>\n",
       "    <tr>\n",
       "      <th>6</th>\n",
       "      <td>solo cocina</td>\n",
       "      <td>8004</td>\n",
       "      <td>1.311699</td>\n",
       "    </tr>\n",
       "    <tr>\n",
       "      <th>7</th>\n",
       "      <td>solo estufa</td>\n",
       "      <td>32532</td>\n",
       "      <td>5.331358</td>\n",
       "    </tr>\n",
       "    <tr>\n",
       "      <th>8</th>\n",
       "      <td>solo parrilla</td>\n",
       "      <td>5780</td>\n",
       "      <td>0.947229</td>\n",
       "    </tr>\n",
       "  </tbody>\n",
       "</table>\n",
       "</div>"
      ],
      "text/plain": [
       "          grupos_uso_gas  TELEFONO  perc_clientes\n",
       "0   calefont-cocina full    260749      42.731657\n",
       "1  calefont-cocina mixto    106156      17.396891\n",
       "2   estufa-parrilla full      5751       0.942476\n",
       "3                  mixto     22357       3.663875\n",
       "4         sin clasificar    157047      25.736929\n",
       "5          solo calefont     11824       1.937722\n",
       "6            solo cocina      8004       1.311699\n",
       "7            solo estufa     32532       5.331358\n",
       "8          solo parrilla      5780       0.947229"
      ]
     },
     "execution_count": 19,
     "metadata": {},
     "output_type": "execute_result"
    }
   ],
   "source": [
    "conteo_2020_ug = df_2020[['grupos_uso_gas','TELEFONO']].groupby('grupos_uso_gas').count().reset_index()\n",
    "conteo_2020_ug['perc_clientes'] = 100*conteo_2020_ug['TELEFONO']/n_clientes_2020\n",
    "conteo_2020_ug"
   ]
  },
  {
   "cell_type": "code",
   "execution_count": 20,
   "metadata": {},
   "outputs": [
    {
     "data": {
      "text/html": [
       "<div>\n",
       "<style scoped>\n",
       "    .dataframe tbody tr th:only-of-type {\n",
       "        vertical-align: middle;\n",
       "    }\n",
       "\n",
       "    .dataframe tbody tr th {\n",
       "        vertical-align: top;\n",
       "    }\n",
       "\n",
       "    .dataframe thead th {\n",
       "        text-align: right;\n",
       "    }\n",
       "</style>\n",
       "<table border=\"1\" class=\"dataframe\">\n",
       "  <thead>\n",
       "    <tr style=\"text-align: right;\">\n",
       "      <th></th>\n",
       "      <th>grupos_uso_gas</th>\n",
       "      <th>MESES_COMPRA</th>\n",
       "      <th>clientes</th>\n",
       "      <th>kilos_promedio</th>\n",
       "      <th>pedidos_promedio</th>\n",
       "      <th>indice_TA_promedio</th>\n",
       "    </tr>\n",
       "  </thead>\n",
       "  <tbody>\n",
       "    <tr>\n",
       "      <th>0</th>\n",
       "      <td>calefont-cocina full</td>\n",
       "      <td>1</td>\n",
       "      <td>103189</td>\n",
       "      <td>21.654702</td>\n",
       "      <td>1.075580</td>\n",
       "      <td>0.306118</td>\n",
       "    </tr>\n",
       "    <tr>\n",
       "      <th>1</th>\n",
       "      <td>calefont-cocina full</td>\n",
       "      <td>2</td>\n",
       "      <td>43899</td>\n",
       "      <td>45.181143</td>\n",
       "      <td>2.254858</td>\n",
       "      <td>0.406794</td>\n",
       "    </tr>\n",
       "  </tbody>\n",
       "</table>\n",
       "</div>"
      ],
      "text/plain": [
       "         grupos_uso_gas  MESES_COMPRA  clientes  kilos_promedio  \\\n",
       "0  calefont-cocina full             1    103189       21.654702   \n",
       "1  calefont-cocina full             2     43899       45.181143   \n",
       "\n",
       "   pedidos_promedio  indice_TA_promedio  \n",
       "0          1.075580            0.306118  \n",
       "1          2.254858            0.406794  "
      ]
     },
     "execution_count": 20,
     "metadata": {},
     "output_type": "execute_result"
    }
   ],
   "source": [
    "df_2020_agrupado = df_2020.groupby(['grupos_uso_gas','MESES_COMPRA']).agg(\n",
    "                        clientes           = ('TELEFONO','count'),\n",
    "                        kilos_promedio     = ('TOTAL_KILOS','mean'),\n",
    "                        pedidos_promedio   = ('TOTAL_PEDIDOS','mean'),\n",
    "                        indice_TA_promedio = ('porcentaje_pedidos_TA','mean') ).reset_index()\n",
    "df_2020_agrupado.head(2)"
   ]
  },
  {
   "cell_type": "code",
   "execution_count": 21,
   "metadata": {},
   "outputs": [
    {
     "data": {
      "text/html": [
       "<div>\n",
       "<style scoped>\n",
       "    .dataframe tbody tr th:only-of-type {\n",
       "        vertical-align: middle;\n",
       "    }\n",
       "\n",
       "    .dataframe tbody tr th {\n",
       "        vertical-align: top;\n",
       "    }\n",
       "\n",
       "    .dataframe thead th {\n",
       "        text-align: right;\n",
       "    }\n",
       "</style>\n",
       "<table border=\"1\" class=\"dataframe\">\n",
       "  <thead>\n",
       "    <tr style=\"text-align: right;\">\n",
       "      <th></th>\n",
       "      <th>grupos_uso_gas</th>\n",
       "      <th>MESES_COMPRA</th>\n",
       "      <th>clientes</th>\n",
       "      <th>kilos_promedio</th>\n",
       "      <th>pedidos_promedio</th>\n",
       "      <th>indice_TA_promedio</th>\n",
       "      <th>total_mensual_clientes</th>\n",
       "    </tr>\n",
       "  </thead>\n",
       "  <tbody>\n",
       "    <tr>\n",
       "      <th>0</th>\n",
       "      <td>calefont-cocina full</td>\n",
       "      <td>1</td>\n",
       "      <td>103189</td>\n",
       "      <td>21.654702</td>\n",
       "      <td>1.075580</td>\n",
       "      <td>0.306118</td>\n",
       "      <td>324844</td>\n",
       "    </tr>\n",
       "    <tr>\n",
       "      <th>1</th>\n",
       "      <td>calefont-cocina full</td>\n",
       "      <td>2</td>\n",
       "      <td>43899</td>\n",
       "      <td>45.181143</td>\n",
       "      <td>2.254858</td>\n",
       "      <td>0.406794</td>\n",
       "      <td>99905</td>\n",
       "    </tr>\n",
       "  </tbody>\n",
       "</table>\n",
       "</div>"
      ],
      "text/plain": [
       "         grupos_uso_gas  MESES_COMPRA  clientes  kilos_promedio  \\\n",
       "0  calefont-cocina full             1    103189       21.654702   \n",
       "1  calefont-cocina full             2     43899       45.181143   \n",
       "\n",
       "   pedidos_promedio  indice_TA_promedio  total_mensual_clientes  \n",
       "0          1.075580            0.306118                  324844  \n",
       "1          2.254858            0.406794                   99905  "
      ]
     },
     "execution_count": 21,
     "metadata": {},
     "output_type": "execute_result"
    }
   ],
   "source": [
    "clientes_mensuales = df_2020[['MESES_COMPRA','TELEFONO']].groupby('MESES_COMPRA').count()\n",
    "clientes_mensuales.reset_index(inplace = True)\n",
    "clientes_mensuales.columns = ['MESES_COMPRA','total_mensual_clientes']\n",
    "\n",
    "df_2020_agrupado = df_2020_agrupado.merge(clientes_mensuales,\n",
    "                                          how = 'left',\n",
    "                                          on = 'MESES_COMPRA')\n",
    "df_2020_agrupado.head(2)"
   ]
  },
  {
   "cell_type": "code",
   "execution_count": 22,
   "metadata": {},
   "outputs": [
    {
     "data": {
      "text/html": [
       "<div>\n",
       "<style scoped>\n",
       "    .dataframe tbody tr th:only-of-type {\n",
       "        vertical-align: middle;\n",
       "    }\n",
       "\n",
       "    .dataframe tbody tr th {\n",
       "        vertical-align: top;\n",
       "    }\n",
       "\n",
       "    .dataframe thead th {\n",
       "        text-align: right;\n",
       "    }\n",
       "</style>\n",
       "<table border=\"1\" class=\"dataframe\">\n",
       "  <thead>\n",
       "    <tr style=\"text-align: right;\">\n",
       "      <th></th>\n",
       "      <th>grupos_uso_gas</th>\n",
       "      <th>MESES_COMPRA</th>\n",
       "      <th>clientes</th>\n",
       "      <th>kilos_promedio</th>\n",
       "      <th>pedidos_promedio</th>\n",
       "      <th>indice_TA_promedio</th>\n",
       "      <th>total_mensual_clientes</th>\n",
       "      <th>porcentaje_clientes</th>\n",
       "    </tr>\n",
       "  </thead>\n",
       "  <tbody>\n",
       "    <tr>\n",
       "      <th>0</th>\n",
       "      <td>calefont-cocina full</td>\n",
       "      <td>1</td>\n",
       "      <td>103189</td>\n",
       "      <td>21.654702</td>\n",
       "      <td>1.075580</td>\n",
       "      <td>0.306118</td>\n",
       "      <td>324844</td>\n",
       "      <td>0.317657</td>\n",
       "    </tr>\n",
       "    <tr>\n",
       "      <th>1</th>\n",
       "      <td>calefont-cocina full</td>\n",
       "      <td>2</td>\n",
       "      <td>43899</td>\n",
       "      <td>45.181143</td>\n",
       "      <td>2.254858</td>\n",
       "      <td>0.406794</td>\n",
       "      <td>99905</td>\n",
       "      <td>0.439407</td>\n",
       "    </tr>\n",
       "    <tr>\n",
       "      <th>2</th>\n",
       "      <td>calefont-cocina full</td>\n",
       "      <td>3</td>\n",
       "      <td>29748</td>\n",
       "      <td>69.988436</td>\n",
       "      <td>3.543600</td>\n",
       "      <td>0.485314</td>\n",
       "      <td>58133</td>\n",
       "      <td>0.511723</td>\n",
       "    </tr>\n",
       "    <tr>\n",
       "      <th>3</th>\n",
       "      <td>calefont-cocina full</td>\n",
       "      <td>4</td>\n",
       "      <td>23148</td>\n",
       "      <td>95.917228</td>\n",
       "      <td>4.987818</td>\n",
       "      <td>0.537418</td>\n",
       "      <td>40397</td>\n",
       "      <td>0.573013</td>\n",
       "    </tr>\n",
       "    <tr>\n",
       "      <th>4</th>\n",
       "      <td>calefont-cocina full</td>\n",
       "      <td>5</td>\n",
       "      <td>18815</td>\n",
       "      <td>124.061600</td>\n",
       "      <td>6.642041</td>\n",
       "      <td>0.565884</td>\n",
       "      <td>29204</td>\n",
       "      <td>0.644261</td>\n",
       "    </tr>\n",
       "  </tbody>\n",
       "</table>\n",
       "</div>"
      ],
      "text/plain": [
       "         grupos_uso_gas  MESES_COMPRA  clientes  kilos_promedio  \\\n",
       "0  calefont-cocina full             1    103189       21.654702   \n",
       "1  calefont-cocina full             2     43899       45.181143   \n",
       "2  calefont-cocina full             3     29748       69.988436   \n",
       "3  calefont-cocina full             4     23148       95.917228   \n",
       "4  calefont-cocina full             5     18815      124.061600   \n",
       "\n",
       "   pedidos_promedio  indice_TA_promedio  total_mensual_clientes  \\\n",
       "0          1.075580            0.306118                  324844   \n",
       "1          2.254858            0.406794                   99905   \n",
       "2          3.543600            0.485314                   58133   \n",
       "3          4.987818            0.537418                   40397   \n",
       "4          6.642041            0.565884                   29204   \n",
       "\n",
       "   porcentaje_clientes  \n",
       "0             0.317657  \n",
       "1             0.439407  \n",
       "2             0.511723  \n",
       "3             0.573013  \n",
       "4             0.644261  "
      ]
     },
     "execution_count": 22,
     "metadata": {},
     "output_type": "execute_result"
    }
   ],
   "source": [
    "df_2020_agrupado['porcentaje_clientes'] = df_2020_agrupado['clientes']/df_2020_agrupado['total_mensual_clientes']\n",
    "df_2020_agrupado.head()"
   ]
  },
  {
   "cell_type": "code",
   "execution_count": 23,
   "metadata": {},
   "outputs": [
    {
     "data": {
      "image/png": "[encoded data removed]",
      "text/plain": [
       "<Figure size 1080x1440 with 9 Axes>"
      ]
     },
     "metadata": {
      "needs_background": "light"
     },
     "output_type": "display_data"
    }
   ],
   "source": [
    "grupos_gas = df_2020_agrupado.grupos_uso_gas.unique()\n",
    "#len(grupos_gas)\n",
    "\n",
    "fig, axs = plt.subplots(len(grupos_gas), figsize = (15,20), sharex = True)\n",
    "fig.suptitle('Cantidad de clientes grupos (año 2020)', fontsize=16)\n",
    "\n",
    "for i in range(0,len(grupos_gas)):\n",
    "    #print(i)\n",
    "    df_plot = df_2020_agrupado[df_2020_agrupado['grupos_uso_gas'] == grupos_gas[i]]\n",
    "    axs[i].set_title(grupos_gas[i])\n",
    "    sns.barplot(ax = axs[i], data = df_plot, \n",
    "                 x = 'MESES_COMPRA', y = 'porcentaje_clientes')\n",
    "for ax in axs.flat:\n",
    "    ax.label_outer()\n",
    "#sns.histplot(ax = axs[1], data = df_2020, x = 'porcentaje_pedidos_TA',binwidth=0.1,\n",
    "#             cumulative=True,element=\"step\",fill=False, stat='probability')\n",
    "#fig.savefig('%pedidos_TA.png', bbox_inches='tight')"
   ]
  },
  {
   "cell_type": "code",
   "execution_count": 24,
   "metadata": {},
   "outputs": [
    {
     "data": {
      "text/plain": [
       "<Figure size 1080x72 with 0 Axes>"
      ]
     },
     "metadata": {},
     "output_type": "display_data"
    },
    {
     "data": {
      "image/png": "[encoded data removed]",
      "text/plain": [
       "<Figure size 1440x360 with 1 Axes>"
      ]
     },
     "metadata": {
      "needs_background": "light"
     },
     "output_type": "display_data"
    }
   ],
   "source": [
    "plt.figure(figsize=(15,1))\n",
    "df_stacked = df_2020_agrupado[['porcentaje_clientes','grupos_uso_gas','MESES_COMPRA']]\n",
    "#df_stacked.set_index('MESES_COMPRA',inplace = True)\n",
    "\n",
    "\n",
    "df_stacked = pd.pivot_table(df_stacked,\n",
    "                            values = 'porcentaje_clientes',\n",
    "                            index  = 'MESES_COMPRA',\n",
    "                            columns = 'grupos_uso_gas')\n",
    "ax = df_stacked.plot.bar(stacked = True,figsize=(20,5))"
   ]
  },
  {
   "cell_type": "code",
   "execution_count": 25,
   "metadata": {},
   "outputs": [
    {
     "data": {
      "text/plain": [
       "<AxesSubplot:xlabel='MESES_COMPRA', ylabel='frec_compra_promedio'>"
      ]
     },
     "execution_count": 25,
     "metadata": {},
     "output_type": "execute_result"
    },
    {
     "data": {
      "image/png": "[encoded data removed]",
      "text/plain": [
       "<Figure size 1440x360 with 1 Axes>"
      ]
     },
     "metadata": {
      "needs_background": "light"
     },
     "output_type": "display_data"
    }
   ],
   "source": [
    "plt.figure(figsize=(20,5))\n",
    "sns.boxplot(data = df_2020, x = 'MESES_COMPRA', y = 'frec_compra_promedio')"
   ]
  },
  {
   "cell_type": "code",
   "execution_count": 26,
   "metadata": {},
   "outputs": [
    {
     "data": {
      "text/plain": [
       "<AxesSubplot:xlabel='MESES_COMPRA', ylabel='recencia_2020'>"
      ]
     },
     "execution_count": 26,
     "metadata": {},
     "output_type": "execute_result"
    },
    {
     "data": {
      "image/png": "[encoded data removed]",
      "text/plain": [
       "<Figure size 1440x360 with 1 Axes>"
      ]
     },
     "metadata": {
      "needs_background": "light"
     },
     "output_type": "display_data"
    }
   ],
   "source": [
    "plt.figure(figsize=(20,5))\n",
    "sns.boxplot(data = df_2020, x = 'MESES_COMPRA', y = 'recencia_2020')"
   ]
  },
  {
   "cell_type": "code",
   "execution_count": 27,
   "metadata": {},
   "outputs": [
    {
     "data": {
      "text/html": [
       "<div>\n",
       "<style scoped>\n",
       "    .dataframe tbody tr th:only-of-type {\n",
       "        vertical-align: middle;\n",
       "    }\n",
       "\n",
       "    .dataframe tbody tr th {\n",
       "        vertical-align: top;\n",
       "    }\n",
       "\n",
       "    .dataframe thead tr th {\n",
       "        text-align: left;\n",
       "    }\n",
       "</style>\n",
       "<table border=\"1\" class=\"dataframe\">\n",
       "  <thead>\n",
       "    <tr>\n",
       "      <th></th>\n",
       "      <th>MESES_COMPRA</th>\n",
       "      <th colspan=\"3\" halign=\"left\">recencia_2020</th>\n",
       "    </tr>\n",
       "    <tr>\n",
       "      <th></th>\n",
       "      <th></th>\n",
       "      <th>Q1</th>\n",
       "      <th>Q2</th>\n",
       "      <th>Q3</th>\n",
       "    </tr>\n",
       "  </thead>\n",
       "  <tbody>\n",
       "    <tr>\n",
       "      <th>0</th>\n",
       "      <td>1</td>\n",
       "      <td>96</td>\n",
       "      <td>159</td>\n",
       "      <td>228.00</td>\n",
       "    </tr>\n",
       "    <tr>\n",
       "      <th>1</th>\n",
       "      <td>2</td>\n",
       "      <td>59</td>\n",
       "      <td>123</td>\n",
       "      <td>171.00</td>\n",
       "    </tr>\n",
       "    <tr>\n",
       "      <th>2</th>\n",
       "      <td>3</td>\n",
       "      <td>38</td>\n",
       "      <td>90</td>\n",
       "      <td>136.00</td>\n",
       "    </tr>\n",
       "    <tr>\n",
       "      <th>3</th>\n",
       "      <td>4</td>\n",
       "      <td>25</td>\n",
       "      <td>61</td>\n",
       "      <td>114.00</td>\n",
       "    </tr>\n",
       "    <tr>\n",
       "      <th>4</th>\n",
       "      <td>5</td>\n",
       "      <td>15</td>\n",
       "      <td>40</td>\n",
       "      <td>83.00</td>\n",
       "    </tr>\n",
       "    <tr>\n",
       "      <th>5</th>\n",
       "      <td>6</td>\n",
       "      <td>11</td>\n",
       "      <td>26</td>\n",
       "      <td>56.00</td>\n",
       "    </tr>\n",
       "    <tr>\n",
       "      <th>6</th>\n",
       "      <td>7</td>\n",
       "      <td>9</td>\n",
       "      <td>21</td>\n",
       "      <td>46.00</td>\n",
       "    </tr>\n",
       "    <tr>\n",
       "      <th>7</th>\n",
       "      <td>8</td>\n",
       "      <td>8</td>\n",
       "      <td>18</td>\n",
       "      <td>37.00</td>\n",
       "    </tr>\n",
       "    <tr>\n",
       "      <th>8</th>\n",
       "      <td>9</td>\n",
       "      <td>7</td>\n",
       "      <td>15</td>\n",
       "      <td>27.75</td>\n",
       "    </tr>\n",
       "    <tr>\n",
       "      <th>9</th>\n",
       "      <td>10</td>\n",
       "      <td>7</td>\n",
       "      <td>13</td>\n",
       "      <td>25.00</td>\n",
       "    </tr>\n",
       "    <tr>\n",
       "      <th>10</th>\n",
       "      <td>11</td>\n",
       "      <td>5</td>\n",
       "      <td>12</td>\n",
       "      <td>20.00</td>\n",
       "    </tr>\n",
       "    <tr>\n",
       "      <th>11</th>\n",
       "      <td>12</td>\n",
       "      <td>4</td>\n",
       "      <td>10</td>\n",
       "      <td>15.00</td>\n",
       "    </tr>\n",
       "  </tbody>\n",
       "</table>\n",
       "</div>"
      ],
      "text/plain": [
       "   MESES_COMPRA recencia_2020             \n",
       "                           Q1   Q2      Q3\n",
       "0             1            96  159  228.00\n",
       "1             2            59  123  171.00\n",
       "2             3            38   90  136.00\n",
       "3             4            25   61  114.00\n",
       "4             5            15   40   83.00\n",
       "5             6            11   26   56.00\n",
       "6             7             9   21   46.00\n",
       "7             8             8   18   37.00\n",
       "8             9             7   15   27.75\n",
       "9            10             7   13   25.00\n",
       "10           11             5   12   20.00\n",
       "11           12             4   10   15.00"
      ]
     },
     "execution_count": 27,
     "metadata": {},
     "output_type": "execute_result"
    }
   ],
   "source": [
    "df_quantiles_recencia =  df_2020[['MESES_COMPRA','recencia_2020']].groupby('MESES_COMPRA').agg([('Q1', lambda x: x.quantile(0.25)),\n",
    "                   ('Q2', lambda x: x.quantile(0.5)),\n",
    "                   ('Q3', lambda x: x.quantile(0.75))]).reset_index()\n",
    "df_quantiles_recencia"
   ]
  },
  {
   "cell_type": "code",
   "execution_count": 28,
   "metadata": {},
   "outputs": [
    {
     "data": {
      "text/html": [
       "<div>\n",
       "<style scoped>\n",
       "    .dataframe tbody tr th:only-of-type {\n",
       "        vertical-align: middle;\n",
       "    }\n",
       "\n",
       "    .dataframe tbody tr th {\n",
       "        vertical-align: top;\n",
       "    }\n",
       "\n",
       "    .dataframe thead tr th {\n",
       "        text-align: left;\n",
       "    }\n",
       "</style>\n",
       "<table border=\"1\" class=\"dataframe\">\n",
       "  <thead>\n",
       "    <tr>\n",
       "      <th></th>\n",
       "      <th>MESES_COMPRA</th>\n",
       "      <th colspan=\"4\" halign=\"left\">frec_compra_promedio</th>\n",
       "    </tr>\n",
       "    <tr>\n",
       "      <th></th>\n",
       "      <th></th>\n",
       "      <th>Q1</th>\n",
       "      <th>Q2</th>\n",
       "      <th>Q3</th>\n",
       "      <th>Q90</th>\n",
       "    </tr>\n",
       "  </thead>\n",
       "  <tbody>\n",
       "    <tr>\n",
       "      <th>0</th>\n",
       "      <td>1</td>\n",
       "      <td>14.000000</td>\n",
       "      <td>114.000000</td>\n",
       "      <td>283.000000</td>\n",
       "      <td>392.000000</td>\n",
       "    </tr>\n",
       "    <tr>\n",
       "      <th>1</th>\n",
       "      <td>2</td>\n",
       "      <td>29.000000</td>\n",
       "      <td>56.000000</td>\n",
       "      <td>111.000000</td>\n",
       "      <td>175.500000</td>\n",
       "    </tr>\n",
       "    <tr>\n",
       "      <th>2</th>\n",
       "      <td>3</td>\n",
       "      <td>28.000000</td>\n",
       "      <td>48.000000</td>\n",
       "      <td>82.000000</td>\n",
       "      <td>118.950000</td>\n",
       "    </tr>\n",
       "    <tr>\n",
       "      <th>3</th>\n",
       "      <td>4</td>\n",
       "      <td>25.666667</td>\n",
       "      <td>40.666667</td>\n",
       "      <td>64.800000</td>\n",
       "      <td>89.250000</td>\n",
       "    </tr>\n",
       "    <tr>\n",
       "      <th>4</th>\n",
       "      <td>5</td>\n",
       "      <td>22.833333</td>\n",
       "      <td>34.666667</td>\n",
       "      <td>52.800000</td>\n",
       "      <td>70.600000</td>\n",
       "    </tr>\n",
       "    <tr>\n",
       "      <th>5</th>\n",
       "      <td>6</td>\n",
       "      <td>20.102778</td>\n",
       "      <td>30.571429</td>\n",
       "      <td>45.545455</td>\n",
       "      <td>59.000000</td>\n",
       "    </tr>\n",
       "    <tr>\n",
       "      <th>6</th>\n",
       "      <td>7</td>\n",
       "      <td>19.449495</td>\n",
       "      <td>29.133333</td>\n",
       "      <td>40.714286</td>\n",
       "      <td>51.000000</td>\n",
       "    </tr>\n",
       "    <tr>\n",
       "      <th>7</th>\n",
       "      <td>8</td>\n",
       "      <td>20.000000</td>\n",
       "      <td>28.250000</td>\n",
       "      <td>36.750000</td>\n",
       "      <td>44.285714</td>\n",
       "    </tr>\n",
       "    <tr>\n",
       "      <th>8</th>\n",
       "      <td>9</td>\n",
       "      <td>19.011905</td>\n",
       "      <td>25.559028</td>\n",
       "      <td>32.543706</td>\n",
       "      <td>38.625000</td>\n",
       "    </tr>\n",
       "    <tr>\n",
       "      <th>9</th>\n",
       "      <td>10</td>\n",
       "      <td>18.400000</td>\n",
       "      <td>23.411765</td>\n",
       "      <td>28.909091</td>\n",
       "      <td>33.909091</td>\n",
       "    </tr>\n",
       "    <tr>\n",
       "      <th>10</th>\n",
       "      <td>11</td>\n",
       "      <td>16.347826</td>\n",
       "      <td>20.647059</td>\n",
       "      <td>25.220455</td>\n",
       "      <td>29.325641</td>\n",
       "    </tr>\n",
       "    <tr>\n",
       "      <th>11</th>\n",
       "      <td>12</td>\n",
       "      <td>13.285714</td>\n",
       "      <td>17.000000</td>\n",
       "      <td>20.774510</td>\n",
       "      <td>24.801250</td>\n",
       "    </tr>\n",
       "  </tbody>\n",
       "</table>\n",
       "</div>"
      ],
      "text/plain": [
       "   MESES_COMPRA frec_compra_promedio                                    \n",
       "                                  Q1          Q2          Q3         Q90\n",
       "0             1            14.000000  114.000000  283.000000  392.000000\n",
       "1             2            29.000000   56.000000  111.000000  175.500000\n",
       "2             3            28.000000   48.000000   82.000000  118.950000\n",
       "3             4            25.666667   40.666667   64.800000   89.250000\n",
       "4             5            22.833333   34.666667   52.800000   70.600000\n",
       "5             6            20.102778   30.571429   45.545455   59.000000\n",
       "6             7            19.449495   29.133333   40.714286   51.000000\n",
       "7             8            20.000000   28.250000   36.750000   44.285714\n",
       "8             9            19.011905   25.559028   32.543706   38.625000\n",
       "9            10            18.400000   23.411765   28.909091   33.909091\n",
       "10           11            16.347826   20.647059   25.220455   29.325641\n",
       "11           12            13.285714   17.000000   20.774510   24.801250"
      ]
     },
     "execution_count": 28,
     "metadata": {},
     "output_type": "execute_result"
    }
   ],
   "source": [
    "df_quantiles_frec =  df_2020[['MESES_COMPRA','frec_compra_promedio']].groupby('MESES_COMPRA').agg([('Q1', lambda x: x.quantile(0.25)),\n",
    "               ('Q2', lambda x: x.quantile(0.5)),\n",
    "               ('Q3', lambda x: x.quantile(0.75)),\n",
    "               ('Q90', lambda x: x.quantile(.90))]\n",
    "               ).reset_index()\n",
    "df_quantiles_frec"
   ]
  },
  {
   "cell_type": "markdown",
   "metadata": {},
   "source": [
    "# Analizando formatos por meses de compra"
   ]
  },
  {
   "cell_type": "code",
   "execution_count": 29,
   "metadata": {},
   "outputs": [
    {
     "name": "stderr",
     "output_type": "stream",
     "text": [
      "C:\\Users\\fbenavides\\Anaconda3\\lib\\site-packages\\numpy\\lib\\arraysetops.py:569: FutureWarning: elementwise comparison failed; returning scalar instead, but in the future will perform elementwise comparison\n",
      "  mask |= (ar1 == a)\n"
     ]
    },
    {
     "data": {
      "text/html": [
       "<div>\n",
       "<style scoped>\n",
       "    .dataframe tbody tr th:only-of-type {\n",
       "        vertical-align: middle;\n",
       "    }\n",
       "\n",
       "    .dataframe tbody tr th {\n",
       "        vertical-align: top;\n",
       "    }\n",
       "\n",
       "    .dataframe thead th {\n",
       "        text-align: right;\n",
       "    }\n",
       "</style>\n",
       "<table border=\"1\" class=\"dataframe\">\n",
       "  <thead>\n",
       "    <tr style=\"text-align: right;\">\n",
       "      <th></th>\n",
       "      <th>ANIO</th>\n",
       "      <th>MONTH</th>\n",
       "      <th>TELEFONO</th>\n",
       "      <th>FORMATO</th>\n",
       "      <th>TOTAL_PEDIDOS</th>\n",
       "      <th>FECHA_PRIMER_PEDIDO</th>\n",
       "      <th>FECHA_ULTIMO_PEDIDO</th>\n",
       "      <th>frec_compra_promedio</th>\n",
       "      <th>desv_frec_compra</th>\n",
       "      <th>n_canales</th>\n",
       "      <th>tipo_pedido</th>\n",
       "      <th>TIPO_CLIENTE</th>\n",
       "      <th>predict_estufa</th>\n",
       "      <th>predict_parrilla</th>\n",
       "      <th>predict_cocina</th>\n",
       "      <th>predict_calefont</th>\n",
       "    </tr>\n",
       "  </thead>\n",
       "  <tbody>\n",
       "    <tr>\n",
       "      <th>0</th>\n",
       "      <td>2020</td>\n",
       "      <td>9</td>\n",
       "      <td>989409692.0</td>\n",
       "      <td>p_CN11</td>\n",
       "      <td>1</td>\n",
       "      <td>2020-09-15</td>\n",
       "      <td>2020-09-15</td>\n",
       "      <td>NaN</td>\n",
       "      <td>NaN</td>\n",
       "      <td>1</td>\n",
       "      <td>OFFLINE</td>\n",
       "      <td>OFFLINE</td>\n",
       "      <td>0.0</td>\n",
       "      <td>0.0</td>\n",
       "      <td>1.0</td>\n",
       "      <td>1.0</td>\n",
       "    </tr>\n",
       "    <tr>\n",
       "      <th>1</th>\n",
       "      <td>2020</td>\n",
       "      <td>7</td>\n",
       "      <td>994856589.0</td>\n",
       "      <td>p_CN15</td>\n",
       "      <td>1</td>\n",
       "      <td>2020-07-17</td>\n",
       "      <td>2020-07-17</td>\n",
       "      <td>NaN</td>\n",
       "      <td>NaN</td>\n",
       "      <td>1</td>\n",
       "      <td>ONLINE</td>\n",
       "      <td>ONLINE</td>\n",
       "      <td>0.0</td>\n",
       "      <td>0.0</td>\n",
       "      <td>1.0</td>\n",
       "      <td>1.0</td>\n",
       "    </tr>\n",
       "  </tbody>\n",
       "</table>\n",
       "</div>"
      ],
      "text/plain": [
       "   ANIO  MONTH     TELEFONO FORMATO  TOTAL_PEDIDOS FECHA_PRIMER_PEDIDO  \\\n",
       "0  2020      9  989409692.0  p_CN11              1          2020-09-15   \n",
       "1  2020      7  994856589.0  p_CN15              1          2020-07-17   \n",
       "\n",
       "  FECHA_ULTIMO_PEDIDO  frec_compra_promedio  desv_frec_compra  n_canales  \\\n",
       "0          2020-09-15                   NaN               NaN          1   \n",
       "1          2020-07-17                   NaN               NaN          1   \n",
       "\n",
       "  tipo_pedido TIPO_CLIENTE  predict_estufa  predict_parrilla  predict_cocina  \\\n",
       "0     OFFLINE      OFFLINE             0.0               0.0             1.0   \n",
       "1      ONLINE       ONLINE             0.0               0.0             1.0   \n",
       "\n",
       "   predict_calefont  \n",
       "0               1.0  \n",
       "1               1.0  "
      ]
     },
     "execution_count": 29,
     "metadata": {},
     "output_type": "execute_result"
    }
   ],
   "source": [
    "df_formato = pd.read_csv('datos\\datos_exploratorio_fuga_formato.csv',sep = ';', index_col = 0)\n",
    "df_formato.head(2)"
   ]
  },
  {
   "cell_type": "code",
   "execution_count": 30,
   "metadata": {},
   "outputs": [
    {
     "data": {
      "text/html": [
       "<div>\n",
       "<style scoped>\n",
       "    .dataframe tbody tr th:only-of-type {\n",
       "        vertical-align: middle;\n",
       "    }\n",
       "\n",
       "    .dataframe tbody tr th {\n",
       "        vertical-align: top;\n",
       "    }\n",
       "\n",
       "    .dataframe thead th {\n",
       "        text-align: right;\n",
       "    }\n",
       "</style>\n",
       "<table border=\"1\" class=\"dataframe\">\n",
       "  <thead>\n",
       "    <tr style=\"text-align: right;\">\n",
       "      <th>FORMATO</th>\n",
       "      <th>TELEFONO</th>\n",
       "      <th>p_CN02</th>\n",
       "      <th>p_CN05</th>\n",
       "      <th>p_CN11</th>\n",
       "      <th>p_CN15</th>\n",
       "      <th>p_CN45</th>\n",
       "    </tr>\n",
       "  </thead>\n",
       "  <tbody>\n",
       "    <tr>\n",
       "      <th>0</th>\n",
       "      <td>2379421.0</td>\n",
       "      <td>0</td>\n",
       "      <td>0</td>\n",
       "      <td>2</td>\n",
       "      <td>0</td>\n",
       "      <td>0</td>\n",
       "    </tr>\n",
       "    <tr>\n",
       "      <th>1</th>\n",
       "      <td>8911356.0</td>\n",
       "      <td>0</td>\n",
       "      <td>0</td>\n",
       "      <td>0</td>\n",
       "      <td>1</td>\n",
       "      <td>0</td>\n",
       "    </tr>\n",
       "  </tbody>\n",
       "</table>\n",
       "</div>"
      ],
      "text/plain": [
       "FORMATO   TELEFONO  p_CN02  p_CN05  p_CN11  p_CN15  p_CN45\n",
       "0        2379421.0       0       0       2       0       0\n",
       "1        8911356.0       0       0       0       1       0"
      ]
     },
     "execution_count": 30,
     "metadata": {},
     "output_type": "execute_result"
    }
   ],
   "source": [
    "df_formato_2 = pd.pivot_table(df_formato,\n",
    "                              index   = 'TELEFONO',\n",
    "                              columns = 'FORMATO',\n",
    "                              values  = 'TOTAL_PEDIDOS',\n",
    "                              aggfunc =  np.sum,\n",
    "                              fill_value = 0).reset_index()\n",
    "df_formato_2.head(2)"
   ]
  },
  {
   "cell_type": "code",
   "execution_count": 31,
   "metadata": {},
   "outputs": [
    {
     "data": {
      "text/html": [
       "<div>\n",
       "<style scoped>\n",
       "    .dataframe tbody tr th:only-of-type {\n",
       "        vertical-align: middle;\n",
       "    }\n",
       "\n",
       "    .dataframe tbody tr th {\n",
       "        vertical-align: top;\n",
       "    }\n",
       "\n",
       "    .dataframe thead th {\n",
       "        text-align: right;\n",
       "    }\n",
       "</style>\n",
       "<table border=\"1\" class=\"dataframe\">\n",
       "  <thead>\n",
       "    <tr style=\"text-align: right;\">\n",
       "      <th></th>\n",
       "      <th>YEAR</th>\n",
       "      <th>TELEFONO</th>\n",
       "      <th>PEDIDOS_TA</th>\n",
       "      <th>KILOS_TA</th>\n",
       "      <th>TOTAL_PEDIDOS</th>\n",
       "      <th>TOTAL_KILOS</th>\n",
       "      <th>MESES_COMPRA</th>\n",
       "      <th>FECHA_PRIMER_PEDIDO</th>\n",
       "      <th>FECHA_ULTIMO_PEDIDO</th>\n",
       "      <th>frec_compra_promedio</th>\n",
       "      <th>...</th>\n",
       "      <th>predict_calefont</th>\n",
       "      <th>porcentaje_pedidos_TA</th>\n",
       "      <th>recencia</th>\n",
       "      <th>recencia_2020</th>\n",
       "      <th>grupos_uso_gas</th>\n",
       "      <th>p_CN02</th>\n",
       "      <th>p_CN05</th>\n",
       "      <th>p_CN11</th>\n",
       "      <th>p_CN15</th>\n",
       "      <th>p_CN45</th>\n",
       "    </tr>\n",
       "  </thead>\n",
       "  <tbody>\n",
       "    <tr>\n",
       "      <th>0</th>\n",
       "      <td>2020</td>\n",
       "      <td>229660976.0</td>\n",
       "      <td>3</td>\n",
       "      <td>35.0</td>\n",
       "      <td>5</td>\n",
       "      <td>65.0</td>\n",
       "      <td>5</td>\n",
       "      <td>2020-06-22</td>\n",
       "      <td>2020-12-08</td>\n",
       "      <td>42.250000</td>\n",
       "      <td>...</td>\n",
       "      <td>1.0</td>\n",
       "      <td>0.6000</td>\n",
       "      <td>120</td>\n",
       "      <td>23</td>\n",
       "      <td>calefont-cocina mixto</td>\n",
       "      <td>0.0</td>\n",
       "      <td>3.0</td>\n",
       "      <td>0.0</td>\n",
       "      <td>4.0</td>\n",
       "      <td>0.0</td>\n",
       "    </tr>\n",
       "    <tr>\n",
       "      <th>1</th>\n",
       "      <td>2020</td>\n",
       "      <td>988048810.0</td>\n",
       "      <td>15</td>\n",
       "      <td>240.0</td>\n",
       "      <td>16</td>\n",
       "      <td>255.0</td>\n",
       "      <td>6</td>\n",
       "      <td>2020-05-19</td>\n",
       "      <td>2020-10-02</td>\n",
       "      <td>9.066667</td>\n",
       "      <td>...</td>\n",
       "      <td>0.0</td>\n",
       "      <td>0.9375</td>\n",
       "      <td>187</td>\n",
       "      <td>90</td>\n",
       "      <td>solo estufa</td>\n",
       "      <td>0.0</td>\n",
       "      <td>17.0</td>\n",
       "      <td>0.0</td>\n",
       "      <td>0.0</td>\n",
       "      <td>0.0</td>\n",
       "    </tr>\n",
       "  </tbody>\n",
       "</table>\n",
       "<p>2 rows × 27 columns</p>\n",
       "</div>"
      ],
      "text/plain": [
       "   YEAR     TELEFONO  PEDIDOS_TA  KILOS_TA  TOTAL_PEDIDOS  TOTAL_KILOS  \\\n",
       "0  2020  229660976.0           3      35.0              5         65.0   \n",
       "1  2020  988048810.0          15     240.0             16        255.0   \n",
       "\n",
       "   MESES_COMPRA FECHA_PRIMER_PEDIDO FECHA_ULTIMO_PEDIDO  frec_compra_promedio  \\\n",
       "0             5          2020-06-22          2020-12-08             42.250000   \n",
       "1             6          2020-05-19          2020-10-02              9.066667   \n",
       "\n",
       "   ...  predict_calefont  porcentaje_pedidos_TA recencia recencia_2020  \\\n",
       "0  ...               1.0                 0.6000      120            23   \n",
       "1  ...               0.0                 0.9375      187            90   \n",
       "\n",
       "          grupos_uso_gas  p_CN02  p_CN05  p_CN11  p_CN15  p_CN45  \n",
       "0  calefont-cocina mixto     0.0     3.0     0.0     4.0     0.0  \n",
       "1            solo estufa     0.0    17.0     0.0     0.0     0.0  \n",
       "\n",
       "[2 rows x 27 columns]"
      ]
     },
     "execution_count": 31,
     "metadata": {},
     "output_type": "execute_result"
    }
   ],
   "source": [
    "df_2020_formato = df_2020.merge(df_formato_2,\n",
    "                                how = 'left',\n",
    "                                on = 'TELEFONO')\n",
    "df_2020_formato.head(2)"
   ]
  },
  {
   "cell_type": "code",
   "execution_count": 32,
   "metadata": {},
   "outputs": [
    {
     "data": {
      "image/png": "[encoded data removed]",
      "text/plain": [
       "<Figure size 1440x1080 with 12 Axes>"
      ]
     },
     "metadata": {
      "needs_background": "light"
     },
     "output_type": "display_data"
    }
   ],
   "source": [
    "meses = list(range(1,13))\n",
    "fig, axs = plt.subplots(len(meses), figsize = (20,15), sharex = True)\n",
    "fig.suptitle('Cantidad de clientes grupos (año 2020)', fontsize=16)\n",
    "\n",
    "for i in meses:\n",
    "    df_meses = df_2020_formato[df_2020_formato['MESES_COMPRA'] == i][['TELEFONO','p_CN02','p_CN05','p_CN11','p_CN15','p_CN45']]\n",
    "    \n",
    "    df_meses_melt = pd.melt(df_meses,id_vars = 'TELEFONO', \n",
    "                            value_vars = ['p_CN02','p_CN05','p_CN11','p_CN15','p_CN45'],\n",
    "                            var_name  = 'FORMATO',  value_name = 'CILINDROS')\n",
    "    df_meses_melt = df_meses_melt[df_meses_melt.CILINDROS < 25]\n",
    "    \n",
    "    axs[i-1].set_title('Mes' + str(i))\n",
    "    sns.boxplot(ax = axs[i-1], data = df_meses_melt, x = 'FORMATO', y = 'CILINDROS')\n",
    "\n",
    "for ax in axs.flat:\n",
    "    ax.label_outer()"
   ]
  },
  {
   "cell_type": "markdown",
   "metadata": {},
   "source": [
    "# Analisis recencia hasta actualizadad"
   ]
  },
  {
   "cell_type": "code",
   "execution_count": 33,
   "metadata": {},
   "outputs": [
    {
     "data": {
      "text/html": [
       "<div>\n",
       "<style scoped>\n",
       "    .dataframe tbody tr th:only-of-type {\n",
       "        vertical-align: middle;\n",
       "    }\n",
       "\n",
       "    .dataframe tbody tr th {\n",
       "        vertical-align: top;\n",
       "    }\n",
       "\n",
       "    .dataframe thead th {\n",
       "        text-align: right;\n",
       "    }\n",
       "</style>\n",
       "<table border=\"1\" class=\"dataframe\">\n",
       "  <thead>\n",
       "    <tr style=\"text-align: right;\">\n",
       "      <th></th>\n",
       "      <th>YEAR</th>\n",
       "      <th>TELEFONO</th>\n",
       "      <th>PEDIDOS_TA</th>\n",
       "      <th>KILOS_TA</th>\n",
       "      <th>TOTAL_PEDIDOS</th>\n",
       "      <th>TOTAL_KILOS</th>\n",
       "      <th>MESES_COMPRA</th>\n",
       "      <th>FECHA_PRIMER_PEDIDO</th>\n",
       "      <th>FECHA_ULTIMO_PEDIDO</th>\n",
       "      <th>frec_compra_promedio</th>\n",
       "      <th>desv_frec_compra</th>\n",
       "      <th>n_canales</th>\n",
       "      <th>tipo_pedido</th>\n",
       "      <th>TIPO_CLIENTE</th>\n",
       "      <th>predict_estufa</th>\n",
       "      <th>predict_parrilla</th>\n",
       "      <th>predict_cocina</th>\n",
       "      <th>predict_calefont</th>\n",
       "      <th>porcentaje_pedidos_TA</th>\n",
       "      <th>recencia</th>\n",
       "    </tr>\n",
       "  </thead>\n",
       "  <tbody>\n",
       "    <tr>\n",
       "      <th>0</th>\n",
       "      <td>2020</td>\n",
       "      <td>229660976.0</td>\n",
       "      <td>3</td>\n",
       "      <td>35.0</td>\n",
       "      <td>5</td>\n",
       "      <td>65.0</td>\n",
       "      <td>5</td>\n",
       "      <td>2020-06-22</td>\n",
       "      <td>2020-12-08</td>\n",
       "      <td>42.250000</td>\n",
       "      <td>9.178780</td>\n",
       "      <td>1</td>\n",
       "      <td>OFFLINE</td>\n",
       "      <td>OFFLINE</td>\n",
       "      <td>1.0</td>\n",
       "      <td>0.0</td>\n",
       "      <td>1.0</td>\n",
       "      <td>1.0</td>\n",
       "      <td>0.600000</td>\n",
       "      <td>120</td>\n",
       "    </tr>\n",
       "    <tr>\n",
       "      <th>1</th>\n",
       "      <td>2020</td>\n",
       "      <td>988048810.0</td>\n",
       "      <td>15</td>\n",
       "      <td>240.0</td>\n",
       "      <td>16</td>\n",
       "      <td>255.0</td>\n",
       "      <td>6</td>\n",
       "      <td>2020-05-19</td>\n",
       "      <td>2020-10-02</td>\n",
       "      <td>9.066667</td>\n",
       "      <td>4.832430</td>\n",
       "      <td>1</td>\n",
       "      <td>ONLINE</td>\n",
       "      <td>ONLINE</td>\n",
       "      <td>1.0</td>\n",
       "      <td>0.0</td>\n",
       "      <td>0.0</td>\n",
       "      <td>0.0</td>\n",
       "      <td>0.937500</td>\n",
       "      <td>187</td>\n",
       "    </tr>\n",
       "    <tr>\n",
       "      <th>2</th>\n",
       "      <td>2020</td>\n",
       "      <td>982525155.0</td>\n",
       "      <td>4</td>\n",
       "      <td>71.0</td>\n",
       "      <td>6</td>\n",
       "      <td>112.0</td>\n",
       "      <td>3</td>\n",
       "      <td>2020-04-20</td>\n",
       "      <td>2020-09-01</td>\n",
       "      <td>26.800000</td>\n",
       "      <td>30.244008</td>\n",
       "      <td>1</td>\n",
       "      <td>ONLINE</td>\n",
       "      <td>ONLINE</td>\n",
       "      <td>1.0</td>\n",
       "      <td>0.0</td>\n",
       "      <td>1.0</td>\n",
       "      <td>1.0</td>\n",
       "      <td>0.666667</td>\n",
       "      <td>218</td>\n",
       "    </tr>\n",
       "    <tr>\n",
       "      <th>3</th>\n",
       "      <td>2020</td>\n",
       "      <td>986855339.0</td>\n",
       "      <td>10</td>\n",
       "      <td>128.0</td>\n",
       "      <td>13</td>\n",
       "      <td>165.0</td>\n",
       "      <td>8</td>\n",
       "      <td>2020-01-21</td>\n",
       "      <td>2020-10-24</td>\n",
       "      <td>23.076923</td>\n",
       "      <td>24.098622</td>\n",
       "      <td>1</td>\n",
       "      <td>ONLINE</td>\n",
       "      <td>ONLINE</td>\n",
       "      <td>0.0</td>\n",
       "      <td>0.0</td>\n",
       "      <td>1.0</td>\n",
       "      <td>1.0</td>\n",
       "      <td>0.769231</td>\n",
       "      <td>165</td>\n",
       "    </tr>\n",
       "    <tr>\n",
       "      <th>4</th>\n",
       "      <td>2020</td>\n",
       "      <td>993379629.0</td>\n",
       "      <td>6</td>\n",
       "      <td>88.0</td>\n",
       "      <td>7</td>\n",
       "      <td>99.0</td>\n",
       "      <td>5</td>\n",
       "      <td>2020-04-14</td>\n",
       "      <td>2020-08-21</td>\n",
       "      <td>41.428571</td>\n",
       "      <td>53.705546</td>\n",
       "      <td>2</td>\n",
       "      <td>ONLINE</td>\n",
       "      <td>ON-OFF</td>\n",
       "      <td>1.0</td>\n",
       "      <td>0.0</td>\n",
       "      <td>1.0</td>\n",
       "      <td>0.0</td>\n",
       "      <td>0.857143</td>\n",
       "      <td>229</td>\n",
       "    </tr>\n",
       "  </tbody>\n",
       "</table>\n",
       "</div>"
      ],
      "text/plain": [
       "   YEAR     TELEFONO  PEDIDOS_TA  KILOS_TA  TOTAL_PEDIDOS  TOTAL_KILOS  \\\n",
       "0  2020  229660976.0           3      35.0              5         65.0   \n",
       "1  2020  988048810.0          15     240.0             16        255.0   \n",
       "2  2020  982525155.0           4      71.0              6        112.0   \n",
       "3  2020  986855339.0          10     128.0             13        165.0   \n",
       "4  2020  993379629.0           6      88.0              7         99.0   \n",
       "\n",
       "   MESES_COMPRA FECHA_PRIMER_PEDIDO FECHA_ULTIMO_PEDIDO  frec_compra_promedio  \\\n",
       "0             5          2020-06-22          2020-12-08             42.250000   \n",
       "1             6          2020-05-19          2020-10-02              9.066667   \n",
       "2             3          2020-04-20          2020-09-01             26.800000   \n",
       "3             8          2020-01-21          2020-10-24             23.076923   \n",
       "4             5          2020-04-14          2020-08-21             41.428571   \n",
       "\n",
       "   desv_frec_compra  n_canales tipo_pedido TIPO_CLIENTE  predict_estufa  \\\n",
       "0          9.178780          1     OFFLINE      OFFLINE             1.0   \n",
       "1          4.832430          1      ONLINE       ONLINE             1.0   \n",
       "2         30.244008          1      ONLINE       ONLINE             1.0   \n",
       "3         24.098622          1      ONLINE       ONLINE             0.0   \n",
       "4         53.705546          2      ONLINE       ON-OFF             1.0   \n",
       "\n",
       "   predict_parrilla  predict_cocina  predict_calefont  porcentaje_pedidos_TA  \\\n",
       "0               0.0             1.0               1.0               0.600000   \n",
       "1               0.0             0.0               0.0               0.937500   \n",
       "2               0.0             1.0               1.0               0.666667   \n",
       "3               0.0             1.0               1.0               0.769231   \n",
       "4               0.0             1.0               0.0               0.857143   \n",
       "\n",
       "   recencia  \n",
       "0       120  \n",
       "1       187  \n",
       "2       218  \n",
       "3       165  \n",
       "4       229  "
      ]
     },
     "execution_count": 33,
     "metadata": {},
     "output_type": "execute_result"
    }
   ],
   "source": [
    "df_anual.head()"
   ]
  },
  {
   "cell_type": "code",
   "execution_count": 34,
   "metadata": {},
   "outputs": [
    {
     "data": {
      "text/html": [
       "<div>\n",
       "<style scoped>\n",
       "    .dataframe tbody tr th:only-of-type {\n",
       "        vertical-align: middle;\n",
       "    }\n",
       "\n",
       "    .dataframe tbody tr th {\n",
       "        vertical-align: top;\n",
       "    }\n",
       "\n",
       "    .dataframe thead th {\n",
       "        text-align: right;\n",
       "    }\n",
       "</style>\n",
       "<table border=\"1\" class=\"dataframe\">\n",
       "  <thead>\n",
       "    <tr style=\"text-align: right;\">\n",
       "      <th></th>\n",
       "      <th>YEAR</th>\n",
       "      <th>TELEFONO</th>\n",
       "      <th>PEDIDOS_TA</th>\n",
       "      <th>KILOS_TA</th>\n",
       "      <th>TOTAL_PEDIDOS</th>\n",
       "      <th>TOTAL_KILOS</th>\n",
       "      <th>MESES_COMPRA</th>\n",
       "      <th>FECHA_PRIMER_PEDIDO</th>\n",
       "      <th>FECHA_ULTIMO_PEDIDO</th>\n",
       "      <th>frec_compra_promedio</th>\n",
       "      <th>desv_frec_compra</th>\n",
       "      <th>n_canales</th>\n",
       "      <th>tipo_pedido</th>\n",
       "      <th>TIPO_CLIENTE</th>\n",
       "      <th>predict_estufa</th>\n",
       "      <th>predict_parrilla</th>\n",
       "      <th>predict_cocina</th>\n",
       "      <th>predict_calefont</th>\n",
       "      <th>porcentaje_pedidos_TA</th>\n",
       "      <th>recencia</th>\n",
       "    </tr>\n",
       "  </thead>\n",
       "  <tbody>\n",
       "    <tr>\n",
       "      <th>244857</th>\n",
       "      <td>2020</td>\n",
       "      <td>2379421.0</td>\n",
       "      <td>0</td>\n",
       "      <td>0.0</td>\n",
       "      <td>2</td>\n",
       "      <td>22.0</td>\n",
       "      <td>2</td>\n",
       "      <td>2020-02-18</td>\n",
       "      <td>2020-03-26</td>\n",
       "      <td>37.0</td>\n",
       "      <td>NaN</td>\n",
       "      <td>1</td>\n",
       "      <td>OFFLINE</td>\n",
       "      <td>OFFLINE</td>\n",
       "      <td>0.0</td>\n",
       "      <td>0.0</td>\n",
       "      <td>0.0</td>\n",
       "      <td>0.0</td>\n",
       "      <td>0.0</td>\n",
       "      <td>377</td>\n",
       "    </tr>\n",
       "    <tr>\n",
       "      <th>666258</th>\n",
       "      <td>2020</td>\n",
       "      <td>2947459.0</td>\n",
       "      <td>1</td>\n",
       "      <td>5.0</td>\n",
       "      <td>1</td>\n",
       "      <td>5.0</td>\n",
       "      <td>1</td>\n",
       "      <td>2020-08-13</td>\n",
       "      <td>2020-08-13</td>\n",
       "      <td>NaN</td>\n",
       "      <td>NaN</td>\n",
       "      <td>1</td>\n",
       "      <td>OFFLINE</td>\n",
       "      <td>OFFLINE</td>\n",
       "      <td>1.0</td>\n",
       "      <td>0.0</td>\n",
       "      <td>1.0</td>\n",
       "      <td>0.0</td>\n",
       "      <td>1.0</td>\n",
       "      <td>237</td>\n",
       "    </tr>\n",
       "    <tr>\n",
       "      <th>837518</th>\n",
       "      <td>2019</td>\n",
       "      <td>2970289.0</td>\n",
       "      <td>1</td>\n",
       "      <td>15.0</td>\n",
       "      <td>1</td>\n",
       "      <td>15.0</td>\n",
       "      <td>1</td>\n",
       "      <td>2019-07-19</td>\n",
       "      <td>2019-07-19</td>\n",
       "      <td>NaN</td>\n",
       "      <td>NaN</td>\n",
       "      <td>1</td>\n",
       "      <td>OFFLINE</td>\n",
       "      <td>OFFLINE</td>\n",
       "      <td>1.0</td>\n",
       "      <td>0.0</td>\n",
       "      <td>1.0</td>\n",
       "      <td>0.0</td>\n",
       "      <td>1.0</td>\n",
       "      <td>628</td>\n",
       "    </tr>\n",
       "    <tr>\n",
       "      <th>952604</th>\n",
       "      <td>2019</td>\n",
       "      <td>5733424.0</td>\n",
       "      <td>1</td>\n",
       "      <td>30.0</td>\n",
       "      <td>1</td>\n",
       "      <td>30.0</td>\n",
       "      <td>1</td>\n",
       "      <td>2019-05-19</td>\n",
       "      <td>2019-05-19</td>\n",
       "      <td>NaN</td>\n",
       "      <td>NaN</td>\n",
       "      <td>1</td>\n",
       "      <td>OFFLINE</td>\n",
       "      <td>OFFLINE</td>\n",
       "      <td>0.0</td>\n",
       "      <td>0.0</td>\n",
       "      <td>1.0</td>\n",
       "      <td>1.0</td>\n",
       "      <td>1.0</td>\n",
       "      <td>689</td>\n",
       "    </tr>\n",
       "    <tr>\n",
       "      <th>460334</th>\n",
       "      <td>2019</td>\n",
       "      <td>8911356.0</td>\n",
       "      <td>0</td>\n",
       "      <td>0.0</td>\n",
       "      <td>1</td>\n",
       "      <td>15.0</td>\n",
       "      <td>1</td>\n",
       "      <td>2019-12-21</td>\n",
       "      <td>2019-12-21</td>\n",
       "      <td>NaN</td>\n",
       "      <td>NaN</td>\n",
       "      <td>1</td>\n",
       "      <td>OFFLINE</td>\n",
       "      <td>OFFLINE</td>\n",
       "      <td>0.0</td>\n",
       "      <td>0.0</td>\n",
       "      <td>0.0</td>\n",
       "      <td>0.0</td>\n",
       "      <td>0.0</td>\n",
       "      <td>473</td>\n",
       "    </tr>\n",
       "  </tbody>\n",
       "</table>\n",
       "</div>"
      ],
      "text/plain": [
       "        YEAR   TELEFONO  PEDIDOS_TA  KILOS_TA  TOTAL_PEDIDOS  TOTAL_KILOS  \\\n",
       "244857  2020  2379421.0           0       0.0              2         22.0   \n",
       "666258  2020  2947459.0           1       5.0              1          5.0   \n",
       "837518  2019  2970289.0           1      15.0              1         15.0   \n",
       "952604  2019  5733424.0           1      30.0              1         30.0   \n",
       "460334  2019  8911356.0           0       0.0              1         15.0   \n",
       "\n",
       "        MESES_COMPRA FECHA_PRIMER_PEDIDO FECHA_ULTIMO_PEDIDO  \\\n",
       "244857             2          2020-02-18          2020-03-26   \n",
       "666258             1          2020-08-13          2020-08-13   \n",
       "837518             1          2019-07-19          2019-07-19   \n",
       "952604             1          2019-05-19          2019-05-19   \n",
       "460334             1          2019-12-21          2019-12-21   \n",
       "\n",
       "        frec_compra_promedio  desv_frec_compra  n_canales tipo_pedido  \\\n",
       "244857                  37.0               NaN          1     OFFLINE   \n",
       "666258                   NaN               NaN          1     OFFLINE   \n",
       "837518                   NaN               NaN          1     OFFLINE   \n",
       "952604                   NaN               NaN          1     OFFLINE   \n",
       "460334                   NaN               NaN          1     OFFLINE   \n",
       "\n",
       "       TIPO_CLIENTE  predict_estufa  predict_parrilla  predict_cocina  \\\n",
       "244857      OFFLINE             0.0               0.0             0.0   \n",
       "666258      OFFLINE             1.0               0.0             1.0   \n",
       "837518      OFFLINE             1.0               0.0             1.0   \n",
       "952604      OFFLINE             0.0               0.0             1.0   \n",
       "460334      OFFLINE             0.0               0.0             0.0   \n",
       "\n",
       "        predict_calefont  porcentaje_pedidos_TA  recencia  \n",
       "244857               0.0                    0.0       377  \n",
       "666258               0.0                    1.0       237  \n",
       "837518               0.0                    1.0       628  \n",
       "952604               1.0                    1.0       689  \n",
       "460334               0.0                    0.0       473  "
      ]
     },
     "execution_count": 34,
     "metadata": {},
     "output_type": "execute_result"
    }
   ],
   "source": [
    "#df_recencia = df_recencia.sort_values(by='YEAR', ascending=False).groupby(level=0).first().reset_index()\n",
    "df_anual.sort_values(by = 'TELEFONO',ascending = True, inplace = True)\n",
    "cumsum = df_anual[['TELEFONO','MESES_COMPRA']].groupby(['TELEFONO']).cumsum()\n",
    "df_anual.head()"
   ]
  },
  {
   "cell_type": "code",
   "execution_count": 35,
   "metadata": {},
   "outputs": [],
   "source": [
    "df_anual['suma_acum'] = cumsum\n",
    "b = df_anual[['YEAR','TELEFONO','MESES_COMPRA','suma_acum']].head()"
   ]
  },
  {
   "cell_type": "code",
   "execution_count": 36,
   "metadata": {},
   "outputs": [
    {
     "data": {
      "text/plain": [
       "12"
      ]
     },
     "execution_count": 36,
     "metadata": {},
     "output_type": "execute_result"
    }
   ],
   "source": [
    "df_anual.MESES_COMPRA.max()"
   ]
  },
  {
   "cell_type": "code",
   "execution_count": 37,
   "metadata": {},
   "outputs": [
    {
     "data": {
      "text/html": [
       "<div>\n",
       "<style scoped>\n",
       "    .dataframe tbody tr th:only-of-type {\n",
       "        vertical-align: middle;\n",
       "    }\n",
       "\n",
       "    .dataframe tbody tr th {\n",
       "        vertical-align: top;\n",
       "    }\n",
       "\n",
       "    .dataframe thead th {\n",
       "        text-align: right;\n",
       "    }\n",
       "</style>\n",
       "<table border=\"1\" class=\"dataframe\">\n",
       "  <thead>\n",
       "    <tr style=\"text-align: right;\">\n",
       "      <th></th>\n",
       "      <th>TELEFONO</th>\n",
       "      <th>YEAR</th>\n",
       "      <th>PEDIDOS_TA</th>\n",
       "      <th>KILOS_TA</th>\n",
       "      <th>TOTAL_PEDIDOS</th>\n",
       "      <th>TOTAL_KILOS</th>\n",
       "      <th>MESES_COMPRA</th>\n",
       "      <th>FECHA_PRIMER_PEDIDO</th>\n",
       "      <th>FECHA_ULTIMO_PEDIDO</th>\n",
       "      <th>frec_compra_promedio</th>\n",
       "      <th>...</th>\n",
       "      <th>n_canales</th>\n",
       "      <th>tipo_pedido</th>\n",
       "      <th>TIPO_CLIENTE</th>\n",
       "      <th>predict_estufa</th>\n",
       "      <th>predict_parrilla</th>\n",
       "      <th>predict_cocina</th>\n",
       "      <th>predict_calefont</th>\n",
       "      <th>porcentaje_pedidos_TA</th>\n",
       "      <th>recencia</th>\n",
       "      <th>suma_acum</th>\n",
       "    </tr>\n",
       "  </thead>\n",
       "  <tbody>\n",
       "    <tr>\n",
       "      <th>0</th>\n",
       "      <td>2379421.0</td>\n",
       "      <td>2020</td>\n",
       "      <td>0</td>\n",
       "      <td>0.0</td>\n",
       "      <td>2</td>\n",
       "      <td>22.0</td>\n",
       "      <td>2</td>\n",
       "      <td>2020-02-18</td>\n",
       "      <td>2020-03-26</td>\n",
       "      <td>37.0</td>\n",
       "      <td>...</td>\n",
       "      <td>1</td>\n",
       "      <td>OFFLINE</td>\n",
       "      <td>OFFLINE</td>\n",
       "      <td>0.0</td>\n",
       "      <td>0.0</td>\n",
       "      <td>0.0</td>\n",
       "      <td>0.0</td>\n",
       "      <td>0.0</td>\n",
       "      <td>377</td>\n",
       "      <td>2</td>\n",
       "    </tr>\n",
       "    <tr>\n",
       "      <th>1</th>\n",
       "      <td>2947459.0</td>\n",
       "      <td>2020</td>\n",
       "      <td>1</td>\n",
       "      <td>5.0</td>\n",
       "      <td>1</td>\n",
       "      <td>5.0</td>\n",
       "      <td>1</td>\n",
       "      <td>2020-08-13</td>\n",
       "      <td>2020-08-13</td>\n",
       "      <td>NaN</td>\n",
       "      <td>...</td>\n",
       "      <td>1</td>\n",
       "      <td>OFFLINE</td>\n",
       "      <td>OFFLINE</td>\n",
       "      <td>1.0</td>\n",
       "      <td>0.0</td>\n",
       "      <td>1.0</td>\n",
       "      <td>0.0</td>\n",
       "      <td>1.0</td>\n",
       "      <td>237</td>\n",
       "      <td>1</td>\n",
       "    </tr>\n",
       "  </tbody>\n",
       "</table>\n",
       "<p>2 rows × 21 columns</p>\n",
       "</div>"
      ],
      "text/plain": [
       "    TELEFONO  YEAR  PEDIDOS_TA  KILOS_TA  TOTAL_PEDIDOS  TOTAL_KILOS  \\\n",
       "0  2379421.0  2020           0       0.0              2         22.0   \n",
       "1  2947459.0  2020           1       5.0              1          5.0   \n",
       "\n",
       "   MESES_COMPRA FECHA_PRIMER_PEDIDO FECHA_ULTIMO_PEDIDO  frec_compra_promedio  \\\n",
       "0             2          2020-02-18          2020-03-26                  37.0   \n",
       "1             1          2020-08-13          2020-08-13                   NaN   \n",
       "\n",
       "   ...  n_canales  tipo_pedido TIPO_CLIENTE predict_estufa  predict_parrilla  \\\n",
       "0  ...          1      OFFLINE      OFFLINE            0.0               0.0   \n",
       "1  ...          1      OFFLINE      OFFLINE            1.0               0.0   \n",
       "\n",
       "   predict_cocina  predict_calefont  porcentaje_pedidos_TA  recencia  \\\n",
       "0             0.0               0.0                    0.0       377   \n",
       "1             1.0               0.0                    1.0       237   \n",
       "\n",
       "   suma_acum  \n",
       "0          2  \n",
       "1          1  \n",
       "\n",
       "[2 rows x 21 columns]"
      ]
     },
     "execution_count": 37,
     "metadata": {},
     "output_type": "execute_result"
    }
   ],
   "source": [
    "df_recencia = df_anual.set_index('TELEFONO')\n",
    "df_recencia = df_recencia.sort_values(by='YEAR', ascending=False).groupby(level=0).first().reset_index()\n",
    "df_recencia.head(2)"
   ]
  },
  {
   "cell_type": "code",
   "execution_count": 38,
   "metadata": {},
   "outputs": [
    {
     "name": "stdout",
     "output_type": "stream",
     "text": [
      "#N Clientes excluyendo exclusivos TA: 852159\n"
     ]
    },
    {
     "data": {
      "text/plain": [
       "<AxesSubplot:xlabel='recencia', ylabel='Probability'>"
      ]
     },
     "execution_count": 38,
     "metadata": {},
     "output_type": "execute_result"
    },
    {
     "data": {
      "image/png": "[encoded data removed]",
      "text/plain": [
       "<Figure size 1080x360 with 2 Axes>"
      ]
     },
     "metadata": {
      "needs_background": "light"
     },
     "output_type": "display_data"
    }
   ],
   "source": [
    "df_filtrado = df_recencia[~df_recencia['TELEFONO'].isin(clientes_solo_TA )]\n",
    "print('#N Clientes excluyendo exclusivos TA:',len(df_filtrado))\n",
    "\n",
    "fig, axs = plt.subplots(2, figsize = (15,5), sharex = True)\n",
    "fig.suptitle('Distribucion recencian (sin Exclusivos TA)', fontsize=16)\n",
    "\n",
    "sns.histplot(ax = axs[0], data = df_filtrado, x = 'recencia')\n",
    "sns.histplot(ax = axs[1], data = df_filtrado, x = 'recencia',\n",
    "             cumulative=True,element=\"step\",fill=False, stat='probability')"
   ]
  },
  {
   "cell_type": "code",
   "execution_count": 39,
   "metadata": {},
   "outputs": [],
   "source": [
    "df_filtrado_2020 = df_filtrado[df_filtrado.YEAR == 2020]"
   ]
  },
  {
   "cell_type": "code",
   "execution_count": 40,
   "metadata": {},
   "outputs": [
    {
     "name": "stdout",
     "output_type": "stream",
     "text": [
      "#N Clientes excluyendo exclusivos TA: 456780\n"
     ]
    },
    {
     "data": {
      "image/png": "[encoded data removed]",
      "text/plain": [
       "<Figure size 1080x360 with 2 Axes>"
      ]
     },
     "metadata": {
      "needs_background": "light"
     },
     "output_type": "display_data"
    }
   ],
   "source": [
    "print('#N Clientes excluyendo exclusivos TA:',len(df_filtrado_2020))\n",
    "\n",
    "fig, axs = plt.subplots(2, figsize = (15,5), sharex = True)\n",
    "fig.suptitle('Distribucion recencian (Clientes solo 2020 y sin exclusivos TA)', fontsize=16)\n",
    "\n",
    "sns.histplot(ax = axs[0], data = df_filtrado_2020, x = 'recencia')\n",
    "sns.histplot(ax = axs[1], data = df_filtrado_2020, x = 'recencia',\n",
    "             cumulative=True,element=\"step\",fill=False, stat='probability')\n",
    "fig.savefig('Distr_recencia.png', bbox_inches='tight')"
   ]
  },
  {
   "cell_type": "code",
   "execution_count": 41,
   "metadata": {},
   "outputs": [
    {
     "data": {
      "text/plain": [
       "0.25    180.0\n",
       "0.50    239.0\n",
       "0.75    303.0\n",
       "0.90    389.0\n",
       "Name: recencia, dtype: float64"
      ]
     },
     "execution_count": 41,
     "metadata": {},
     "output_type": "execute_result"
    }
   ],
   "source": [
    "df_filtrado_2020.recencia.quantile(q = [0.25,0.5,0.75,0.9])"
   ]
  },
  {
   "cell_type": "markdown",
   "metadata": {},
   "source": [
    "Visualmente pareciera ser que la cantidad de clientes acumulados vs la recencia posee un comportamiento lineal a tramos, en donde los puntos de inflexion se encuentran entre los 200 y 250 días. Vemos que:\n",
    "    1. El 25% de los clientes tiene una recencia de hasta 136 días.\n",
    "    2. El 50% de los clientes tiene una recencia de hasta 199 días.\n",
    "    3. El 75% de los clientes tiene una recencia de hasta 265 días.\n",
    "    4. El 90% de los clientes tiene una recencia de hasta 353 días (casi un año)."
   ]
  },
  {
   "cell_type": "code",
   "execution_count": 42,
   "metadata": {},
   "outputs": [
    {
     "data": {
      "image/png": "[encoded data removed]",
      "text/plain": [
       "<Figure size 1080x360 with 2 Axes>"
      ]
     },
     "metadata": {
      "needs_background": "light"
     },
     "output_type": "display_data"
    }
   ],
   "source": [
    "fig, axs = plt.subplots(2, figsize = (15,5), sharex = True)\n",
    "fig.suptitle('Distribucion frecuencia de compra promedio por Cliente', fontsize=16)\n",
    "\n",
    "sns.histplot(ax = axs[0], data = df_filtrado_2020, x = 'frec_compra_promedio')\n",
    "sns.histplot(ax = axs[1], data = df_filtrado_2020, x = 'frec_compra_promedio',\n",
    "             cumulative=True,element=\"step\",fill=False, stat='probability')\n",
    "\n",
    "fig.savefig('Distr_frec.png', bbox_inches='tight')"
   ]
  },
  {
   "cell_type": "code",
   "execution_count": 43,
   "metadata": {},
   "outputs": [
    {
     "data": {
      "text/plain": [
       "<AxesSubplot:xlabel='frec_compra_promedio'>"
      ]
     },
     "execution_count": 43,
     "metadata": {},
     "output_type": "execute_result"
    },
    {
     "data": {
      "image/png": "[encoded data removed]",
      "text/plain": [
       "<Figure size 720x360 with 1 Axes>"
      ]
     },
     "metadata": {
      "needs_background": "light"
     },
     "output_type": "display_data"
    }
   ],
   "source": [
    "plt.figure(figsize = (10,5))\n",
    "sns.boxplot(data = df_filtrado_2020, x = 'frec_compra_promedio')"
   ]
  },
  {
   "cell_type": "code",
   "execution_count": 44,
   "metadata": {},
   "outputs": [
    {
     "data": {
      "text/plain": [
       "0.75    102.5\n",
       "0.80    124.0\n",
       "0.90    205.0\n",
       "Name: frec_compra_promedio, dtype: float64"
      ]
     },
     "execution_count": 44,
     "metadata": {},
     "output_type": "execute_result"
    }
   ],
   "source": [
    "df_filtrado_2020.frec_compra_promedio.quantile(q = [0.75,0.8,0.9])"
   ]
  },
  {
   "cell_type": "markdown",
   "metadata": {},
   "source": [
    "Los clientes con más de una compra suelen comprar, a lo más, cada 200 días. El 75% de los clientes, con más de una compra, realizó su segundo pedido en 3 meses (90 días). Consideramos el valor del ticket promedio como $20.000, calculado usando el valor de todos los pedidos no anulados de Gasconnect."
   ]
  },
  {
   "cell_type": "code",
   "execution_count": 45,
   "metadata": {},
   "outputs": [
    {
     "data": {
      "text/html": [
       "<div>\n",
       "<style scoped>\n",
       "    .dataframe tbody tr th:only-of-type {\n",
       "        vertical-align: middle;\n",
       "    }\n",
       "\n",
       "    .dataframe tbody tr th {\n",
       "        vertical-align: top;\n",
       "    }\n",
       "\n",
       "    .dataframe thead th {\n",
       "        text-align: right;\n",
       "    }\n",
       "</style>\n",
       "<table border=\"1\" class=\"dataframe\">\n",
       "  <thead>\n",
       "    <tr style=\"text-align: right;\">\n",
       "      <th></th>\n",
       "      <th>TELEFONO</th>\n",
       "      <th>YEAR</th>\n",
       "      <th>PEDIDOS_TA</th>\n",
       "      <th>KILOS_TA</th>\n",
       "      <th>TOTAL_PEDIDOS</th>\n",
       "      <th>TOTAL_KILOS</th>\n",
       "      <th>MESES_COMPRA</th>\n",
       "      <th>FECHA_PRIMER_PEDIDO</th>\n",
       "      <th>FECHA_ULTIMO_PEDIDO</th>\n",
       "      <th>frec_compra_promedio</th>\n",
       "      <th>...</th>\n",
       "      <th>n_canales</th>\n",
       "      <th>tipo_pedido</th>\n",
       "      <th>TIPO_CLIENTE</th>\n",
       "      <th>predict_estufa</th>\n",
       "      <th>predict_parrilla</th>\n",
       "      <th>predict_cocina</th>\n",
       "      <th>predict_calefont</th>\n",
       "      <th>porcentaje_pedidos_TA</th>\n",
       "      <th>recencia</th>\n",
       "      <th>suma_acum</th>\n",
       "    </tr>\n",
       "  </thead>\n",
       "  <tbody>\n",
       "    <tr>\n",
       "      <th>0</th>\n",
       "      <td>2379421.0</td>\n",
       "      <td>2020</td>\n",
       "      <td>0</td>\n",
       "      <td>0.0</td>\n",
       "      <td>2</td>\n",
       "      <td>22.0</td>\n",
       "      <td>2</td>\n",
       "      <td>2020-02-18</td>\n",
       "      <td>2020-03-26</td>\n",
       "      <td>37.0</td>\n",
       "      <td>...</td>\n",
       "      <td>1</td>\n",
       "      <td>OFFLINE</td>\n",
       "      <td>OFFLINE</td>\n",
       "      <td>0.0</td>\n",
       "      <td>0.0</td>\n",
       "      <td>0.0</td>\n",
       "      <td>0.0</td>\n",
       "      <td>0.0</td>\n",
       "      <td>377</td>\n",
       "      <td>2</td>\n",
       "    </tr>\n",
       "    <tr>\n",
       "      <th>1</th>\n",
       "      <td>2947459.0</td>\n",
       "      <td>2020</td>\n",
       "      <td>1</td>\n",
       "      <td>5.0</td>\n",
       "      <td>1</td>\n",
       "      <td>5.0</td>\n",
       "      <td>1</td>\n",
       "      <td>2020-08-13</td>\n",
       "      <td>2020-08-13</td>\n",
       "      <td>NaN</td>\n",
       "      <td>...</td>\n",
       "      <td>1</td>\n",
       "      <td>OFFLINE</td>\n",
       "      <td>OFFLINE</td>\n",
       "      <td>1.0</td>\n",
       "      <td>0.0</td>\n",
       "      <td>1.0</td>\n",
       "      <td>0.0</td>\n",
       "      <td>1.0</td>\n",
       "      <td>237</td>\n",
       "      <td>1</td>\n",
       "    </tr>\n",
       "  </tbody>\n",
       "</table>\n",
       "<p>2 rows × 21 columns</p>\n",
       "</div>"
      ],
      "text/plain": [
       "    TELEFONO  YEAR  PEDIDOS_TA  KILOS_TA  TOTAL_PEDIDOS  TOTAL_KILOS  \\\n",
       "0  2379421.0  2020           0       0.0              2         22.0   \n",
       "1  2947459.0  2020           1       5.0              1          5.0   \n",
       "\n",
       "   MESES_COMPRA FECHA_PRIMER_PEDIDO FECHA_ULTIMO_PEDIDO  frec_compra_promedio  \\\n",
       "0             2          2020-02-18          2020-03-26                  37.0   \n",
       "1             1          2020-08-13          2020-08-13                   NaN   \n",
       "\n",
       "   ...  n_canales  tipo_pedido TIPO_CLIENTE predict_estufa  predict_parrilla  \\\n",
       "0  ...          1      OFFLINE      OFFLINE            0.0               0.0   \n",
       "1  ...          1      OFFLINE      OFFLINE            1.0               0.0   \n",
       "\n",
       "   predict_cocina  predict_calefont  porcentaje_pedidos_TA  recencia  \\\n",
       "0             0.0               0.0                    0.0       377   \n",
       "1             1.0               0.0                    1.0       237   \n",
       "\n",
       "   suma_acum  \n",
       "0          2  \n",
       "1          1  \n",
       "\n",
       "[2 rows x 21 columns]"
      ]
     },
     "execution_count": 45,
     "metadata": {},
     "output_type": "execute_result"
    }
   ],
   "source": [
    "df_fugados = df_filtrado_2020[df_filtrado_2020['recencia'] > 90]\n",
    "df_fugados.head(2)"
   ]
  },
  {
   "cell_type": "code",
   "execution_count": 46,
   "metadata": {},
   "outputs": [
    {
     "name": "stdout",
     "output_type": "stream",
     "text": [
      "219935\n",
      "456780\n"
     ]
    }
   ],
   "source": [
    "# Cantidad de clientes considerados \"Fugados\"\n",
    "print(len(df_fugados[df_fugados['porcentaje_pedidos_TA'] == 1]))\n",
    "print(len(df_fugados))"
   ]
  },
  {
   "cell_type": "markdown",
   "metadata": {},
   "source": [
    "## Estimacion (Gruesa del valor) y resumen:"
   ]
  },
  {
   "cell_type": "markdown",
   "metadata": {},
   "source": [
    "1. Utilizamos como Benchmark una recencia de 100 días (3.3 meses aprox). Este Benchmark es una estimación gruesa de contrastar la frec de compra para los clientes que tienen más de un medido y la recencia. Para esto se consideran solo a los Clientes que compraron durante el 2020.\n",
    "2. Se eliminan del analisis clientes que solo tienen pedidos en temporada alta durante el 2019 y 2020, los cuales son catalogados como clientes especificos de dicha temporada, correspondiendo a un total de 13094 clientes.\n",
    "3. Con lo anterior, con fecha 2021-03-02, hay un total de 412852 clientes que realizaron su último pedido hace más de 100 días, de los cuales 214901 realizaron su ultimo pedido en temporada alta.\n",
    "4. Si consideramos un Ticket Promedio de **CLP 20.000** (valor obtenido usando todas las transacciones de Gasconnect de 2020 completados y no anulados), un potencial de clientes de 197951, obtenido de restar el total de clientes \"Fugados\" y los que realizaron su ultima compra en temporada alta, con una conversion del 2%, nos da un valor potencia estimado de **CLP 79.180.400**"
   ]
  },
  {
   "cell_type": "markdown",
   "metadata": {},
   "source": [
    "# Analisis de reposicion del gas"
   ]
  },
  {
   "cell_type": "code",
   "execution_count": 47,
   "metadata": {},
   "outputs": [
    {
     "data": {
      "text/plain": [
       "66422"
      ]
     },
     "execution_count": 47,
     "metadata": {},
     "output_type": "execute_result"
    }
   ],
   "source": [
    "df_clientes_regulares = df_filtrado_2020[df_filtrado_2020['TOTAL_PEDIDOS'] > 3]\n",
    "len(df_clientes_regulares)"
   ]
  },
  {
   "cell_type": "code",
   "execution_count": 48,
   "metadata": {},
   "outputs": [
    {
     "data": {
      "text/plain": [
       "65913"
      ]
     },
     "execution_count": 48,
     "metadata": {},
     "output_type": "execute_result"
    }
   ],
   "source": [
    "df_1 = df_clientes_regulares[df_clientes_regulares['frec_compra_promedio'] < df_clientes_regulares['recencia']]\n",
    "len(df_1)"
   ]
  },
  {
   "cell_type": "code",
   "execution_count": 49,
   "metadata": {},
   "outputs": [
    {
     "name": "stderr",
     "output_type": "stream",
     "text": [
      "<ipython-input-49-92b43e353aa9>:1: SettingWithCopyWarning: \n",
      "A value is trying to be set on a copy of a slice from a DataFrame.\n",
      "Try using .loc[row_indexer,col_indexer] = value instead\n",
      "\n",
      "See the caveats in the documentation: https://pandas.pydata.org/pandas-docs/stable/user_guide/indexing.html#returning-a-view-versus-a-copy\n",
      "  df_1['benchmark'] = df_1['frec_compra_promedio'] + 2*df_1['desv_frec_compra']\n"
     ]
    },
    {
     "data": {
      "text/plain": [
       "52168"
      ]
     },
     "execution_count": 49,
     "metadata": {},
     "output_type": "execute_result"
    }
   ],
   "source": [
    "df_1['benchmark'] = df_1['frec_compra_promedio'] + 2*df_1['desv_frec_compra']\n",
    "df_2 = df_1[df_1['benchmark'] < df_1['recencia']]\n",
    "len(df_2)"
   ]
  },
  {
   "cell_type": "markdown",
   "metadata": {},
   "source": [
    "# Testing code"
   ]
  }
 ],
 "metadata": {
  "kernelspec": {
   "display_name": "Python 3",
   "language": "python",
   "name": "python3"
  },
  "language_info": {
   "codemirror_mode": {
    "name": "ipython",
    "version": 3
   },
   "file_extension": ".py",
   "mimetype": "text/x-python",
   "name": "python",
   "nbconvert_exporter": "python",
   "pygments_lexer": "ipython3",
   "version": "3.8.3"
  }
 },
 "nbformat": 4,
 "nbformat_minor": 4
}
